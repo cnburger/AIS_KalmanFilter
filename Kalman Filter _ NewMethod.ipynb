{
 "cells": [
  {
   "cell_type": "code",
   "execution_count": 1,
   "metadata": {},
   "outputs": [],
   "source": [
    "import numpy as np\n",
    "import pandas as pd\n",
    "import copy\n",
    "import matplotlib.pyplot as plt\n",
    "import math"
   ]
  },
  {
   "cell_type": "markdown",
   "metadata": {},
   "source": [
    "# Importing the dataset"
   ]
  },
  {
   "cell_type": "code",
   "execution_count": 2,
   "metadata": {},
   "outputs": [
    {
     "name": "stdout",
     "output_type": "stream",
     "text": [
      "   time  delta_time        X        Y  rot  Vmps  rot_sec\n",
      "0     0           0  6062445  4368335  3.8   5.2     0.13\n",
      "1    11          11  6062500  4368343  5.1   5.2     0.12\n",
      "2    20           9  6062556  4368351  6.3   5.2    -0.10\n",
      "3    29           9  6062600  4368359  5.3   5.4     0.35\n",
      "4    39          10  6062655  4368367  8.8   5.3    -0.12\n"
     ]
    }
   ],
   "source": [
    "polish_data = pd.read_csv(r\"polish_data.csv\")\n",
    "print(polish_data.head())"
   ]
  },
  {
   "cell_type": "markdown",
   "metadata": {},
   "source": [
    "## Adding onbservations at each index $\\Delta t = 1$"
   ]
  },
  {
   "cell_type": "code",
   "execution_count": 28,
   "metadata": {},
   "outputs": [],
   "source": [
    "#Get the last time index\n",
    "last_time = polish_data.iloc[-1][0]\n",
    "upper_time = int(math.ceil(last_time / 10.0)) * 10 #rounding to nearest 10\n",
    "upper_time\n",
    "\n",
    "time_temp = np.arange(0,upper_time,1)\n",
    "\n",
    "\n",
    "insert_blank = pd.DataFrame({'time': 0,\"delta_time\":1,\"X\":0,\"Y\":0, \"rot\":0, \"Vmps\":0, \"rot_sec\":0}, index = [0])\n",
    "new_polish_dat =  pd.DataFrame({'time': 0,\"delta_time\":1,\"X\":0,\"Y\":0, \"rot\":0, \"Vmps\":0, \"rot_sec\":0}, index = [0])\n",
    "\n",
    "k=0\n",
    "\n",
    "for i in time_temp:\n",
    "    insert_blank = pd.DataFrame({'time': i,\"delta_time\":1,\"X\":0,\"Y\":0, \"rot\":0, \"Vmps\":0, \"rot_sec\":0}, index = [0])\n",
    "    if(time_temp[i] !=  int(polish_data.iloc[k][0])):\n",
    "        new_polish_dat =pd.concat([new_polish_dat, insert_blank])\n",
    "    else:\n",
    "        new_polish_dat = pd.concat([new_polish_dat, pd.DataFrame.transpose(pd.DataFrame(polish_data.iloc[k]))])\n",
    "        k += 1\n",
    "        "
   ]
  },
  {
   "cell_type": "code",
   "execution_count": 29,
   "metadata": {},
   "outputs": [
    {
     "data": {
      "text/html": [
       "<div>\n",
       "<style scoped>\n",
       "    .dataframe tbody tr th:only-of-type {\n",
       "        vertical-align: middle;\n",
       "    }\n",
       "\n",
       "    .dataframe tbody tr th {\n",
       "        vertical-align: top;\n",
       "    }\n",
       "\n",
       "    .dataframe thead th {\n",
       "        text-align: right;\n",
       "    }\n",
       "</style>\n",
       "<table border=\"1\" class=\"dataframe\">\n",
       "  <thead>\n",
       "    <tr style=\"text-align: right;\">\n",
       "      <th></th>\n",
       "      <th>time</th>\n",
       "      <th>delta_time</th>\n",
       "      <th>X</th>\n",
       "      <th>Y</th>\n",
       "      <th>rot</th>\n",
       "      <th>Vmps</th>\n",
       "      <th>rot_sec</th>\n",
       "    </tr>\n",
       "  </thead>\n",
       "  <tbody>\n",
       "    <tr>\n",
       "      <th>0</th>\n",
       "      <td>0.0</td>\n",
       "      <td>0.0</td>\n",
       "      <td>6062445.0</td>\n",
       "      <td>4368335.0</td>\n",
       "      <td>3.8</td>\n",
       "      <td>5.2</td>\n",
       "      <td>0.13</td>\n",
       "    </tr>\n",
       "  </tbody>\n",
       "</table>\n",
       "</div>"
      ],
      "text/plain": [
       "   time  delta_time          X          Y  rot  Vmps  rot_sec\n",
       "0   0.0         0.0  6062445.0  4368335.0  3.8   5.2     0.13"
      ]
     },
     "execution_count": 29,
     "metadata": {},
     "output_type": "execute_result"
    }
   ],
   "source": [
    "pd.DataFrame.transpose(pd.DataFrame(polish_data.iloc[0]))"
   ]
  },
  {
   "cell_type": "code",
   "execution_count": 30,
   "metadata": {
    "scrolled": true
   },
   "outputs": [
    {
     "data": {
      "text/html": [
       "<div>\n",
       "<style scoped>\n",
       "    .dataframe tbody tr th:only-of-type {\n",
       "        vertical-align: middle;\n",
       "    }\n",
       "\n",
       "    .dataframe tbody tr th {\n",
       "        vertical-align: top;\n",
       "    }\n",
       "\n",
       "    .dataframe thead th {\n",
       "        text-align: right;\n",
       "    }\n",
       "</style>\n",
       "<table border=\"1\" class=\"dataframe\">\n",
       "  <thead>\n",
       "    <tr style=\"text-align: right;\">\n",
       "      <th></th>\n",
       "      <th>time</th>\n",
       "      <th>delta_time</th>\n",
       "      <th>X</th>\n",
       "      <th>Y</th>\n",
       "      <th>rot</th>\n",
       "      <th>Vmps</th>\n",
       "      <th>rot_sec</th>\n",
       "    </tr>\n",
       "  </thead>\n",
       "  <tbody>\n",
       "    <tr>\n",
       "      <th>0</th>\n",
       "      <td>0.0</td>\n",
       "      <td>1.0</td>\n",
       "      <td>0.0</td>\n",
       "      <td>0.0</td>\n",
       "      <td>0.0</td>\n",
       "      <td>0.0</td>\n",
       "      <td>0.00</td>\n",
       "    </tr>\n",
       "    <tr>\n",
       "      <th>0</th>\n",
       "      <td>0.0</td>\n",
       "      <td>0.0</td>\n",
       "      <td>6062445.0</td>\n",
       "      <td>4368335.0</td>\n",
       "      <td>3.8</td>\n",
       "      <td>5.2</td>\n",
       "      <td>0.13</td>\n",
       "    </tr>\n",
       "    <tr>\n",
       "      <th>0</th>\n",
       "      <td>1.0</td>\n",
       "      <td>1.0</td>\n",
       "      <td>0.0</td>\n",
       "      <td>0.0</td>\n",
       "      <td>0.0</td>\n",
       "      <td>0.0</td>\n",
       "      <td>0.00</td>\n",
       "    </tr>\n",
       "    <tr>\n",
       "      <th>0</th>\n",
       "      <td>2.0</td>\n",
       "      <td>1.0</td>\n",
       "      <td>0.0</td>\n",
       "      <td>0.0</td>\n",
       "      <td>0.0</td>\n",
       "      <td>0.0</td>\n",
       "      <td>0.00</td>\n",
       "    </tr>\n",
       "    <tr>\n",
       "      <th>0</th>\n",
       "      <td>3.0</td>\n",
       "      <td>1.0</td>\n",
       "      <td>0.0</td>\n",
       "      <td>0.0</td>\n",
       "      <td>0.0</td>\n",
       "      <td>0.0</td>\n",
       "      <td>0.00</td>\n",
       "    </tr>\n",
       "    <tr>\n",
       "      <th>...</th>\n",
       "      <td>...</td>\n",
       "      <td>...</td>\n",
       "      <td>...</td>\n",
       "      <td>...</td>\n",
       "      <td>...</td>\n",
       "      <td>...</td>\n",
       "      <td>...</td>\n",
       "    </tr>\n",
       "    <tr>\n",
       "      <th>0</th>\n",
       "      <td>375.0</td>\n",
       "      <td>1.0</td>\n",
       "      <td>0.0</td>\n",
       "      <td>0.0</td>\n",
       "      <td>0.0</td>\n",
       "      <td>0.0</td>\n",
       "      <td>0.00</td>\n",
       "    </tr>\n",
       "    <tr>\n",
       "      <th>0</th>\n",
       "      <td>376.0</td>\n",
       "      <td>1.0</td>\n",
       "      <td>0.0</td>\n",
       "      <td>0.0</td>\n",
       "      <td>0.0</td>\n",
       "      <td>0.0</td>\n",
       "      <td>0.00</td>\n",
       "    </tr>\n",
       "    <tr>\n",
       "      <th>0</th>\n",
       "      <td>377.0</td>\n",
       "      <td>1.0</td>\n",
       "      <td>0.0</td>\n",
       "      <td>0.0</td>\n",
       "      <td>0.0</td>\n",
       "      <td>0.0</td>\n",
       "      <td>0.00</td>\n",
       "    </tr>\n",
       "    <tr>\n",
       "      <th>0</th>\n",
       "      <td>378.0</td>\n",
       "      <td>1.0</td>\n",
       "      <td>0.0</td>\n",
       "      <td>0.0</td>\n",
       "      <td>0.0</td>\n",
       "      <td>0.0</td>\n",
       "      <td>0.00</td>\n",
       "    </tr>\n",
       "    <tr>\n",
       "      <th>19</th>\n",
       "      <td>379.0</td>\n",
       "      <td>19.0</td>\n",
       "      <td>6064540.0</td>\n",
       "      <td>4368667.0</td>\n",
       "      <td>10.0</td>\n",
       "      <td>5.9</td>\n",
       "      <td>-0.10</td>\n",
       "    </tr>\n",
       "  </tbody>\n",
       "</table>\n",
       "<p>381 rows × 7 columns</p>\n",
       "</div>"
      ],
      "text/plain": [
       "     time  delta_time          X          Y   rot  Vmps  rot_sec\n",
       "0     0.0         1.0        0.0        0.0   0.0   0.0     0.00\n",
       "0     0.0         0.0  6062445.0  4368335.0   3.8   5.2     0.13\n",
       "0     1.0         1.0        0.0        0.0   0.0   0.0     0.00\n",
       "0     2.0         1.0        0.0        0.0   0.0   0.0     0.00\n",
       "0     3.0         1.0        0.0        0.0   0.0   0.0     0.00\n",
       "..    ...         ...        ...        ...   ...   ...      ...\n",
       "0   375.0         1.0        0.0        0.0   0.0   0.0     0.00\n",
       "0   376.0         1.0        0.0        0.0   0.0   0.0     0.00\n",
       "0   377.0         1.0        0.0        0.0   0.0   0.0     0.00\n",
       "0   378.0         1.0        0.0        0.0   0.0   0.0     0.00\n",
       "19  379.0        19.0  6064540.0  4368667.0  10.0   5.9    -0.10\n",
       "\n",
       "[381 rows x 7 columns]"
      ]
     },
     "execution_count": 30,
     "metadata": {},
     "output_type": "execute_result"
    }
   ],
   "source": [
    "new_kalman_data = new_polish_dat\n",
    "new_kalman_data"
   ]
  },
  {
   "cell_type": "markdown",
   "metadata": {},
   "source": [
    "## Conversion functions:"
   ]
  },
  {
   "cell_type": "code",
   "execution_count": 31,
   "metadata": {},
   "outputs": [],
   "source": [
    "def deg_to_rad(deg):\n",
    "    return deg*np.pi/180\n",
    "\n",
    "def rad_to_deg(rad):\n",
    "    return rad*180/np.pi\n",
    "\n",
    "def rot_min_to_sec(rot_min):\n",
    "    return rot_min/60\n",
    "\n",
    "def knots_to_mps(kts):\n",
    "    return kts*0.51444444"
   ]
  },
  {
   "cell_type": "code",
   "execution_count": 32,
   "metadata": {},
   "outputs": [],
   "source": [
    "def get_state_vector_Xk(data_frame, stateNo):\n",
    "\n",
    "    #X coordinate    \n",
    "    X_coord = data_frame.iloc[stateNo,2]\n",
    "\n",
    "    #Y coordinate\n",
    "    Y_coord = data_frame.iloc[stateNo,3]\n",
    "\n",
    "    #Vk - speed over ground\n",
    "    sog = data_frame.iloc[stateNo,5]\n",
    "    \n",
    "    #Course over ground\n",
    "    cog = data_frame.iloc[stateNo,4]\n",
    "\n",
    "    \n",
    "    #retunr state\n",
    "    X_k = np.array([\n",
    "            [X_coord],\n",
    "           [Y_coord],\n",
    "           [sog*np.cos(deg_to_rad(cog))], \n",
    "           [sog*np.sin(deg_to_rad(cog))]])\n",
    "    return X_k\n",
    "    "
   ]
  },
  {
   "cell_type": "markdown",
   "metadata": {},
   "source": [
    "## Formulas fo the excelleration in the X and Y axis:"
   ]
  },
  {
   "cell_type": "code",
   "execution_count": 145,
   "metadata": {},
   "outputs": [],
   "source": [
    "def calc_a_x_y(data_frame, stateNo, deltaTime):\n",
    "    \n",
    "    #Vk - speed over ground metre per second\n",
    "    sog = data_frame.iloc[stateNo,5]\n",
    "    \n",
    "    #Course over ground - current state \n",
    "    cog = data_frame.iloc[stateNo,4]\n",
    "    \n",
    "    #Course over ground - previous state \n",
    "    cog_prev = data_frame.iloc[stateNo-1,4]\n",
    "    \n",
    "    #Rate of turn - degrees per second\n",
    "    rot = data_frame.iloc[stateNo,4]\n",
    "    \n",
    "    top_x = sog*np.cos(deg_to_rad(cog) + deg_to_rad(rot/3600)*deltaTime) - np.cos(deg_to_rad(cog_prev))\n",
    "    bottom_x = deltaTime\n",
    "    \n",
    "    a_x = top_x/bottom_x\n",
    "    \n",
    "    top_y = sog*np.sin(deg_to_rad(cog) + deg_to_rad(rot/3600)*deltaTime) - np.sin(deg_to_rad(cog_prev))\n",
    "    bottom_y = deltaTime\n",
    "    \n",
    "    a_y = top_y/bottom_y\n",
    "    \n",
    "    return a_x, a_y\n"
   ]
  },
  {
   "cell_type": "code",
   "execution_count": 162,
   "metadata": {},
   "outputs": [],
   "source": [
    "def get_mat_A(deltaTime):\n",
    "    A = np.identity(4)\n",
    "    A[0,2] = deltaTime\n",
    "    A[1,3] = deltaTime\n",
    "    return A\n"
   ]
  },
  {
   "cell_type": "code",
   "execution_count": 147,
   "metadata": {},
   "outputs": [],
   "source": [
    "def est_coord_X_Y(a_x, a_y, prev_X, prev_Y, deltaTime):\n",
    "    X_k = prev_X + a_x*deltaTime*deltaTime/2\n",
    "    Y_k = prev_Y + a_y*detlaTime*deltaTime/2\n",
    "    \n",
    "    return X_k, Y_k"
   ]
  },
  {
   "cell_type": "code",
   "execution_count": 148,
   "metadata": {},
   "outputs": [],
   "source": [
    "def predict_state(A,X_prev, a_x,a_y,deltaTIME):\n",
    "    Bu_k = np.array([[a_x*deltaTIME*deltaTIME*0.5],\n",
    "                     [a_y*deltaTIME*deltaTIME*0.5],\n",
    "                     [a_x*deltaTIME],\n",
    "                     [a_y*deltaTIME]])\n",
    "    \n",
    "    pred_state = A.dot(X_prev) + Bu_k\n",
    "    return pred_state"
   ]
  },
  {
   "cell_type": "markdown",
   "metadata": {},
   "source": [
    "### Getting the state vector if we are only predicting:"
   ]
  },
  {
   "cell_type": "code",
   "execution_count": 149,
   "metadata": {},
   "outputs": [],
   "source": [
    "def get_state_vector_Xk_finalDF(data_frame, stateNo):\n",
    "\n",
    "    #X coordinate    \n",
    "    X_coord = data_frame.iloc[stateNo,0]\n",
    "\n",
    "    #Y coordinate\n",
    "    Y_coord = data_frame.iloc[stateNo,1]\n",
    "\n",
    "    #Vk - speed over ground\n",
    "    sog = data_frame.iloc[stateNo,2]\n",
    "    \n",
    "    #Course over ground\n",
    "    cog = data_frame.iloc[stateNo,3]\n",
    "\n",
    "    \n",
    "    #retunr state\n",
    "    X_k = np.array([\n",
    "            [X_coord],\n",
    "           [Y_coord],\n",
    "           [sog*np.cos(deg_to_rad(cog))], \n",
    "           [sog*np.sin(deg_to_rad(cog))]])\n",
    "    return X_k"
   ]
  },
  {
   "cell_type": "markdown",
   "metadata": {},
   "source": [
    "## Predicting the Proccess error covariance $P_{k}^{-}$ :"
   ]
  },
  {
   "cell_type": "code",
   "execution_count": 150,
   "metadata": {},
   "outputs": [],
   "source": [
    "def pred_err_cov(A, P_k_1,Q):\n",
    "    return A.dot(P_k_1).dot(np.transpose(A)) + Q"
   ]
  },
  {
   "cell_type": "markdown",
   "metadata": {},
   "source": [
    "## Kalman gain $K_k$ :"
   ]
  },
  {
   "cell_type": "code",
   "execution_count": 151,
   "metadata": {},
   "outputs": [],
   "source": [
    "def Kalman_gain(P_k, H, R):\n",
    "    above = P_k.dot(np.transpose(H))\n",
    "    bottom = np.linalg.inv(H.dot(P_k).dot(np.transpose(H)) + R)\n",
    "    return above.dot(bottom)"
   ]
  },
  {
   "cell_type": "markdown",
   "metadata": {},
   "source": [
    "## A posteriori estimate $\\hat{x}_k$ :"
   ]
  },
  {
   "cell_type": "code",
   "execution_count": 152,
   "metadata": {},
   "outputs": [],
   "source": [
    "def adjust_pred_state(pred_state, Kk,z_k,H):\n",
    "    #Where z_k == the real observed value to adjust for the errors made\n",
    "    return pred_state + Kk.dot(z_k - H.dot(pred_state))"
   ]
  },
  {
   "cell_type": "markdown",
   "metadata": {},
   "source": [
    "## Update proccess error cov $P_k$"
   ]
  },
  {
   "cell_type": "code",
   "execution_count": 153,
   "metadata": {},
   "outputs": [],
   "source": [
    "def adjust_err_cov(I,Kk,H,P_k):\n",
    "    return (I - Kk.dot(H)).dot(P_k)    "
   ]
  },
  {
   "cell_type": "markdown",
   "metadata": {},
   "source": [
    "## Getting the length of the dataset"
   ]
  },
  {
   "cell_type": "code",
   "execution_count": 154,
   "metadata": {},
   "outputs": [],
   "source": [
    "data_length = len(new_kalman_data)"
   ]
  },
  {
   "cell_type": "markdown",
   "metadata": {},
   "source": [
    "# Linear algo's"
   ]
  },
  {
   "cell_type": "code",
   "execution_count": 155,
   "metadata": {},
   "outputs": [],
   "source": [
    "def delta_X_Y_pred(state_in, a_x, a_y):\n",
    "    delta_x_k = state_in[0] + a_x*0.5\n",
    "    delta_y_k = state_in[1] + a_y*0.5\n",
    "    \n",
    "    return delta_x_k, delta_y_k"
   ]
  },
  {
   "cell_type": "code",
   "execution_count": null,
   "metadata": {},
   "outputs": [],
   "source": []
  },
  {
   "cell_type": "markdown",
   "metadata": {},
   "source": [
    "# Setting up prediction & Kalman filtering:"
   ]
  },
  {
   "cell_type": "code",
   "execution_count": 170,
   "metadata": {},
   "outputs": [],
   "source": [
    "# Setting up a prediction dataFrame\n",
    "df_final = pd.DataFrame()\n",
    "df_final.drop(df_final.index, inplace=True) #Clear DataFRAME\n",
    "df_final = pd.DataFrame({\"X_pred\":0,\"Y_pred\":0, \"Lin_spd_X\":0, \"Lin_spd_Y\":0}, index = [0])\n",
    "df_final\n",
    "\n",
    "\n",
    "#Appending the first values to the dataframe\n",
    "my_State_Vec = get_state_vector_Xk(new_kalman_data,1)\n",
    "df_final = df_final.append(pd.DataFrame({\"X_pred\":my_State_Vec[0],\n",
    "                                         \"Y_pred\":my_State_Vec[1],\n",
    "                                         \"Lin_spd_X\":my_State_Vec[2],\n",
    "                                         \"Lin_spd_Y\":my_State_Vec[3]}, index = [1]))\n",
    "\n",
    "\n",
    "# Array for the 1st and second coordinates\n",
    "x_pred = []\n",
    "y_pred = []\n",
    "\n",
    "#Initial P_{k-1}\n",
    "Pk_1 =  np.array([[10],[10],[0.5],[0.5]]).dot(np.transpose(np.array([[10],[10],[0.5],[0.5]]))) #according to the IMO\n",
    "H = np.identity(4)\n",
    "R = np.diag(np.diag(Pk_1))\n",
    "I = np.identity(4)\n",
    "\n",
    "\n",
    "\n",
    "#------------------------------------------Setting up the KALMAN VARIABLES --------------------------------------\n",
    "\n",
    "w_k_1 = np.array([[0],[0],[0],[0]])\n",
    "P_k =  np.array([[10],[10],[0.5],[0.5]]).dot(np.transpose(np.array([[10],[10],[0.5],[0.5]]))) #according to the IMO.\n",
    "Q = P_k\n",
    "H = np.identity(4)\n",
    "R = np.diag(np.diag(Pk_1))\n",
    "I = np.identity(4)\n",
    "#------------------------------------------END KALMAN VARIABLES --------------------------------------\n",
    "\n",
    "\n",
    "mycounter = 0\n",
    "\n",
    "for i in range(1,data_length):\n",
    "    \n",
    "    \n",
    "    \n",
    "    #If we have the real value do this:\n",
    "    if(int(new_kalman_data.iloc[i,3]) != 0):\n",
    "        #If we have the value, we will need to do a prediction with a correction\n",
    "        deltaTIME = polish_data.iloc[mycounter,1]\n",
    "        A = get_mat_A(deltaTIME)\n",
    "        if(i == 1):\n",
    "            \n",
    "            ######### Getting the values for the update ##################\n",
    "            state_vector = get_state_vector_Xk(new_kalman_data, i)\n",
    "            a_x, a_y = calc_a_x_y(polish_data,mycounter-1,1)\n",
    "            \n",
    "            \n",
    "            # ----------------- STARTING THE KALMAN PROCESS-----------------\n",
    "            # PREDICT A STATE\n",
    "            \n",
    "            predicted_State = predict_state(A,state_vector,a_x, a_y,deltaTIME)\n",
    "            Q = P_k\n",
    "            P_k =  pred_err_cov(A, P_k, Q)\n",
    "            \n",
    "    \n",
    "            #---------------------------- UPDATE -------------------------:\n",
    "            # Kalman Gain\n",
    "            K_k = Kalman_gain(P_k, H, R)         \n",
    "            # a posteriori estimate\n",
    "            x_k = adjust_pred_state(predicted_State, K_k,state_vector,H)           \n",
    "            # proccess covariance update\n",
    "            P_k = adjust_err_cov(I,K_k,H,P_k)\n",
    "         \n",
    "            df_final = df_final.append(pd.DataFrame({\"X_pred\":x_k[0],\n",
    "                                         \"Y_pred\":x_k[1],\n",
    "                                         \"Lin_spd_X\":x_k[2],\n",
    "                                         \"Lin_spd_Y\":x_k[3]}, index = [1]))\n",
    "            \n",
    "    \n",
    "        else:\n",
    "            # We want to update the filter estimates\n",
    "            \n",
    "            #---------------------------- PREDICTION --------------------:\n",
    "            state_vector = get_state_vector_Xk(new_kalman_data, i)\n",
    "            a_x, a_y = calc_a_x_y(polish_data,mycounter-1,deltaTIME) \n",
    "            \n",
    "            \n",
    "            predicted_State = predict_state(A,state_vector,a_x, a_y,deltaTIME)\n",
    "            Q = P_k\n",
    "            P_k =  pred_err_cov(A,P_k,Q)\n",
    "            \n",
    "            #---------------------------- UPDATE -------------------------:\n",
    "            # Kalman Gain\n",
    "            K_k = Kalman_gain(P_k, H, R)         \n",
    "            # a posteriori estimate\n",
    "            x_k = adjust_pred_state(predicted_State, K_k,state_vector,H)\n",
    "\n",
    "            # proccess covariance update\n",
    "            P_k = adjust_err_cov(I,K_k,H,P_k)\n",
    "                        \n",
    "            df_final = df_final.append(pd.DataFrame({\"X_pred\":x_k[0],\n",
    "                                         \"Y_pred\":x_k[1],\n",
    "                                         \"Lin_spd_X\":x_k[2],\n",
    "                                         \"Lin_spd_Y\":x_k[3]}, index = [1]))\n",
    "        \n",
    "        mycounter += 1\n",
    "\n",
    "    else:\n",
    "        deltaTIME = new_kalman_data.iloc[i,1]\n",
    "        A = get_mat_A(deltaTIME)\n",
    "        #If we do not have the value, just predict a state ahead and append to dataset\n",
    "        state_vector = get_state_vector_Xk_finalDF(df_final, i)\n",
    "        predicted_State = predict_state(A,state_vector,a_x, a_y,1)\n",
    "\n",
    "        df_final = df_final.append(pd.DataFrame({\"X_pred\":predicted_State[0],\n",
    "                                         \"Y_pred\":predicted_State[1],\n",
    "                                         \"Lin_spd_X\":predicted_State[2],\n",
    "                                         \"Lin_spd_Y\":predicted_State[3]}, index = [1]))\n"
   ]
  },
  {
   "cell_type": "code",
   "execution_count": 171,
   "metadata": {},
   "outputs": [
    {
     "data": {
      "text/plain": [
       "[<matplotlib.lines.Line2D at 0x7f4d2621b630>]"
      ]
     },
     "execution_count": 171,
     "metadata": {},
     "output_type": "execute_result"
    },
    {
     "data": {
      "image/png": "[encoded data removed]",
      "text/plain": [
       "<Figure size 432x288 with 1 Axes>"
      ]
     },
     "metadata": {
      "needs_background": "light"
     },
     "output_type": "display_data"
    }
   ],
   "source": [
    "x_pred = df_final.iloc[:,0].values\n",
    "y_pred = df_final.iloc[:,1].values\n",
    "\n",
    "\n",
    "\n",
    "plt.plot(x_pred[np.arange(1,len(x_pred),10)],y_pred[np.arange(1,len(x_pred),10)], \"bo\")\n",
    "plt.plot(polish_data.iloc[:,2].values ,polish_data.iloc[:,3].values, \"ro\")\n"
   ]
  },
  {
   "cell_type": "code",
   "execution_count": 159,
   "metadata": {},
   "outputs": [
    {
     "data": {
      "text/plain": [
       "[<matplotlib.lines.Line2D at 0x7f4d26456400>]"
      ]
     },
     "execution_count": 159,
     "metadata": {},
     "output_type": "execute_result"
    },
    {
     "data": {
      "image/png": "[encoded data removed]",
      "text/plain": [
       "<Figure size 432x288 with 1 Axes>"
      ]
     },
     "metadata": {
      "needs_background": "light"
     },
     "output_type": "display_data"
    }
   ],
   "source": [
    "plt.plot(np.arange(0,len(df_final.iloc[:,3])),df_final.iloc[:,2])"
   ]
  },
  {
   "cell_type": "code",
   "execution_count": 144,
   "metadata": {},
   "outputs": [
    {
     "data": {
      "text/plain": [
       "0     0.000000\n",
       "1     5.188568\n",
       "1     5.127021\n",
       "1     9.962125\n",
       "1    14.796250\n",
       "       ...    \n",
       "1    15.889001\n",
       "1    16.352864\n",
       "1    16.816726\n",
       "1    17.280586\n",
       "1     9.006543\n",
       "Name: Lin_spd_X, Length: 382, dtype: float64"
      ]
     },
     "execution_count": 144,
     "metadata": {},
     "output_type": "execute_result"
    }
   ],
   "source": [
    "(df_final.iloc[:,2])"
   ]
  },
  {
   "cell_type": "code",
   "execution_count": 23,
   "metadata": {},
   "outputs": [
    {
     "data": {
      "text/html": [
       "<div>\n",
       "<style scoped>\n",
       "    .dataframe tbody tr th:only-of-type {\n",
       "        vertical-align: middle;\n",
       "    }\n",
       "\n",
       "    .dataframe tbody tr th {\n",
       "        vertical-align: top;\n",
       "    }\n",
       "\n",
       "    .dataframe thead th {\n",
       "        text-align: right;\n",
       "    }\n",
       "</style>\n",
       "<table border=\"1\" class=\"dataframe\">\n",
       "  <thead>\n",
       "    <tr style=\"text-align: right;\">\n",
       "      <th></th>\n",
       "      <th>X_pred</th>\n",
       "      <th>Y_pred</th>\n",
       "      <th>Lin_spd_X</th>\n",
       "      <th>Lin_spd_Y</th>\n",
       "    </tr>\n",
       "  </thead>\n",
       "  <tbody>\n",
       "    <tr>\n",
       "      <th>0</th>\n",
       "      <td>0.000000e+00</td>\n",
       "      <td>0.000000e+00</td>\n",
       "      <td>0.000000</td>\n",
       "      <td>0.000000</td>\n",
       "    </tr>\n",
       "    <tr>\n",
       "      <th>1</th>\n",
       "      <td>6.062445e+06</td>\n",
       "      <td>4.368335e+06</td>\n",
       "      <td>5.188568</td>\n",
       "      <td>0.344624</td>\n",
       "    </tr>\n",
       "    <tr>\n",
       "      <th>1</th>\n",
       "      <td>6.062449e+06</td>\n",
       "      <td>4.368334e+06</td>\n",
       "      <td>5.127021</td>\n",
       "      <td>0.283078</td>\n",
       "    </tr>\n",
       "    <tr>\n",
       "      <th>1</th>\n",
       "      <td>6.062456e+06</td>\n",
       "      <td>4.368334e+06</td>\n",
       "      <td>9.315142</td>\n",
       "      <td>0.375690</td>\n",
       "    </tr>\n",
       "    <tr>\n",
       "      <th>1</th>\n",
       "      <td>6.062468e+06</td>\n",
       "      <td>4.368335e+06</td>\n",
       "      <td>13.503125</td>\n",
       "      <td>0.411439</td>\n",
       "    </tr>\n",
       "    <tr>\n",
       "      <th>...</th>\n",
       "      <td>...</td>\n",
       "      <td>...</td>\n",
       "      <td>...</td>\n",
       "      <td>...</td>\n",
       "    </tr>\n",
       "    <tr>\n",
       "      <th>1</th>\n",
       "      <td>6.064574e+06</td>\n",
       "      <td>4.368652e+06</td>\n",
       "      <td>12.865850</td>\n",
       "      <td>0.190242</td>\n",
       "    </tr>\n",
       "    <tr>\n",
       "      <th>1</th>\n",
       "      <td>6.064587e+06</td>\n",
       "      <td>4.368652e+06</td>\n",
       "      <td>13.326190</td>\n",
       "      <td>0.192182</td>\n",
       "    </tr>\n",
       "    <tr>\n",
       "      <th>1</th>\n",
       "      <td>6.064601e+06</td>\n",
       "      <td>4.368652e+06</td>\n",
       "      <td>13.786527</td>\n",
       "      <td>0.194162</td>\n",
       "    </tr>\n",
       "    <tr>\n",
       "      <th>1</th>\n",
       "      <td>6.064615e+06</td>\n",
       "      <td>4.368653e+06</td>\n",
       "      <td>14.246859</td>\n",
       "      <td>0.196182</td>\n",
       "    </tr>\n",
       "    <tr>\n",
       "      <th>1</th>\n",
       "      <td>6.064544e+06</td>\n",
       "      <td>4.368666e+06</td>\n",
       "      <td>5.977917</td>\n",
       "      <td>1.013077</td>\n",
       "    </tr>\n",
       "  </tbody>\n",
       "</table>\n",
       "<p>382 rows × 4 columns</p>\n",
       "</div>"
      ],
      "text/plain": [
       "          X_pred        Y_pred  Lin_spd_X  Lin_spd_Y\n",
       "0   0.000000e+00  0.000000e+00   0.000000   0.000000\n",
       "1   6.062445e+06  4.368335e+06   5.188568   0.344624\n",
       "1   6.062449e+06  4.368334e+06   5.127021   0.283078\n",
       "1   6.062456e+06  4.368334e+06   9.315142   0.375690\n",
       "1   6.062468e+06  4.368335e+06  13.503125   0.411439\n",
       "..           ...           ...        ...        ...\n",
       "1   6.064574e+06  4.368652e+06  12.865850   0.190242\n",
       "1   6.064587e+06  4.368652e+06  13.326190   0.192182\n",
       "1   6.064601e+06  4.368652e+06  13.786527   0.194162\n",
       "1   6.064615e+06  4.368653e+06  14.246859   0.196182\n",
       "1   6.064544e+06  4.368666e+06   5.977917   1.013077\n",
       "\n",
       "[382 rows x 4 columns]"
      ]
     },
     "execution_count": 23,
     "metadata": {},
     "output_type": "execute_result"
    }
   ],
   "source": [
    "df_final"
   ]
  },
  {
   "cell_type": "code",
   "execution_count": 75,
   "metadata": {},
   "outputs": [
    {
     "data": {
      "text/html": [
       "<div>\n",
       "<style scoped>\n",
       "    .dataframe tbody tr th:only-of-type {\n",
       "        vertical-align: middle;\n",
       "    }\n",
       "\n",
       "    .dataframe tbody tr th {\n",
       "        vertical-align: top;\n",
       "    }\n",
       "\n",
       "    .dataframe thead th {\n",
       "        text-align: right;\n",
       "    }\n",
       "</style>\n",
       "<table border=\"1\" class=\"dataframe\">\n",
       "  <thead>\n",
       "    <tr style=\"text-align: right;\">\n",
       "      <th></th>\n",
       "      <th>time</th>\n",
       "      <th>delta_time</th>\n",
       "      <th>X</th>\n",
       "      <th>Y</th>\n",
       "      <th>rot</th>\n",
       "      <th>Vmps</th>\n",
       "      <th>rot_sec</th>\n",
       "    </tr>\n",
       "  </thead>\n",
       "  <tbody>\n",
       "    <tr>\n",
       "      <th>0</th>\n",
       "      <td>0</td>\n",
       "      <td>0</td>\n",
       "      <td>6062445</td>\n",
       "      <td>4368335</td>\n",
       "      <td>3.8</td>\n",
       "      <td>5.2</td>\n",
       "      <td>0.13</td>\n",
       "    </tr>\n",
       "    <tr>\n",
       "      <th>1</th>\n",
       "      <td>11</td>\n",
       "      <td>11</td>\n",
       "      <td>6062500</td>\n",
       "      <td>4368343</td>\n",
       "      <td>5.1</td>\n",
       "      <td>5.2</td>\n",
       "      <td>0.12</td>\n",
       "    </tr>\n",
       "    <tr>\n",
       "      <th>2</th>\n",
       "      <td>20</td>\n",
       "      <td>9</td>\n",
       "      <td>6062556</td>\n",
       "      <td>4368351</td>\n",
       "      <td>6.3</td>\n",
       "      <td>5.2</td>\n",
       "      <td>-0.10</td>\n",
       "    </tr>\n",
       "    <tr>\n",
       "      <th>3</th>\n",
       "      <td>29</td>\n",
       "      <td>9</td>\n",
       "      <td>6062600</td>\n",
       "      <td>4368359</td>\n",
       "      <td>5.3</td>\n",
       "      <td>5.4</td>\n",
       "      <td>0.35</td>\n",
       "    </tr>\n",
       "    <tr>\n",
       "      <th>4</th>\n",
       "      <td>39</td>\n",
       "      <td>10</td>\n",
       "      <td>6062655</td>\n",
       "      <td>4368367</td>\n",
       "      <td>8.8</td>\n",
       "      <td>5.3</td>\n",
       "      <td>-0.12</td>\n",
       "    </tr>\n",
       "    <tr>\n",
       "      <th>5</th>\n",
       "      <td>50</td>\n",
       "      <td>11</td>\n",
       "      <td>6062711</td>\n",
       "      <td>4368375</td>\n",
       "      <td>7.6</td>\n",
       "      <td>5.5</td>\n",
       "      <td>-0.42</td>\n",
       "    </tr>\n",
       "    <tr>\n",
       "      <th>6</th>\n",
       "      <td>60</td>\n",
       "      <td>10</td>\n",
       "      <td>6062766</td>\n",
       "      <td>4368383</td>\n",
       "      <td>3.4</td>\n",
       "      <td>5.5</td>\n",
       "      <td>0.33</td>\n",
       "    </tr>\n",
       "    <tr>\n",
       "      <th>7</th>\n",
       "      <td>71</td>\n",
       "      <td>11</td>\n",
       "      <td>6062822</td>\n",
       "      <td>4368391</td>\n",
       "      <td>6.7</td>\n",
       "      <td>5.5</td>\n",
       "      <td>-0.29</td>\n",
       "    </tr>\n",
       "    <tr>\n",
       "      <th>8</th>\n",
       "      <td>99</td>\n",
       "      <td>28</td>\n",
       "      <td>6062988</td>\n",
       "      <td>4368422</td>\n",
       "      <td>3.8</td>\n",
       "      <td>5.6</td>\n",
       "      <td>0.50</td>\n",
       "    </tr>\n",
       "    <tr>\n",
       "      <th>9</th>\n",
       "      <td>110</td>\n",
       "      <td>11</td>\n",
       "      <td>6063043</td>\n",
       "      <td>4368430</td>\n",
       "      <td>8.8</td>\n",
       "      <td>5.4</td>\n",
       "      <td>-0.07</td>\n",
       "    </tr>\n",
       "    <tr>\n",
       "      <th>10</th>\n",
       "      <td>140</td>\n",
       "      <td>30</td>\n",
       "      <td>6063210</td>\n",
       "      <td>4368454</td>\n",
       "      <td>8.1</td>\n",
       "      <td>5.7</td>\n",
       "      <td>-0.08</td>\n",
       "    </tr>\n",
       "    <tr>\n",
       "      <th>11</th>\n",
       "      <td>149</td>\n",
       "      <td>9</td>\n",
       "      <td>6063254</td>\n",
       "      <td>4368462</td>\n",
       "      <td>7.3</td>\n",
       "      <td>5.6</td>\n",
       "      <td>-0.11</td>\n",
       "    </tr>\n",
       "    <tr>\n",
       "      <th>12</th>\n",
       "      <td>170</td>\n",
       "      <td>21</td>\n",
       "      <td>6063365</td>\n",
       "      <td>4368484</td>\n",
       "      <td>6.2</td>\n",
       "      <td>5.4</td>\n",
       "      <td>0.06</td>\n",
       "    </tr>\n",
       "    <tr>\n",
       "      <th>13</th>\n",
       "      <td>191</td>\n",
       "      <td>21</td>\n",
       "      <td>6063487</td>\n",
       "      <td>4368501</td>\n",
       "      <td>6.8</td>\n",
       "      <td>5.8</td>\n",
       "      <td>-0.28</td>\n",
       "    </tr>\n",
       "    <tr>\n",
       "      <th>14</th>\n",
       "      <td>200</td>\n",
       "      <td>9</td>\n",
       "      <td>6063542</td>\n",
       "      <td>4368509</td>\n",
       "      <td>4.0</td>\n",
       "      <td>5.4</td>\n",
       "      <td>0.47</td>\n",
       "    </tr>\n",
       "    <tr>\n",
       "      <th>15</th>\n",
       "      <td>311</td>\n",
       "      <td>111</td>\n",
       "      <td>6064152</td>\n",
       "      <td>4368604</td>\n",
       "      <td>4.7</td>\n",
       "      <td>5.9</td>\n",
       "      <td>-0.52</td>\n",
       "    </tr>\n",
       "    <tr>\n",
       "      <th>16</th>\n",
       "      <td>339</td>\n",
       "      <td>28</td>\n",
       "      <td>6064307</td>\n",
       "      <td>4368628</td>\n",
       "      <td>3.5</td>\n",
       "      <td>5.6</td>\n",
       "      <td>0.50</td>\n",
       "    </tr>\n",
       "    <tr>\n",
       "      <th>17</th>\n",
       "      <td>350</td>\n",
       "      <td>11</td>\n",
       "      <td>6064373</td>\n",
       "      <td>4368643</td>\n",
       "      <td>8.5</td>\n",
       "      <td>5.7</td>\n",
       "      <td>0.43</td>\n",
       "    </tr>\n",
       "    <tr>\n",
       "      <th>18</th>\n",
       "      <td>360</td>\n",
       "      <td>10</td>\n",
       "      <td>6064429</td>\n",
       "      <td>4368651</td>\n",
       "      <td>12.8</td>\n",
       "      <td>5.8</td>\n",
       "      <td>-0.28</td>\n",
       "    </tr>\n",
       "    <tr>\n",
       "      <th>19</th>\n",
       "      <td>379</td>\n",
       "      <td>19</td>\n",
       "      <td>6064540</td>\n",
       "      <td>4368667</td>\n",
       "      <td>10.0</td>\n",
       "      <td>5.9</td>\n",
       "      <td>-0.10</td>\n",
       "    </tr>\n",
       "  </tbody>\n",
       "</table>\n",
       "</div>"
      ],
      "text/plain": [
       "    time  delta_time        X        Y   rot  Vmps  rot_sec\n",
       "0      0           0  6062445  4368335   3.8   5.2     0.13\n",
       "1     11          11  6062500  4368343   5.1   5.2     0.12\n",
       "2     20           9  6062556  4368351   6.3   5.2    -0.10\n",
       "3     29           9  6062600  4368359   5.3   5.4     0.35\n",
       "4     39          10  6062655  4368367   8.8   5.3    -0.12\n",
       "5     50          11  6062711  4368375   7.6   5.5    -0.42\n",
       "6     60          10  6062766  4368383   3.4   5.5     0.33\n",
       "7     71          11  6062822  4368391   6.7   5.5    -0.29\n",
       "8     99          28  6062988  4368422   3.8   5.6     0.50\n",
       "9    110          11  6063043  4368430   8.8   5.4    -0.07\n",
       "10   140          30  6063210  4368454   8.1   5.7    -0.08\n",
       "11   149           9  6063254  4368462   7.3   5.6    -0.11\n",
       "12   170          21  6063365  4368484   6.2   5.4     0.06\n",
       "13   191          21  6063487  4368501   6.8   5.8    -0.28\n",
       "14   200           9  6063542  4368509   4.0   5.4     0.47\n",
       "15   311         111  6064152  4368604   4.7   5.9    -0.52\n",
       "16   339          28  6064307  4368628   3.5   5.6     0.50\n",
       "17   350          11  6064373  4368643   8.5   5.7     0.43\n",
       "18   360          10  6064429  4368651  12.8   5.8    -0.28\n",
       "19   379          19  6064540  4368667  10.0   5.9    -0.10"
      ]
     },
     "execution_count": 75,
     "metadata": {},
     "output_type": "execute_result"
    }
   ],
   "source": [
    "new_kalman_data.iloc[12,1]\n",
    "polish_data"
   ]
  },
  {
   "cell_type": "code",
   "execution_count": 166,
   "metadata": {},
   "outputs": [
    {
     "data": {
      "text/plain": [
       "11"
      ]
     },
     "execution_count": 166,
     "metadata": {},
     "output_type": "execute_result"
    }
   ],
   "source": [
    "polish_data.iloc[1,1]"
   ]
  },
  {
   "cell_type": "code",
   "execution_count": null,
   "metadata": {},
   "outputs": [],
   "source": [
    "polish_data"
   ]
  }
 ],
 "metadata": {
  "kernelspec": {
   "display_name": "Python 3",
   "language": "python",
   "name": "python3"
  },
  "language_info": {
   "codemirror_mode": {
    "name": "ipython",
    "version": 3
   },
   "file_extension": ".py",
   "mimetype": "text/x-python",
   "name": "python",
   "nbconvert_exporter": "python",
   "pygments_lexer": "ipython3",
   "version": "3.6.9"
  }
 },
 "nbformat": 4,
 "nbformat_minor": 2
}
