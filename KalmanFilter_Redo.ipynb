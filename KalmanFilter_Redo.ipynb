{
 "cells": [
  {
   "cell_type": "code",
   "execution_count": 1,
   "metadata": {},
   "outputs": [],
   "source": [
    "import numpy as np\n",
    "import pandas as pd\n",
    "import copy\n",
    "import matplotlib.pyplot as plt\n",
    "import math\n"
   ]
  },
  {
   "cell_type": "markdown",
   "metadata": {},
   "source": [
    "## Importing the data:"
   ]
  },
  {
   "cell_type": "code",
   "execution_count": 2,
   "metadata": {},
   "outputs": [
    {
     "name": "stdout",
     "output_type": "stream",
     "text": [
      "   time  delta_time        X        Y  rot  Vmps  rot_sec\n",
      "0     0           0  6062445  4368335  3.8   5.2     0.13\n",
      "1    11          11  6062500  4368343  5.1   5.2     0.12\n",
      "2    20           9  6062556  4368351  6.3   5.2    -0.10\n",
      "3    29           9  6062600  4368359  5.3   5.4     0.35\n",
      "4    39          10  6062655  4368367  8.8   5.3    -0.12\n",
      "\n",
      "\n",
      "\n",
      "    time  delta_time        X        Y  rot  Vmps  rot_sec\n",
      "0     0           0        0        0  0.0   0.0     0.00\n",
      "1     0           0  6062445  4368335  3.8   5.2     0.13\n",
      "2    11          11  6062500  4368343  5.1   5.2     0.12\n",
      "3    20           9  6062556  4368351  6.3   5.2    -0.10\n",
      "4    29           9  6062600  4368359  5.3   5.4     0.35\n"
     ]
    }
   ],
   "source": [
    "polish_data = pd.read_csv(r\"C:\\Users\\chris\\OneDrive\\MSc\\Kalman Filter - Polish Paper\\polish_data.csv\")\n",
    "print(polish_data.head())\n",
    "\n",
    "#ADDING THE 0th State vector\n",
    "State_zero = pd.DataFrame({'time': 0,\"delta_time\":0,\"X\":0,\"Y\":0, \"rot\":0, \"Vmps\":0, \"rot_sec\":0}, index = [0])\n",
    "polish_data = pd.concat([State_zero,polish_data]).reset_index(drop = True)\n",
    "\n",
    "print(\"\\n\\n\\n\",polish_data.head())"
   ]
  },
  {
   "cell_type": "markdown",
   "metadata": {},
   "source": [
    "## Conversions of values:"
   ]
  },
  {
   "cell_type": "code",
   "execution_count": 3,
   "metadata": {},
   "outputs": [],
   "source": [
    "def deg_to_rad(deg):\n",
    "    return deg*np.pi/180\n",
    "\n",
    "def rad_to_deg(rad):\n",
    "    return rad*180/np.pi\n",
    "\n",
    "def rot_min_to_sec(rot_min):\n",
    "    return rot_min/60\n",
    "\n",
    "def knots_to_mps(kts):\n",
    "    return kts*0.51444444"
   ]
  },
  {
   "cell_type": "markdown",
   "metadata": {},
   "source": [
    "### Getting the epsiloid WGS-84 format:"
   ]
  },
  {
   "cell_type": "code",
   "execution_count": 4,
   "metadata": {},
   "outputs": [],
   "source": [
    "def e_squared(a,b):\n",
    "    # a - semi major axis\n",
    "    # b - semi minor axis\n",
    "    return (a**2 - b**2)/(a**2)"
   ]
  },
  {
   "cell_type": "markdown",
   "metadata": {},
   "source": [
    "### Radius of the curvature:"
   ]
  },
  {
   "cell_type": "code",
   "execution_count": 5,
   "metadata": {},
   "outputs": [],
   "source": [
    "def N_rad_of_curvature(a,e,lat):\n",
    "    # a - semi-major axis\n",
    "    # e - square of first eccentric\n",
    "    # lat - latetude\n",
    "    N = a/(np.sqrt(1- e*(np.sin(lat)**2)))\n",
    "    return N"
   ]
  },
  {
   "cell_type": "markdown",
   "metadata": {},
   "source": [
    "### Cartesian Coordinates"
   ]
  },
  {
   "cell_type": "code",
   "execution_count": 6,
   "metadata": {},
   "outputs": [],
   "source": [
    "def X_coordinate(N,h,long, lat):\n",
    "    # N - Curvature of the first vertical circle\n",
    "    # h - height at point 'P'\n",
    "    # long - longitude\n",
    "    # lat - latitude\n",
    "    return (N+h)*np.cos(long)*np.cos(lat)\n",
    "\n",
    "def Y_coordinate(N,h,long, lat):\n",
    "    # N - Curvature of the first vertical circle\n",
    "    # h - height at point 'P'\n",
    "    # long - longitude\n",
    "    # lat - latitude\n",
    "    return (N+h)*np.cos(long)*np.sin(lat)\n",
    "\n",
    "def Z_coordinate(N,e,H):\n",
    "    # N - Curvature of the first vertical circle\n",
    "    # e - estimate of the squre of the first eccentric\n",
    "    # H - height at point 'P'\n",
    "    return (N - (1-e)+H)"
   ]
  },
  {
   "cell_type": "markdown",
   "metadata": {},
   "source": [
    "## Formulas fo the excelleration in the X and Y axis:"
   ]
  },
  {
   "cell_type": "code",
   "execution_count": 146,
   "metadata": {},
   "outputs": [],
   "source": [
    "def calc_a_x_y(data_frame, stateNo, deltaTime):\n",
    "    \n",
    "    #Vk - speed over ground metre per second\n",
    "    sog = data_frame.iloc[stateNo,5]\n",
    "    \n",
    "    #Course over ground - current state \n",
    "    cog = data_frame.iloc[stateNo,4]\n",
    "    \n",
    "    #Course over ground - previous state \n",
    "    cog_prev = data_frame.iloc[stateNo-1,4]\n",
    "    \n",
    "    #Rate of turn - degrees per second\n",
    "    rot = data_frame.iloc[stateNo,4]\n",
    "    \n",
    "    \n",
    "\n",
    "    top_x = sog*np.cos(deg_to_rad(cog + rot*deltaTime)) - np.cos(deg_to_rad(cog_prev))\n",
    "    bottom_x = deltaTime\n",
    "    \n",
    "    a_x = top_x/bottom_x\n",
    "    \n",
    "    top_y = sog*np.sin(deg_to_rad(cog + rot*deltaTime)) - np.sin(deg_to_rad(cog_prev))\n",
    "    bottom_y = deltaTime\n",
    "    \n",
    "    a_y = top_y/bottom_y\n",
    "    \n",
    "    return a_x, a_y\n"
   ]
  },
  {
   "cell_type": "code",
   "execution_count": 152,
   "metadata": {},
   "outputs": [
    {
     "name": "stdout",
     "output_type": "stream",
     "text": [
      "4.120015693148009\n",
      "0.8545667492618328\n"
     ]
    }
   ],
   "source": [
    "a_x, a_y = calc_a_x_y(polish_data,2,1)\n",
    "print(a_x)\n",
    "print(a_y)"
   ]
  },
  {
   "cell_type": "code",
   "execution_count": null,
   "metadata": {},
   "outputs": [],
   "source": []
  },
  {
   "cell_type": "code",
   "execution_count": null,
   "metadata": {},
   "outputs": [],
   "source": []
  },
  {
   "cell_type": "code",
   "execution_count": null,
   "metadata": {},
   "outputs": [],
   "source": []
  },
  {
   "cell_type": "markdown",
   "metadata": {},
   "source": [
    "# Kalman filter - Carolina University"
   ]
  },
  {
   "cell_type": "code",
   "execution_count": 58,
   "metadata": {},
   "outputs": [],
   "source": [
    "#Intitial estiamtes:\n",
    "X_0 = np.array([[0],[0],[0],[0]])\n"
   ]
  },
  {
   "cell_type": "markdown",
   "metadata": {},
   "source": [
    "## State vector $X_k$:\n",
    "\n",
    "#### **Note the initial state $X_0 = [0,0,0,0]^{T}$ - already prepended to the POLISH DATASET"
   ]
  },
  {
   "cell_type": "code",
   "execution_count": 59,
   "metadata": {},
   "outputs": [],
   "source": [
    "def get_state_vector_Xk(data_frame, stateNo):\n",
    "\n",
    "    #X coordinate    \n",
    "    X_coord = data_frame.iloc[stateNo,2]\n",
    "\n",
    "    #Y coordinate\n",
    "    Y_coord = data_frame.iloc[stateNo,3]\n",
    "\n",
    "    #Vk - speed over ground\n",
    "    sog = data_frame.iloc[stateNo,5]\n",
    "    \n",
    "    #Course over ground\n",
    "    cog = data_frame.iloc[stateNo,4]\n",
    "    \n",
    "    #retunr state\n",
    "    X_k = np.array([\n",
    "            [X_coord],\n",
    "           [Y_coord],\n",
    "           [sog*np.cos(deg_to_rad(cog))], \n",
    "           [sog*np.sin(deg_to_rad(cog))]])\n",
    "    return X_k\n",
    "    "
   ]
  },
  {
   "cell_type": "code",
   "execution_count": 60,
   "metadata": {},
   "outputs": [
    {
     "name": "stdout",
     "output_type": "stream",
     "text": [
      "[[6.06244500e+06]\n",
      " [4.36833500e+06]\n",
      " [5.18856764e+00]\n",
      " [3.44624282e-01]]\n"
     ]
    }
   ],
   "source": [
    "print(get_state_vector_Xk(polish_data,1))"
   ]
  },
  {
   "cell_type": "markdown",
   "metadata": {},
   "source": [
    "## Calculating the transition matrix A:"
   ]
  },
  {
   "cell_type": "code",
   "execution_count": 61,
   "metadata": {},
   "outputs": [],
   "source": [
    "def return_mat_A(deltaTime):\n",
    "    A = np.identity(4)\n",
    "    A[0,2] = deltaTime\n",
    "    A[1,3] = deltaTime\n",
    "    \n",
    "    return A   "
   ]
  },
  {
   "cell_type": "markdown",
   "metadata": {},
   "source": [
    "## Calculate process covariance matrix $P_{k-1}$"
   ]
  },
  {
   "cell_type": "code",
   "execution_count": 62,
   "metadata": {},
   "outputs": [],
   "source": [
    "def get_Pk_prev(sigma_x, sigma_y, sigma_Vx, sigma_Vy):\n",
    "    setMat =  np.array([\n",
    "        [sigma_x],\n",
    "        [sigma_y],\n",
    "        [sigma_Vx],\n",
    "        [sigma_Vy]])\n",
    "    \n",
    "    covmat = setMat.dot(np.transpose(setMat))\n",
    "    return covmat"
   ]
  },
  {
   "cell_type": "code",
   "execution_count": 63,
   "metadata": {},
   "outputs": [],
   "source": [
    "Q = get_Pk_prev(10,10,0.5,0.5)"
   ]
  },
  {
   "cell_type": "markdown",
   "metadata": {},
   "source": [
    "# Calculatating the noise matrices, $w_k$ and $v_k$ \n",
    "\n",
    "### *according to Carolina paper"
   ]
  },
  {
   "cell_type": "code",
   "execution_count": 64,
   "metadata": {},
   "outputs": [],
   "source": [
    "def w_k_noise(Q):\n",
    "    return np.random.normal(0, Q, size=(4,1))\n",
    "\n",
    "def v_k_noise(R):\n",
    "    return np.random.normal(0, R, size=(4,1))"
   ]
  },
  {
   "cell_type": "markdown",
   "metadata": {},
   "source": []
  },
  {
   "cell_type": "markdown",
   "metadata": {},
   "source": [
    "## Calculating the Predicted state matrix $\\hat{x}^{-}_{k}$"
   ]
  },
  {
   "cell_type": "code",
   "execution_count": 65,
   "metadata": {},
   "outputs": [],
   "source": [
    "def calc_predicted_state_matrix(df_in, stateNo,deltaTime,A,Q):    \n",
    "    a_x, a_y = calc_a_x_y(df_in, stateNo, deltaTime)\n",
    "    \n",
    "    prev_state = get_state_vector_Xk(df_in, stateNo-1)\n",
    "    \n",
    "    if(stateNo == 1):\n",
    "        w_k_prev = np.array([[0],[0],[0],[0]])\n",
    "    else:\n",
    "        w_k_prev = w_k_noise(Q)\n",
    "        \n",
    "    \n",
    "    \n",
    "    A_dot_prev = A.dot(prev_state)\n",
    "    \n",
    "    Bu_k = np.array([\n",
    "        [a_x*deltaTime*deltaTime/2],\n",
    "        [a_y*deltaTime*deltaTime/2],\n",
    "        [a_x*deltaTime],\n",
    "        [a_y*deltaTime]])\n",
    "    \n",
    "    return A_dot_prev + Bu_k + w_k_prev\n",
    "        \n",
    "    "
   ]
  },
  {
   "cell_type": "markdown",
   "metadata": {},
   "source": [
    "# TIME UPDATE - PREDICT:"
   ]
  },
  {
   "cell_type": "markdown",
   "metadata": {},
   "source": [
    "# Predicted state matrix:"
   ]
  },
  {
   "cell_type": "code",
   "execution_count": 74,
   "metadata": {},
   "outputs": [
    {
     "name": "stdout",
     "output_type": "stream",
     "text": [
      "[[6.06249420e+06]\n",
      " [4.36825688e+06]\n",
      " [4.76800281e+00]\n",
      " [4.38503576e+00]]\n"
     ]
    }
   ],
   "source": [
    "A = return_mat_A(10)\n",
    "pred_state_mat = calc_predicted_state_matrix(polish_data,2,10,A,Q)\n",
    "print(pred_state_mat)"
   ]
  },
  {
   "cell_type": "markdown",
   "metadata": {},
   "source": [
    "## Project error covariance"
   ]
  },
  {
   "cell_type": "code",
   "execution_count": 75,
   "metadata": {},
   "outputs": [],
   "source": [
    "def error_covariance(A,Pk_prev,Q):\n",
    "    return (A.dot(Pk_prev)).dot(np.transpose(A)) + Q"
   ]
  },
  {
   "cell_type": "code",
   "execution_count": 76,
   "metadata": {},
   "outputs": [
    {
     "name": "stdout",
     "output_type": "stream",
     "text": [
      "[[325.  325.   12.5  12.5]\n",
      " [325.  325.   12.5  12.5]\n",
      " [ 12.5  12.5   0.5   0.5]\n",
      " [ 12.5  12.5   0.5   0.5]]\n"
     ]
    }
   ],
   "source": [
    "#Q ~~ P_k_1\n",
    "P_k = error_covariance(A,Q,Q)\n",
    "print(P_k)"
   ]
  },
  {
   "cell_type": "markdown",
   "metadata": {},
   "source": [
    "# Measurement Update\n"
   ]
  },
  {
   "cell_type": "markdown",
   "metadata": {},
   "source": [
    "## Kalman Gain $K_k$ :"
   ]
  },
  {
   "cell_type": "code",
   "execution_count": 77,
   "metadata": {},
   "outputs": [],
   "source": [
    "def get_Kalman_gain(P_k):\n",
    "    R = np.diag(np.diag(P_k))\n",
    "    H = np.identity(4)\n",
    "    \n",
    "    return (P_k.dot(np.transpose(H))).dot(  np.linalg.inv(H.dot(P_k).dot(np.transpose(H))  +R ))\n",
    "    "
   ]
  },
  {
   "cell_type": "code",
   "execution_count": 78,
   "metadata": {},
   "outputs": [
    {
     "name": "stdout",
     "output_type": "stream",
     "text": [
      "[[0.20895522 0.20895522 4.85074627 4.85074627]\n",
      " [0.20895522 0.20895522 4.85074627 4.85074627]\n",
      " [0.00746269 0.00746269 0.20895522 0.20895522]\n",
      " [0.00746269 0.00746269 0.20895522 0.20895522]]\n"
     ]
    }
   ],
   "source": [
    "Kalman_gain = get_Kalman_gain(P_k)\n",
    "print(Kalman_gain)"
   ]
  },
  {
   "cell_type": "markdown",
   "metadata": {},
   "source": [
    "# Update Estimate $\\hat{x}_k = \\hat{x}_{k}^{-} + ...$"
   ]
  },
  {
   "cell_type": "code",
   "execution_count": 80,
   "metadata": {},
   "outputs": [
    {
     "name": "stdout",
     "output_type": "stream",
     "text": [
      "[[6.06249637e+06]\n",
      " [4.36825906e+06]\n",
      " [4.72027481e+00]\n",
      " [4.33730776e+00]]\n"
     ]
    }
   ],
   "source": [
    "Updated_estimate = pred_state_mat + Kalman_gain.dot(get_state_vector_Xk(polish_data,2) - np.identity(4).dot(pred_state_mat))\n",
    "\n",
    "print(Updated_estimate)\n"
   ]
  },
  {
   "cell_type": "code",
   "execution_count": 72,
   "metadata": {},
   "outputs": [
    {
     "data": {
      "text/plain": [
       "array([[6.06244500e+06],\n",
       "       [4.36833500e+06],\n",
       "       [5.18856764e+00],\n",
       "       [3.44624282e-01]])"
      ]
     },
     "execution_count": 72,
     "metadata": {},
     "output_type": "execute_result"
    }
   ],
   "source": [
    "get_state_vector_Xk(polish_data,1)"
   ]
  },
  {
   "cell_type": "markdown",
   "metadata": {},
   "source": [
    "# Iterative TEST 1:"
   ]
  },
  {
   "cell_type": "code",
   "execution_count": 106,
   "metadata": {},
   "outputs": [
    {
     "data": {
      "text/plain": [
       "<function matplotlib.pyplot.plot(*args, scalex=True, scaley=True, data=None, **kwargs)>"
      ]
     },
     "execution_count": 106,
     "metadata": {},
     "output_type": "execute_result"
    },
    {
     "data": {
      "image/png": "[encoded data removed]",
      "text/plain": [
       "<Figure size 432x288 with 1 Axes>"
      ]
     },
     "metadata": {
      "needs_background": "light"
     },
     "output_type": "display_data"
    }
   ],
   "source": [
    "A = return_mat_A(10)\n",
    "Q = get_Pk_prev(10,10,0.5,0.5)\n",
    "H = np.identity(4)\n",
    "\n",
    "\n",
    "\n",
    "\n",
    "error_cov = Q\n",
    "save_states = []\n",
    "\n",
    "#Time update\n",
    "for i in range(0,38):\n",
    "    pred_state_mat = calc_predicted_state_matrix(polish_data,2,10,A,Q)\n",
    "    P_k = error_covariance(A,error_cov,Q)\n",
    "\n",
    "    #Correction update\n",
    "\n",
    "\n",
    "    Kalman_gain = get_Kalman_gain(P_k)\n",
    "    Updated_estimate = pred_state_mat + Kalman_gain.dot(get_state_vector_Xk(polish_data,2) - np.identity(4).dot(pred_state_mat))\n",
    "    save_states.append(Updated_estimate)\n",
    "    \n",
    "    error_cov = (np.identity(4) - Kalman_gain.dot(H)).dot(error_cov)\n",
    "    Q = P_k\n",
    "\n",
    "#print(save_states)\n",
    "\n",
    "x = []\n",
    "y = []\n",
    "for k in range(0,38):\n",
    "    temp_state = save_states[k]\n",
    "    \n",
    "    x.append(save_states[k][0][0])\n",
    "    y.append(save_states[k][1][0])\n",
    "    \n",
    "    \n",
    "plt.plot((x),(y))\n",
    "plt.plot"
   ]
  },
  {
   "cell_type": "code",
   "execution_count": 107,
   "metadata": {},
   "outputs": [
    {
     "data": {
      "text/plain": [
       "(0.23984085187904555, 0.33775072128096156)"
      ]
     },
     "execution_count": 107,
     "metadata": {},
     "output_type": "execute_result"
    }
   ],
   "source": [
    "calc_a_x_y(polish_data, 1, 11)"
   ]
  },
  {
   "cell_type": "code",
   "execution_count": null,
   "metadata": {},
   "outputs": [],
   "source": []
  },
  {
   "cell_type": "code",
   "execution_count": 139,
   "metadata": {},
   "outputs": [
    {
     "name": "stdout",
     "output_type": "stream",
     "text": [
      "[[6.06281377e+06]\n",
      " [4.36843672e+06]\n",
      " [1.41675197e+01]\n",
      " [1.38963114e+01]]\n"
     ]
    }
   ],
   "source": [
    "A = return_mat_A(10)\n",
    "Q = get_Pk_prev(10,10,0.5,0.5)\n",
    "H = np.identity(4)\n",
    "\n",
    "pred_state_mat = calc_predicted_state_matrix(polish_data,8,10,A,Q)\n",
    "P_k = error_covariance(A,error_cov,Q)\n",
    "\n",
    "    #Correction update\n",
    "\n",
    "\n",
    "Kalman_gain = get_Kalman_gain(P_k)\n",
    "Updated_estimate = pred_state_mat + Kalman_gain.dot(get_state_vector_Xk(polish_data,9) - np.identity(4).dot(pred_state_mat))\n",
    "save_states.append(Updated_estimate)\n",
    "\n",
    "error_cov = (np.identity(4) - Kalman_gain.dot(H)).dot(error_cov)\n",
    "Q = P_k\n",
    "\n",
    "print(Updated_estimate)"
   ]
  },
  {
   "cell_type": "code",
   "execution_count": null,
   "metadata": {},
   "outputs": [],
   "source": []
  },
  {
   "cell_type": "code",
   "execution_count": null,
   "metadata": {},
   "outputs": [],
   "source": []
  },
  {
   "cell_type": "code",
   "execution_count": null,
   "metadata": {},
   "outputs": [],
   "source": []
  },
  {
   "cell_type": "code",
   "execution_count": null,
   "metadata": {},
   "outputs": [],
   "source": []
  },
  {
   "cell_type": "code",
   "execution_count": null,
   "metadata": {},
   "outputs": [],
   "source": []
  },
  {
   "cell_type": "code",
   "execution_count": null,
   "metadata": {},
   "outputs": [],
   "source": []
  },
  {
   "cell_type": "code",
   "execution_count": null,
   "metadata": {},
   "outputs": [],
   "source": []
  },
  {
   "cell_type": "code",
   "execution_count": null,
   "metadata": {},
   "outputs": [],
   "source": []
  },
  {
   "cell_type": "code",
   "execution_count": null,
   "metadata": {},
   "outputs": [],
   "source": []
  }
 ],
 "metadata": {
  "kernelspec": {
   "display_name": "Python 3",
   "language": "python",
   "name": "python3"
  },
  "language_info": {
   "codemirror_mode": {
    "name": "ipython",
    "version": 3
   },
   "file_extension": ".py",
   "mimetype": "text/x-python",
   "name": "python",
   "nbconvert_exporter": "python",
   "pygments_lexer": "ipython3",
   "version": "3.7.4"
  }
 },
 "nbformat": 4,
 "nbformat_minor": 2
}
