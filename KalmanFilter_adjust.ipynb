{
 "cells": [
  {
   "cell_type": "code",
   "execution_count": 1,
   "metadata": {},
   "outputs": [],
   "source": [
    "import numpy as np\n",
    "import pandas as pd\n",
    "import copy\n",
    "import matplotlib.pyplot as plt\n",
    "import math"
   ]
  },
  {
   "cell_type": "markdown",
   "metadata": {},
   "source": [
    "# Importing the dataset"
   ]
  },
  {
   "cell_type": "code",
   "execution_count": 2,
   "metadata": {},
   "outputs": [
    {
     "name": "stdout",
     "output_type": "stream",
     "text": [
      "   time  delta_time        X        Y  rot  Vmps  rot_sec\n",
      "0     0           0  6062445  4368335  3.8   5.2     0.13\n",
      "1    11          11  6062500  4368343  5.1   5.2     0.12\n",
      "2    20           9  6062556  4368351  6.3   5.2    -0.10\n",
      "3    29           9  6062600  4368359  5.3   5.4     0.35\n",
      "4    39          10  6062655  4368367  8.8   5.3    -0.12\n"
     ]
    }
   ],
   "source": [
    "polish_data = pd.read_csv(r\"polish_data.csv\")\n",
    "print(polish_data.head())"
   ]
  },
  {
   "cell_type": "markdown",
   "metadata": {},
   "source": [
    "## Conversion functions:"
   ]
  },
  {
   "cell_type": "code",
   "execution_count": 3,
   "metadata": {},
   "outputs": [],
   "source": [
    "def deg_to_rad(deg):\n",
    "    return deg*np.pi/180\n",
    "\n",
    "def rad_to_deg(rad):\n",
    "    return rad*180/np.pi"
   ]
  },
  {
   "cell_type": "markdown",
   "metadata": {},
   "source": [
    "## Formulas fo the excelleration in the X and Y axis:"
   ]
  },
  {
   "cell_type": "code",
   "execution_count": 4,
   "metadata": {},
   "outputs": [],
   "source": [
    "def get_mat_A(deltaTime):\n",
    "    A = np.identity(4)\n",
    "    A[0,2] = deltaTime\n",
    "    A[1,3] = deltaTime\n",
    "    return A"
   ]
  },
  {
   "cell_type": "code",
   "execution_count": 5,
   "metadata": {},
   "outputs": [],
   "source": [
    "def predict_state(A, X_prev, a_x, a_y, deltaTIME):\n",
    "        \n",
    "    Bu_k = np.array([[a_x*deltaTIME*deltaTIME/2],\n",
    "                     [a_y*deltaTIME*deltaTIME/2],\n",
    "                     [a_x*deltaTIME],\n",
    "                     [a_y*deltaTIME]])\n",
    "    \n",
    "    pred_state = A.dot(X_prev) + Bu_k\n",
    "    return pred_state"
   ]
  },
  {
   "cell_type": "markdown",
   "metadata": {},
   "source": [
    "## Predicting the Proccess error covariance $P_{k}^{-}$ :"
   ]
  },
  {
   "cell_type": "code",
   "execution_count": 6,
   "metadata": {},
   "outputs": [],
   "source": [
    "def pred_err_cov(A, Pk, Q):\n",
    "    return A.dot(Pk).dot(np.transpose(A)) + Q"
   ]
  },
  {
   "cell_type": "markdown",
   "metadata": {},
   "source": [
    "## Kalman gain $K_k$ :"
   ]
  },
  {
   "cell_type": "code",
   "execution_count": 7,
   "metadata": {},
   "outputs": [],
   "source": [
    "def Kalman_gain(P_k, H, R):\n",
    "    above = P_k.dot(np.transpose(H))\n",
    "    bottom = np.linalg.inv(H.dot(P_k).dot(np.transpose(H)) + R)\n",
    "    return above.dot(bottom)"
   ]
  },
  {
   "cell_type": "markdown",
   "metadata": {},
   "source": [
    "## A posteriori estimate $\\hat{x}_k$ :"
   ]
  },
  {
   "cell_type": "code",
   "execution_count": 8,
   "metadata": {},
   "outputs": [],
   "source": [
    "def adjust_pred_state(pred_state, Kk,z_k,H):\n",
    "    #Where z_k == the real observed value to adjust for the errors made\n",
    "    return pred_state + Kk.dot(z_k - H.dot(pred_state))"
   ]
  },
  {
   "cell_type": "markdown",
   "metadata": {},
   "source": [
    "## Update proccess error cov $P_k$"
   ]
  },
  {
   "cell_type": "code",
   "execution_count": 9,
   "metadata": {},
   "outputs": [],
   "source": [
    "def update_err_cov(I,Kk,H,P_k):\n",
    "    return (I - Kk.dot(H)).dot(P_k)    "
   ]
  },
  {
   "cell_type": "code",
   "execution_count": 38,
   "metadata": {},
   "outputs": [],
   "source": [
    "def calc_a_xy(arr_in, arr_prev):\n",
    "    \n",
    "    sog_now = arr_in[5]\n",
    "    sog_prev = arr_prev[5]\n",
    "    \n",
    "    cog_now = arr_in[4]*np.pi/180\n",
    "    cog_prev = arr_prev[4]*np.pi/180\n",
    "    \n",
    "    rot_now = arr_in[6]*np.pi/180\n",
    "    \n",
    "    delta_time = arr_in[1]\n",
    "    \n",
    "    a_x = (sog_now*np.cos(cog_now + rot_now*delta_time) - sog_prev*np.cos(cog_prev))/delta_time\n",
    "    \n",
    "    a_y = (sog_now*np.sin(cog_now + rot_now*delta_time) - sog_prev*np.sin(cog_prev))/delta_time \n",
    "    \n",
    "    return a_x, a_y\n",
    "    "
   ]
  },
  {
   "cell_type": "code",
   "execution_count": 39,
   "metadata": {},
   "outputs": [],
   "source": [
    "def convert_state(arr_in):\n",
    "    sog = arr_in[5]\n",
    "    cog = arr_in[4]\n",
    "    \n",
    "    x = arr_in[2]\n",
    "    y = arr_in[3]\n",
    "    Vx = sog*np.cos(deg_to_rad(cog))\n",
    "    Vy = sog*np.sin(deg_to_rad(cog))\n",
    "    \n",
    "    return_arr = np.array([[x],[y],[Vx],[Vy]])\n",
    "    \n",
    "    return return_arr"
   ]
  },
  {
   "cell_type": "markdown",
   "metadata": {},
   "source": [
    "## Kalman Filter:"
   ]
  },
  {
   "cell_type": "code",
   "execution_count": 53,
   "metadata": {},
   "outputs": [],
   "source": [
    "# Declaring the constants for Kalman filter:\n",
    "A = get_mat_A(1)\n",
    "P_k = np.array([[10],[10],[0.5],[0.5]]).dot(np.transpose(np.array([[10],[10],[0.5],[0.5]])))\n",
    "H = np.identity(4)\n",
    "I = np.identity(4)\n",
    "\n",
    "\n",
    "# Sensitivity measures, deep copy to avoid address pointers:\n",
    "R = np.diag(np.diag(copy.deepcopy(P_k)))\n",
    "Q = copy.deepcopy(P_k)\n",
    "\n",
    "# Kalman Initial state\n",
    "X_state = np.array([[0],[0],[0],[0]])\n",
    "ax_arr = []\n",
    "ay_arr = []\n",
    "\n",
    "X_save_states = []\n",
    "\n",
    "polish_counter = 1 # counter for the original data set obsevations\n",
    "for i in range(0,380):\n",
    "    \n",
    "    '''If we observe the value we observe this'''\n",
    "    if(polish_data.iloc[polish_counter,0] == i and polish_counter < 21):\n",
    "        zk_prev = polish_data.iloc[polish_counter-1,:].values\n",
    "        z_k = polish_data.iloc[polish_counter,:].values # convert to numpy array -observed value\n",
    "        \n",
    "        delta_TIME = copy.deepcopy(z_k[1])\n",
    "            \n",
    "        ax, ay = calc_a_xy(z_k,zk_prev)\n",
    "        ax_arr.append(ax)\n",
    "        ay_arr.append(ay)\n",
    "        \n",
    "        z_k = copy.deepcopy(convert_state(z_k))\n",
    "       \n",
    "        X_state = copy.deepcopy(convert_state(zk_prev))\n",
    "        #Kalman Predict        \n",
    "        X_state = copy.deepcopy(predict_state(A, X_state, ax, ay, 1))\n",
    "        P_k =  copy.deepcopy(pred_err_cov(A, P_k, Q))\n",
    "        \n",
    "        # Measuremenet update\n",
    "        Kalman_k = copy.deepcopy(Kalman_gain(P_k, H, R))\n",
    "        X_state = copy.deepcopy(adjust_pred_state(X_state, Kalman_k, z_k, H))\n",
    "        P_k = copy.deepcopy(update_err_cov(I, Kalman_k, H, P_k))\n",
    "        \n",
    "        X_save_states.append(copy.deepcopy(X_state))\n",
    "        \n",
    "        polish_counter += 1\n",
    "        #print(z_k, '\\n')\n",
    "    else:\n",
    "        '''This code will be excecuted when we have no observation'''\n",
    "        ay = 0\n",
    "        ax = 0\n",
    "        X_state = copy.deepcopy(predict_state(A, X_state, ax, ay, 1))\n",
    "        P_k =  copy.deepcopy(pred_err_cov(A,P_k,Q))\n",
    "        X_save_states.append(copy.deepcopy(X_state))\n",
    "    "
   ]
  },
  {
   "cell_type": "code",
   "execution_count": 54,
   "metadata": {},
   "outputs": [
    {
     "data": {
      "text/plain": [
       "[<matplotlib.lines.Line2D at 0x7ff0d051c710>]"
      ]
     },
     "execution_count": 54,
     "metadata": {},
     "output_type": "execute_result"
    },
    {
     "data": {
      "image/png": "[encoded data removed]",
      "text/plain": [
       "<Figure size 432x288 with 1 Axes>"
      ]
     },
     "metadata": {
      "needs_background": "light"
     },
     "output_type": "display_data"
    }
   ],
   "source": [
    "plt.plot(ax_arr)\n",
    "plt.plot(ay_arr)"
   ]
  },
  {
   "cell_type": "code",
   "execution_count": 55,
   "metadata": {},
   "outputs": [
    {
     "data": {
      "text/plain": [
       "0.0"
      ]
     },
     "execution_count": 55,
     "metadata": {},
     "output_type": "execute_result"
    }
   ],
   "source": [
    "X_save_states[1][1][0]"
   ]
  },
  {
   "cell_type": "code",
   "execution_count": 56,
   "metadata": {},
   "outputs": [
    {
     "data": {
      "text/plain": [
       "[]"
      ]
     },
     "execution_count": 56,
     "metadata": {},
     "output_type": "execute_result"
    },
    {
     "data": {
      "image/png": "[encoded data removed]",
      "text/plain": [
       "<Figure size 432x288 with 1 Axes>"
      ]
     },
     "metadata": {
      "needs_background": "light"
     },
     "output_type": "display_data"
    }
   ],
   "source": [
    "X_coord = []\n",
    "Y_coord = []\n",
    "\n",
    "X_orig = polish_data.iloc[:,2]\n",
    "Y_orig = polish_data.iloc[:,3]\n",
    "\n",
    "for i in range(0,380):\n",
    "    X_coord.append(X_save_states[i][0][0])\n",
    "    #print(X_save_states[i][0][0])\n",
    "    Y_coord.append(X_save_states[i][1][0])\n",
    "\n",
    "    \n",
    "plt.plot(X_coord[11:380], Y_coord[11:380], \"bo\")\n",
    "plt.plot(X_orig,Y_orig, \"rx\")\n",
    "plt.plot()"
   ]
  },
  {
   "cell_type": "code",
   "execution_count": 16,
   "metadata": {},
   "outputs": [
    {
     "data": {
      "text/html": [
       "<div>\n",
       "<style scoped>\n",
       "    .dataframe tbody tr th:only-of-type {\n",
       "        vertical-align: middle;\n",
       "    }\n",
       "\n",
       "    .dataframe tbody tr th {\n",
       "        vertical-align: top;\n",
       "    }\n",
       "\n",
       "    .dataframe thead th {\n",
       "        text-align: right;\n",
       "    }\n",
       "</style>\n",
       "<table border=\"1\" class=\"dataframe\">\n",
       "  <thead>\n",
       "    <tr style=\"text-align: right;\">\n",
       "      <th></th>\n",
       "      <th>time</th>\n",
       "      <th>delta_time</th>\n",
       "      <th>X</th>\n",
       "      <th>Y</th>\n",
       "      <th>rot</th>\n",
       "      <th>Vmps</th>\n",
       "      <th>rot_sec</th>\n",
       "    </tr>\n",
       "  </thead>\n",
       "  <tbody>\n",
       "    <tr>\n",
       "      <th>0</th>\n",
       "      <td>0</td>\n",
       "      <td>0</td>\n",
       "      <td>6062445</td>\n",
       "      <td>4368335</td>\n",
       "      <td>3.8</td>\n",
       "      <td>5.2</td>\n",
       "      <td>0.13</td>\n",
       "    </tr>\n",
       "    <tr>\n",
       "      <th>1</th>\n",
       "      <td>11</td>\n",
       "      <td>11</td>\n",
       "      <td>6062500</td>\n",
       "      <td>4368343</td>\n",
       "      <td>5.1</td>\n",
       "      <td>5.2</td>\n",
       "      <td>0.12</td>\n",
       "    </tr>\n",
       "    <tr>\n",
       "      <th>2</th>\n",
       "      <td>20</td>\n",
       "      <td>9</td>\n",
       "      <td>6062556</td>\n",
       "      <td>4368351</td>\n",
       "      <td>6.3</td>\n",
       "      <td>5.2</td>\n",
       "      <td>-0.10</td>\n",
       "    </tr>\n",
       "    <tr>\n",
       "      <th>3</th>\n",
       "      <td>29</td>\n",
       "      <td>9</td>\n",
       "      <td>6062600</td>\n",
       "      <td>4368359</td>\n",
       "      <td>5.3</td>\n",
       "      <td>5.4</td>\n",
       "      <td>0.35</td>\n",
       "    </tr>\n",
       "    <tr>\n",
       "      <th>4</th>\n",
       "      <td>39</td>\n",
       "      <td>10</td>\n",
       "      <td>6062655</td>\n",
       "      <td>4368367</td>\n",
       "      <td>8.8</td>\n",
       "      <td>5.3</td>\n",
       "      <td>-0.12</td>\n",
       "    </tr>\n",
       "    <tr>\n",
       "      <th>5</th>\n",
       "      <td>50</td>\n",
       "      <td>11</td>\n",
       "      <td>6062711</td>\n",
       "      <td>4368375</td>\n",
       "      <td>7.6</td>\n",
       "      <td>5.5</td>\n",
       "      <td>-0.42</td>\n",
       "    </tr>\n",
       "    <tr>\n",
       "      <th>6</th>\n",
       "      <td>60</td>\n",
       "      <td>10</td>\n",
       "      <td>6062766</td>\n",
       "      <td>4368383</td>\n",
       "      <td>3.4</td>\n",
       "      <td>5.5</td>\n",
       "      <td>0.33</td>\n",
       "    </tr>\n",
       "    <tr>\n",
       "      <th>7</th>\n",
       "      <td>71</td>\n",
       "      <td>11</td>\n",
       "      <td>6062822</td>\n",
       "      <td>4368391</td>\n",
       "      <td>6.7</td>\n",
       "      <td>5.5</td>\n",
       "      <td>-0.29</td>\n",
       "    </tr>\n",
       "    <tr>\n",
       "      <th>8</th>\n",
       "      <td>99</td>\n",
       "      <td>28</td>\n",
       "      <td>6062988</td>\n",
       "      <td>4368422</td>\n",
       "      <td>3.8</td>\n",
       "      <td>5.3</td>\n",
       "      <td>0.50</td>\n",
       "    </tr>\n",
       "    <tr>\n",
       "      <th>9</th>\n",
       "      <td>110</td>\n",
       "      <td>11</td>\n",
       "      <td>6063043</td>\n",
       "      <td>4368430</td>\n",
       "      <td>8.8</td>\n",
       "      <td>5.4</td>\n",
       "      <td>-0.07</td>\n",
       "    </tr>\n",
       "    <tr>\n",
       "      <th>10</th>\n",
       "      <td>140</td>\n",
       "      <td>30</td>\n",
       "      <td>6063210</td>\n",
       "      <td>4368454</td>\n",
       "      <td>8.1</td>\n",
       "      <td>5.7</td>\n",
       "      <td>-0.08</td>\n",
       "    </tr>\n",
       "    <tr>\n",
       "      <th>11</th>\n",
       "      <td>149</td>\n",
       "      <td>9</td>\n",
       "      <td>6063254</td>\n",
       "      <td>4368462</td>\n",
       "      <td>7.3</td>\n",
       "      <td>5.6</td>\n",
       "      <td>-0.11</td>\n",
       "    </tr>\n",
       "    <tr>\n",
       "      <th>12</th>\n",
       "      <td>170</td>\n",
       "      <td>21</td>\n",
       "      <td>6063365</td>\n",
       "      <td>4368484</td>\n",
       "      <td>6.2</td>\n",
       "      <td>5.4</td>\n",
       "      <td>0.06</td>\n",
       "    </tr>\n",
       "    <tr>\n",
       "      <th>13</th>\n",
       "      <td>191</td>\n",
       "      <td>21</td>\n",
       "      <td>6063487</td>\n",
       "      <td>4368501</td>\n",
       "      <td>6.8</td>\n",
       "      <td>5.8</td>\n",
       "      <td>-0.28</td>\n",
       "    </tr>\n",
       "    <tr>\n",
       "      <th>14</th>\n",
       "      <td>200</td>\n",
       "      <td>9</td>\n",
       "      <td>6063542</td>\n",
       "      <td>4368509</td>\n",
       "      <td>4.0</td>\n",
       "      <td>5.4</td>\n",
       "      <td>0.47</td>\n",
       "    </tr>\n",
       "    <tr>\n",
       "      <th>15</th>\n",
       "      <td>311</td>\n",
       "      <td>111</td>\n",
       "      <td>6064152</td>\n",
       "      <td>4368604</td>\n",
       "      <td>8.7</td>\n",
       "      <td>5.9</td>\n",
       "      <td>-0.52</td>\n",
       "    </tr>\n",
       "    <tr>\n",
       "      <th>16</th>\n",
       "      <td>339</td>\n",
       "      <td>28</td>\n",
       "      <td>6064307</td>\n",
       "      <td>4368628</td>\n",
       "      <td>3.5</td>\n",
       "      <td>5.6</td>\n",
       "      <td>0.50</td>\n",
       "    </tr>\n",
       "    <tr>\n",
       "      <th>17</th>\n",
       "      <td>350</td>\n",
       "      <td>11</td>\n",
       "      <td>6064373</td>\n",
       "      <td>4368643</td>\n",
       "      <td>8.5</td>\n",
       "      <td>5.7</td>\n",
       "      <td>0.43</td>\n",
       "    </tr>\n",
       "    <tr>\n",
       "      <th>18</th>\n",
       "      <td>360</td>\n",
       "      <td>10</td>\n",
       "      <td>6064429</td>\n",
       "      <td>4368651</td>\n",
       "      <td>12.8</td>\n",
       "      <td>5.8</td>\n",
       "      <td>-0.28</td>\n",
       "    </tr>\n",
       "    <tr>\n",
       "      <th>19</th>\n",
       "      <td>379</td>\n",
       "      <td>19</td>\n",
       "      <td>6064540</td>\n",
       "      <td>4368667</td>\n",
       "      <td>10.0</td>\n",
       "      <td>5.9</td>\n",
       "      <td>-0.10</td>\n",
       "    </tr>\n",
       "  </tbody>\n",
       "</table>\n",
       "</div>"
      ],
      "text/plain": [
       "    time  delta_time        X        Y   rot  Vmps  rot_sec\n",
       "0      0           0  6062445  4368335   3.8   5.2     0.13\n",
       "1     11          11  6062500  4368343   5.1   5.2     0.12\n",
       "2     20           9  6062556  4368351   6.3   5.2    -0.10\n",
       "3     29           9  6062600  4368359   5.3   5.4     0.35\n",
       "4     39          10  6062655  4368367   8.8   5.3    -0.12\n",
       "5     50          11  6062711  4368375   7.6   5.5    -0.42\n",
       "6     60          10  6062766  4368383   3.4   5.5     0.33\n",
       "7     71          11  6062822  4368391   6.7   5.5    -0.29\n",
       "8     99          28  6062988  4368422   3.8   5.3     0.50\n",
       "9    110          11  6063043  4368430   8.8   5.4    -0.07\n",
       "10   140          30  6063210  4368454   8.1   5.7    -0.08\n",
       "11   149           9  6063254  4368462   7.3   5.6    -0.11\n",
       "12   170          21  6063365  4368484   6.2   5.4     0.06\n",
       "13   191          21  6063487  4368501   6.8   5.8    -0.28\n",
       "14   200           9  6063542  4368509   4.0   5.4     0.47\n",
       "15   311         111  6064152  4368604   8.7   5.9    -0.52\n",
       "16   339          28  6064307  4368628   3.5   5.6     0.50\n",
       "17   350          11  6064373  4368643   8.5   5.7     0.43\n",
       "18   360          10  6064429  4368651  12.8   5.8    -0.28\n",
       "19   379          19  6064540  4368667  10.0   5.9    -0.10"
      ]
     },
     "execution_count": 16,
     "metadata": {},
     "output_type": "execute_result"
    }
   ],
   "source": [
    "polish_data"
   ]
  },
  {
   "cell_type": "code",
   "execution_count": null,
   "metadata": {},
   "outputs": [],
   "source": []
  },
  {
   "cell_type": "code",
   "execution_count": null,
   "metadata": {},
   "outputs": [],
   "source": []
  }
 ],
 "metadata": {
  "kernelspec": {
   "display_name": "Python 3",
   "language": "python",
   "name": "python3"
  },
  "language_info": {
   "codemirror_mode": {
    "name": "ipython",
    "version": 3
   },
   "file_extension": ".py",
   "mimetype": "text/x-python",
   "name": "python",
   "nbconvert_exporter": "python",
   "pygments_lexer": "ipython3",
   "version": "3.6.9"
  }
 },
 "nbformat": 4,
 "nbformat_minor": 2
}
