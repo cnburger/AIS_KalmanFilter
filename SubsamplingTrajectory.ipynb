{
 "cells": [
  {
   "cell_type": "code",
   "execution_count": 4,
   "metadata": {},
   "outputs": [],
   "source": [
    "import numpy as np\n",
    "import pandas as pd\n",
    "import copy\n",
    "import matplotlib.pyplot as plt\n",
    "from matplotlib.patches import Ellipse\n",
    "import math\n",
    "import datetime\n",
    "\n",
    "import matplotlib as mpl\n",
    "mpl.rcParams.update(mpl.rcParamsDefault)"
   ]
  },
  {
   "cell_type": "markdown",
   "metadata": {},
   "source": [
    "## Importing dataset:"
   ]
  },
  {
   "cell_type": "code",
   "execution_count": 2,
   "metadata": {},
   "outputs": [
    {
     "data": {
      "text/html": [
       "<div>\n",
       "<style scoped>\n",
       "    .dataframe tbody tr th:only-of-type {\n",
       "        vertical-align: middle;\n",
       "    }\n",
       "\n",
       "    .dataframe tbody tr th {\n",
       "        vertical-align: top;\n",
       "    }\n",
       "\n",
       "    .dataframe thead th {\n",
       "        text-align: right;\n",
       "    }\n",
       "</style>\n",
       "<table border=\"1\" class=\"dataframe\">\n",
       "  <thead>\n",
       "    <tr style=\"text-align: right;\">\n",
       "      <th></th>\n",
       "      <th>mmsi</th>\n",
       "      <th>lat</th>\n",
       "      <th>long</th>\n",
       "      <th>sog</th>\n",
       "      <th>rot</th>\n",
       "      <th>cog</th>\n",
       "      <th>datetimestamp</th>\n",
       "    </tr>\n",
       "  </thead>\n",
       "  <tbody>\n",
       "    <tr>\n",
       "      <th>0</th>\n",
       "      <td>636092331</td>\n",
       "      <td>-4.767917</td>\n",
       "      <td>48.766190</td>\n",
       "      <td>12.2</td>\n",
       "      <td>15</td>\n",
       "      <td>61.0</td>\n",
       "      <td>2016-03-03 10:58:24</td>\n",
       "    </tr>\n",
       "    <tr>\n",
       "      <th>1</th>\n",
       "      <td>636092331</td>\n",
       "      <td>-4.835128</td>\n",
       "      <td>48.742413</td>\n",
       "      <td>13.1</td>\n",
       "      <td>-27</td>\n",
       "      <td>68.5</td>\n",
       "      <td>2016-03-03 10:43:54</td>\n",
       "    </tr>\n",
       "    <tr>\n",
       "      <th>2</th>\n",
       "      <td>636092331</td>\n",
       "      <td>-4.835327</td>\n",
       "      <td>48.742360</td>\n",
       "      <td>12.8</td>\n",
       "      <td>-29</td>\n",
       "      <td>68.3</td>\n",
       "      <td>2016-03-03 10:43:53</td>\n",
       "    </tr>\n",
       "    <tr>\n",
       "      <th>3</th>\n",
       "      <td>636092331</td>\n",
       "      <td>-4.835595</td>\n",
       "      <td>48.742290</td>\n",
       "      <td>12.4</td>\n",
       "      <td>-37</td>\n",
       "      <td>67.1</td>\n",
       "      <td>2016-03-03 10:43:48</td>\n",
       "    </tr>\n",
       "    <tr>\n",
       "      <th>4</th>\n",
       "      <td>636092331</td>\n",
       "      <td>-4.836520</td>\n",
       "      <td>48.742012</td>\n",
       "      <td>12.8</td>\n",
       "      <td>-19</td>\n",
       "      <td>61.4</td>\n",
       "      <td>2016-03-03 10:43:38</td>\n",
       "    </tr>\n",
       "    <tr>\n",
       "      <th>...</th>\n",
       "      <td>...</td>\n",
       "      <td>...</td>\n",
       "      <td>...</td>\n",
       "      <td>...</td>\n",
       "      <td>...</td>\n",
       "      <td>...</td>\n",
       "      <td>...</td>\n",
       "    </tr>\n",
       "    <tr>\n",
       "      <th>6245</th>\n",
       "      <td>636092331</td>\n",
       "      <td>-5.127655</td>\n",
       "      <td>48.122654</td>\n",
       "      <td>13.3</td>\n",
       "      <td>28</td>\n",
       "      <td>76.4</td>\n",
       "      <td>2016-03-02 04:53:52</td>\n",
       "    </tr>\n",
       "    <tr>\n",
       "      <th>6246</th>\n",
       "      <td>636092331</td>\n",
       "      <td>-5.128298</td>\n",
       "      <td>48.122547</td>\n",
       "      <td>13.1</td>\n",
       "      <td>36</td>\n",
       "      <td>74.6</td>\n",
       "      <td>2016-03-02 04:53:46</td>\n",
       "    </tr>\n",
       "    <tr>\n",
       "      <th>6247</th>\n",
       "      <td>636092331</td>\n",
       "      <td>-5.128785</td>\n",
       "      <td>48.122480</td>\n",
       "      <td>13.6</td>\n",
       "      <td>-14</td>\n",
       "      <td>71.4</td>\n",
       "      <td>2016-03-02 04:53:40</td>\n",
       "    </tr>\n",
       "    <tr>\n",
       "      <th>6248</th>\n",
       "      <td>636092331</td>\n",
       "      <td>-5.129277</td>\n",
       "      <td>48.122353</td>\n",
       "      <td>13.8</td>\n",
       "      <td>34</td>\n",
       "      <td>72.9</td>\n",
       "      <td>2016-03-02 04:53:34</td>\n",
       "    </tr>\n",
       "    <tr>\n",
       "      <th>6249</th>\n",
       "      <td>636092331</td>\n",
       "      <td>-5.129785</td>\n",
       "      <td>48.122260</td>\n",
       "      <td>13.3</td>\n",
       "      <td>-20</td>\n",
       "      <td>71.3</td>\n",
       "      <td>2016-03-02 04:53:28</td>\n",
       "    </tr>\n",
       "  </tbody>\n",
       "</table>\n",
       "<p>6250 rows × 7 columns</p>\n",
       "</div>"
      ],
      "text/plain": [
       "           mmsi       lat       long   sog  rot   cog        datetimestamp\n",
       "0     636092331 -4.767917  48.766190  12.2   15  61.0  2016-03-03 10:58:24\n",
       "1     636092331 -4.835128  48.742413  13.1  -27  68.5  2016-03-03 10:43:54\n",
       "2     636092331 -4.835327  48.742360  12.8  -29  68.3  2016-03-03 10:43:53\n",
       "3     636092331 -4.835595  48.742290  12.4  -37  67.1  2016-03-03 10:43:48\n",
       "4     636092331 -4.836520  48.742012  12.8  -19  61.4  2016-03-03 10:43:38\n",
       "...         ...       ...        ...   ...  ...   ...                  ...\n",
       "6245  636092331 -5.127655  48.122654  13.3   28  76.4  2016-03-02 04:53:52\n",
       "6246  636092331 -5.128298  48.122547  13.1   36  74.6  2016-03-02 04:53:46\n",
       "6247  636092331 -5.128785  48.122480  13.6  -14  71.4  2016-03-02 04:53:40\n",
       "6248  636092331 -5.129277  48.122353  13.8   34  72.9  2016-03-02 04:53:34\n",
       "6249  636092331 -5.129785  48.122260  13.3  -20  71.3  2016-03-02 04:53:28\n",
       "\n",
       "[6250 rows x 7 columns]"
      ]
     },
     "execution_count": 2,
     "metadata": {},
     "output_type": "execute_result"
    }
   ],
   "source": [
    "MMSI636092331 = pd.read_csv(r\"MMSI636092331.csv\")\n",
    "MMSI636092331"
   ]
  },
  {
   "cell_type": "markdown",
   "metadata": {},
   "source": [
    "# Converting types:"
   ]
  },
  {
   "cell_type": "code",
   "execution_count": 30,
   "metadata": {},
   "outputs": [
    {
     "ename": "AttributeError",
     "evalue": "'DataFrame' object has no attribute 'sort'",
     "output_type": "error",
     "traceback": [
      "\u001b[0;31m---------------------------------------------------------------------------\u001b[0m",
      "\u001b[0;31mAttributeError\u001b[0m                            Traceback (most recent call last)",
      "\u001b[0;32m<ipython-input-30-e3be9f99d97c>\u001b[0m in \u001b[0;36m<module>\u001b[0;34m\u001b[0m\n\u001b[0;32m----> 1\u001b[0;31m \u001b[0mpd_data\u001b[0m \u001b[0;34m=\u001b[0m \u001b[0mcopy\u001b[0m\u001b[0;34m.\u001b[0m\u001b[0mdeepcopy\u001b[0m\u001b[0;34m(\u001b[0m\u001b[0mMMSI636092331\u001b[0m\u001b[0;34m.\u001b[0m\u001b[0msort\u001b[0m\u001b[0;34m(\u001b[0m\u001b[0;34m'datetimestamp'\u001b[0m\u001b[0;34m)\u001b[0m\u001b[0;34m)\u001b[0m\u001b[0;34m\u001b[0m\u001b[0;34m\u001b[0m\u001b[0m\n\u001b[0m\u001b[1;32m      2\u001b[0m \u001b[0;34m\u001b[0m\u001b[0m\n\u001b[1;32m      3\u001b[0m \u001b[0mpd\u001b[0m\u001b[0;34m.\u001b[0m\u001b[0mto_datetime\u001b[0m\u001b[0;34m(\u001b[0m\u001b[0mpd_data\u001b[0m\u001b[0;34m.\u001b[0m\u001b[0miloc\u001b[0m\u001b[0;34m[\u001b[0m\u001b[0;34m:\u001b[0m\u001b[0;34m,\u001b[0m\u001b[0;36m6\u001b[0m\u001b[0;34m]\u001b[0m\u001b[0;34m)\u001b[0m \u001b[0;34m-\u001b[0m \u001b[0mpd\u001b[0m\u001b[0;34m.\u001b[0m\u001b[0mto_datetime\u001b[0m\u001b[0;34m(\u001b[0m\u001b[0;34m'2016-03-03 10:58:24'\u001b[0m\u001b[0;34m)\u001b[0m\u001b[0;34m\u001b[0m\u001b[0;34m\u001b[0m\u001b[0m\n",
      "\u001b[0;32m~/.local/lib/python3.6/site-packages/pandas/core/generic.py\u001b[0m in \u001b[0;36m__getattr__\u001b[0;34m(self, name)\u001b[0m\n\u001b[1;32m   5272\u001b[0m             \u001b[0;32mif\u001b[0m \u001b[0mself\u001b[0m\u001b[0;34m.\u001b[0m\u001b[0m_info_axis\u001b[0m\u001b[0;34m.\u001b[0m\u001b[0m_can_hold_identifiers_and_holds_name\u001b[0m\u001b[0;34m(\u001b[0m\u001b[0mname\u001b[0m\u001b[0;34m)\u001b[0m\u001b[0;34m:\u001b[0m\u001b[0;34m\u001b[0m\u001b[0;34m\u001b[0m\u001b[0m\n\u001b[1;32m   5273\u001b[0m                 \u001b[0;32mreturn\u001b[0m \u001b[0mself\u001b[0m\u001b[0;34m[\u001b[0m\u001b[0mname\u001b[0m\u001b[0;34m]\u001b[0m\u001b[0;34m\u001b[0m\u001b[0;34m\u001b[0m\u001b[0m\n\u001b[0;32m-> 5274\u001b[0;31m             \u001b[0;32mreturn\u001b[0m \u001b[0mobject\u001b[0m\u001b[0;34m.\u001b[0m\u001b[0m__getattribute__\u001b[0m\u001b[0;34m(\u001b[0m\u001b[0mself\u001b[0m\u001b[0;34m,\u001b[0m \u001b[0mname\u001b[0m\u001b[0;34m)\u001b[0m\u001b[0;34m\u001b[0m\u001b[0;34m\u001b[0m\u001b[0m\n\u001b[0m\u001b[1;32m   5275\u001b[0m \u001b[0;34m\u001b[0m\u001b[0m\n\u001b[1;32m   5276\u001b[0m     \u001b[0;32mdef\u001b[0m \u001b[0m__setattr__\u001b[0m\u001b[0;34m(\u001b[0m\u001b[0mself\u001b[0m\u001b[0;34m,\u001b[0m \u001b[0mname\u001b[0m\u001b[0;34m:\u001b[0m \u001b[0mstr\u001b[0m\u001b[0;34m,\u001b[0m \u001b[0mvalue\u001b[0m\u001b[0;34m)\u001b[0m \u001b[0;34m->\u001b[0m \u001b[0;32mNone\u001b[0m\u001b[0;34m:\u001b[0m\u001b[0;34m\u001b[0m\u001b[0;34m\u001b[0m\u001b[0m\n",
      "\u001b[0;31mAttributeError\u001b[0m: 'DataFrame' object has no attribute 'sort'"
     ]
    }
   ],
   "source": [
    "pd_data = copy.deepcopy(MMSI636092331.sort('datetimestamp'))\n",
    "\n",
    "pd.to_datetime(pd_data.iloc[:,6]) - pd.to_datetime('2016-03-03 10:58:24')"
   ]
  },
  {
   "cell_type": "code",
   "execution_count": 92,
   "metadata": {},
   "outputs": [
    {
     "name": "stdout",
     "output_type": "stream",
     "text": [
      "2016-03-02 03:33:34\n"
     ]
    },
    {
     "data": {
      "text/plain": [
       "0.0"
      ]
     },
     "execution_count": 92,
     "metadata": {},
     "output_type": "execute_result"
    }
   ],
   "source": [
    "MMSI636092331['datetimestamp'] = pd.to_datetime(MMSI636092331['datetimestamp'])\n",
    "#MMSI636092331.sort('datetimestamp')\n",
    "df_sorted = copy.deepcopy(MMSI636092331.sort_values(by = 'datetimestamp', ascending = True ))\n",
    "\n",
    "\n",
    "myresult = df_sorted['datetimestamp'] -pd.to_datetime('2016-03-02 03:33:34')\n",
    "myresult.dt.total_seconds()\n",
    "\n",
    "print(df_sorted.iloc[0,6])\n",
    "\n",
    "df_sorted['datetimestamp'] = pd.DataFrame(myresult.dt.total_seconds())\n",
    "#print(df_sorted.head())\n",
    "\n",
    "df_sorted.iloc[0,6]"
   ]
  },
  {
   "cell_type": "code",
   "execution_count": 108,
   "metadata": {},
   "outputs": [],
   "source": [
    "def convert_dataset(data_in):\n",
    "    #Converting time date:\n",
    "    df_sorted = copy.deepcopy(data_in.sort_values(by = 'datetimestamp', ascending = True ))\n",
    "    first_obs_date = df_sorted.iloc[0,6]\n",
    "    \n",
    "    #Calculating the time difference in seconds\n",
    "    time_from_zero_sec = (df_sorted['datetimestamp'] -pd.to_datetime(first_obs_date)).dt.total_seconds()\n",
    "    df_sorted['datetimestamp'] = pd.DataFrame(time_from_zero_sec)\n",
    "\n",
    "    #Conversion of Course over ground\n",
    "    \n",
    "    \n",
    "    return df_sorted\n",
    "    \n",
    "    \n",
    "    "
   ]
  },
  {
   "cell_type": "code",
   "execution_count": null,
   "metadata": {},
   "outputs": [],
   "source": [
    "def convert_cog(data_in):\n",
    "    "
   ]
  },
  {
   "cell_type": "code",
   "execution_count": null,
   "metadata": {},
   "outputs": [],
   "source": []
  },
  {
   "cell_type": "code",
   "execution_count": null,
   "metadata": {},
   "outputs": [],
   "source": []
  },
  {
   "cell_type": "code",
   "execution_count": null,
   "metadata": {},
   "outputs": [],
   "source": []
  },
  {
   "cell_type": "code",
   "execution_count": null,
   "metadata": {},
   "outputs": [],
   "source": []
  },
  {
   "cell_type": "code",
   "execution_count": 107,
   "metadata": {},
   "outputs": [
    {
     "data": {
      "text/html": [
       "<div>\n",
       "<style scoped>\n",
       "    .dataframe tbody tr th:only-of-type {\n",
       "        vertical-align: middle;\n",
       "    }\n",
       "\n",
       "    .dataframe tbody tr th {\n",
       "        vertical-align: top;\n",
       "    }\n",
       "\n",
       "    .dataframe thead th {\n",
       "        text-align: right;\n",
       "    }\n",
       "</style>\n",
       "<table border=\"1\" class=\"dataframe\">\n",
       "  <thead>\n",
       "    <tr style=\"text-align: right;\">\n",
       "      <th></th>\n",
       "      <th>mmsi</th>\n",
       "      <th>lat</th>\n",
       "      <th>long</th>\n",
       "      <th>sog</th>\n",
       "      <th>rot</th>\n",
       "      <th>cog</th>\n",
       "      <th>datetimestamp</th>\n",
       "    </tr>\n",
       "  </thead>\n",
       "  <tbody>\n",
       "    <tr>\n",
       "      <th>1373</th>\n",
       "      <td>636092331</td>\n",
       "      <td>-5.540490</td>\n",
       "      <td>47.998146</td>\n",
       "      <td>13.6</td>\n",
       "      <td>-8</td>\n",
       "      <td>65.7</td>\n",
       "      <td>0.0</td>\n",
       "    </tr>\n",
       "    <tr>\n",
       "      <th>686</th>\n",
       "      <td>636092331</td>\n",
       "      <td>-5.540490</td>\n",
       "      <td>47.998146</td>\n",
       "      <td>13.6</td>\n",
       "      <td>-8</td>\n",
       "      <td>65.7</td>\n",
       "      <td>0.0</td>\n",
       "    </tr>\n",
       "    <tr>\n",
       "      <th>1372</th>\n",
       "      <td>636092331</td>\n",
       "      <td>-5.463012</td>\n",
       "      <td>48.021954</td>\n",
       "      <td>13.9</td>\n",
       "      <td>23</td>\n",
       "      <td>66.6</td>\n",
       "      <td>911.0</td>\n",
       "    </tr>\n",
       "    <tr>\n",
       "      <th>685</th>\n",
       "      <td>636092331</td>\n",
       "      <td>-5.463012</td>\n",
       "      <td>48.021954</td>\n",
       "      <td>13.9</td>\n",
       "      <td>23</td>\n",
       "      <td>66.6</td>\n",
       "      <td>911.0</td>\n",
       "    </tr>\n",
       "    <tr>\n",
       "      <th>1371</th>\n",
       "      <td>636092331</td>\n",
       "      <td>-5.410512</td>\n",
       "      <td>48.037872</td>\n",
       "      <td>13.8</td>\n",
       "      <td>11</td>\n",
       "      <td>64.0</td>\n",
       "      <td>1515.0</td>\n",
       "    </tr>\n",
       "    <tr>\n",
       "      <th>...</th>\n",
       "      <td>...</td>\n",
       "      <td>...</td>\n",
       "      <td>...</td>\n",
       "      <td>...</td>\n",
       "      <td>...</td>\n",
       "      <td>...</td>\n",
       "      <td>...</td>\n",
       "    </tr>\n",
       "    <tr>\n",
       "      <th>2</th>\n",
       "      <td>636092331</td>\n",
       "      <td>-4.835327</td>\n",
       "      <td>48.742360</td>\n",
       "      <td>12.8</td>\n",
       "      <td>-29</td>\n",
       "      <td>68.3</td>\n",
       "      <td>112219.0</td>\n",
       "    </tr>\n",
       "    <tr>\n",
       "      <th>1</th>\n",
       "      <td>636092331</td>\n",
       "      <td>-4.835128</td>\n",
       "      <td>48.742413</td>\n",
       "      <td>13.1</td>\n",
       "      <td>-27</td>\n",
       "      <td>68.5</td>\n",
       "      <td>112220.0</td>\n",
       "    </tr>\n",
       "    <tr>\n",
       "      <th>688</th>\n",
       "      <td>636092331</td>\n",
       "      <td>-4.835128</td>\n",
       "      <td>48.742413</td>\n",
       "      <td>13.1</td>\n",
       "      <td>-27</td>\n",
       "      <td>68.5</td>\n",
       "      <td>112220.0</td>\n",
       "    </tr>\n",
       "    <tr>\n",
       "      <th>687</th>\n",
       "      <td>636092331</td>\n",
       "      <td>-4.767917</td>\n",
       "      <td>48.766190</td>\n",
       "      <td>12.2</td>\n",
       "      <td>15</td>\n",
       "      <td>61.0</td>\n",
       "      <td>113090.0</td>\n",
       "    </tr>\n",
       "    <tr>\n",
       "      <th>0</th>\n",
       "      <td>636092331</td>\n",
       "      <td>-4.767917</td>\n",
       "      <td>48.766190</td>\n",
       "      <td>12.2</td>\n",
       "      <td>15</td>\n",
       "      <td>61.0</td>\n",
       "      <td>113090.0</td>\n",
       "    </tr>\n",
       "  </tbody>\n",
       "</table>\n",
       "<p>6250 rows × 7 columns</p>\n",
       "</div>"
      ],
      "text/plain": [
       "           mmsi       lat       long   sog  rot   cog  datetimestamp\n",
       "1373  636092331 -5.540490  47.998146  13.6   -8  65.7            0.0\n",
       "686   636092331 -5.540490  47.998146  13.6   -8  65.7            0.0\n",
       "1372  636092331 -5.463012  48.021954  13.9   23  66.6          911.0\n",
       "685   636092331 -5.463012  48.021954  13.9   23  66.6          911.0\n",
       "1371  636092331 -5.410512  48.037872  13.8   11  64.0         1515.0\n",
       "...         ...       ...        ...   ...  ...   ...            ...\n",
       "2     636092331 -4.835327  48.742360  12.8  -29  68.3       112219.0\n",
       "1     636092331 -4.835128  48.742413  13.1  -27  68.5       112220.0\n",
       "688   636092331 -4.835128  48.742413  13.1  -27  68.5       112220.0\n",
       "687   636092331 -4.767917  48.766190  12.2   15  61.0       113090.0\n",
       "0     636092331 -4.767917  48.766190  12.2   15  61.0       113090.0\n",
       "\n",
       "[6250 rows x 7 columns]"
      ]
     },
     "execution_count": 107,
     "metadata": {},
     "output_type": "execute_result"
    }
   ],
   "source": [
    "convert_dataset(MMSI636092331)"
   ]
  },
  {
   "cell_type": "code",
   "execution_count": null,
   "metadata": {},
   "outputs": [],
   "source": []
  },
  {
   "cell_type": "code",
   "execution_count": null,
   "metadata": {},
   "outputs": [],
   "source": []
  },
  {
   "cell_type": "code",
   "execution_count": null,
   "metadata": {},
   "outputs": [],
   "source": []
  },
  {
   "cell_type": "code",
   "execution_count": null,
   "metadata": {},
   "outputs": [],
   "source": []
  },
  {
   "cell_type": "code",
   "execution_count": 3,
   "metadata": {},
   "outputs": [
    {
     "data": {
      "image/png": "[encoded data removed]",
      "text/plain": [
       "<Figure size 640x480 with 1 Axes>"
      ]
     },
     "metadata": {},
     "output_type": "display_data"
    }
   ],
   "source": [
    "lat = MMSI636092331.iloc[:,1]\n",
    "long = MMSI636092331.iloc[:,2]\n",
    "\n",
    "plt.plot(lat,long, \"b.\")\n",
    "plt.show()"
   ]
  },
  {
   "cell_type": "code",
   "execution_count": null,
   "metadata": {},
   "outputs": [],
   "source": []
  },
  {
   "cell_type": "code",
   "execution_count": null,
   "metadata": {},
   "outputs": [],
   "source": []
  },
  {
   "cell_type": "code",
   "execution_count": null,
   "metadata": {},
   "outputs": [],
   "source": []
  },
  {
   "cell_type": "code",
   "execution_count": null,
   "metadata": {},
   "outputs": [],
   "source": []
  },
  {
   "cell_type": "code",
   "execution_count": null,
   "metadata": {},
   "outputs": [],
   "source": []
  },
  {
   "cell_type": "code",
   "execution_count": null,
   "metadata": {},
   "outputs": [],
   "source": []
  },
  {
   "cell_type": "code",
   "execution_count": null,
   "metadata": {},
   "outputs": [],
   "source": []
  },
  {
   "cell_type": "code",
   "execution_count": null,
   "metadata": {},
   "outputs": [],
   "source": []
  },
  {
   "cell_type": "code",
   "execution_count": null,
   "metadata": {},
   "outputs": [],
   "source": []
  },
  {
   "cell_type": "code",
   "execution_count": null,
   "metadata": {},
   "outputs": [],
   "source": []
  },
  {
   "cell_type": "code",
   "execution_count": null,
   "metadata": {},
   "outputs": [],
   "source": []
  },
  {
   "cell_type": "code",
   "execution_count": null,
   "metadata": {},
   "outputs": [],
   "source": []
  },
  {
   "cell_type": "code",
   "execution_count": null,
   "metadata": {},
   "outputs": [],
   "source": []
  },
  {
   "cell_type": "code",
   "execution_count": null,
   "metadata": {},
   "outputs": [],
   "source": []
  },
  {
   "cell_type": "code",
   "execution_count": null,
   "metadata": {},
   "outputs": [],
   "source": []
  },
  {
   "cell_type": "code",
   "execution_count": null,
   "metadata": {},
   "outputs": [],
   "source": []
  },
  {
   "cell_type": "code",
   "execution_count": null,
   "metadata": {},
   "outputs": [],
   "source": []
  },
  {
   "cell_type": "code",
   "execution_count": null,
   "metadata": {},
   "outputs": [],
   "source": []
  },
  {
   "cell_type": "code",
   "execution_count": null,
   "metadata": {},
   "outputs": [],
   "source": []
  },
  {
   "cell_type": "code",
   "execution_count": null,
   "metadata": {},
   "outputs": [],
   "source": []
  },
  {
   "cell_type": "code",
   "execution_count": null,
   "metadata": {},
   "outputs": [],
   "source": []
  }
 ],
 "metadata": {
  "kernelspec": {
   "display_name": "Python 3",
   "language": "python",
   "name": "python3"
  },
  "language_info": {
   "codemirror_mode": {
    "name": "ipython",
    "version": 3
   },
   "file_extension": ".py",
   "mimetype": "text/x-python",
   "name": "python",
   "nbconvert_exporter": "python",
   "pygments_lexer": "ipython3",
   "version": "3.6.9"
  }
 },
 "nbformat": 4,
 "nbformat_minor": 4
}
