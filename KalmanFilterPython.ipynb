{
 "cells": [
  {
   "cell_type": "code",
   "execution_count": 67,
   "metadata": {},
   "outputs": [],
   "source": [
    "import numpy as np\n",
    "import pandas as pd\n",
    "import copy\n",
    "import matplotlib.pyplot as plt\n",
    "from sklearn.linear_model import LinearRegression\n",
    "from sklearn.preprocessing import PolynomialFeatures"
   ]
  },
  {
   "cell_type": "markdown",
   "metadata": {},
   "source": [
    "## Importing the dataset:"
   ]
  },
  {
   "cell_type": "code",
   "execution_count": 2,
   "metadata": {},
   "outputs": [],
   "source": [
    "polish_data = pd.read_csv(r\"C:\\Users\\chris\\OneDrive\\MSc\\Kalman Filter - Polish Paper\\polish_data.csv\")"
   ]
  },
  {
   "cell_type": "code",
   "execution_count": 3,
   "metadata": {},
   "outputs": [
    {
     "data": {
      "text/html": [
       "<div>\n",
       "<style scoped>\n",
       "    .dataframe tbody tr th:only-of-type {\n",
       "        vertical-align: middle;\n",
       "    }\n",
       "\n",
       "    .dataframe tbody tr th {\n",
       "        vertical-align: top;\n",
       "    }\n",
       "\n",
       "    .dataframe thead th {\n",
       "        text-align: right;\n",
       "    }\n",
       "</style>\n",
       "<table border=\"1\" class=\"dataframe\">\n",
       "  <thead>\n",
       "    <tr style=\"text-align: right;\">\n",
       "      <th></th>\n",
       "      <th>time</th>\n",
       "      <th>delta_time</th>\n",
       "      <th>X</th>\n",
       "      <th>Y</th>\n",
       "      <th>rot</th>\n",
       "      <th>Vmps</th>\n",
       "      <th>rot_sec</th>\n",
       "    </tr>\n",
       "  </thead>\n",
       "  <tbody>\n",
       "    <tr>\n",
       "      <th>0</th>\n",
       "      <td>0</td>\n",
       "      <td>0</td>\n",
       "      <td>6062445</td>\n",
       "      <td>4368335</td>\n",
       "      <td>3.8</td>\n",
       "      <td>5.2</td>\n",
       "      <td>0.13</td>\n",
       "    </tr>\n",
       "    <tr>\n",
       "      <th>1</th>\n",
       "      <td>11</td>\n",
       "      <td>11</td>\n",
       "      <td>6062500</td>\n",
       "      <td>4368343</td>\n",
       "      <td>5.1</td>\n",
       "      <td>5.2</td>\n",
       "      <td>0.12</td>\n",
       "    </tr>\n",
       "    <tr>\n",
       "      <th>2</th>\n",
       "      <td>20</td>\n",
       "      <td>9</td>\n",
       "      <td>6062556</td>\n",
       "      <td>4368351</td>\n",
       "      <td>6.3</td>\n",
       "      <td>5.2</td>\n",
       "      <td>-0.10</td>\n",
       "    </tr>\n",
       "    <tr>\n",
       "      <th>3</th>\n",
       "      <td>29</td>\n",
       "      <td>9</td>\n",
       "      <td>6062600</td>\n",
       "      <td>4368359</td>\n",
       "      <td>5.3</td>\n",
       "      <td>5.4</td>\n",
       "      <td>0.35</td>\n",
       "    </tr>\n",
       "    <tr>\n",
       "      <th>4</th>\n",
       "      <td>39</td>\n",
       "      <td>10</td>\n",
       "      <td>6062655</td>\n",
       "      <td>4368367</td>\n",
       "      <td>8.8</td>\n",
       "      <td>5.3</td>\n",
       "      <td>-0.12</td>\n",
       "    </tr>\n",
       "    <tr>\n",
       "      <th>5</th>\n",
       "      <td>50</td>\n",
       "      <td>11</td>\n",
       "      <td>6062711</td>\n",
       "      <td>4368375</td>\n",
       "      <td>7.6</td>\n",
       "      <td>5.5</td>\n",
       "      <td>-0.42</td>\n",
       "    </tr>\n",
       "    <tr>\n",
       "      <th>6</th>\n",
       "      <td>60</td>\n",
       "      <td>10</td>\n",
       "      <td>6062766</td>\n",
       "      <td>4368383</td>\n",
       "      <td>3.4</td>\n",
       "      <td>5.5</td>\n",
       "      <td>0.33</td>\n",
       "    </tr>\n",
       "    <tr>\n",
       "      <th>7</th>\n",
       "      <td>71</td>\n",
       "      <td>11</td>\n",
       "      <td>6062822</td>\n",
       "      <td>4368391</td>\n",
       "      <td>6.7</td>\n",
       "      <td>5.5</td>\n",
       "      <td>-0.29</td>\n",
       "    </tr>\n",
       "    <tr>\n",
       "      <th>8</th>\n",
       "      <td>99</td>\n",
       "      <td>28</td>\n",
       "      <td>6062988</td>\n",
       "      <td>4368422</td>\n",
       "      <td>3.8</td>\n",
       "      <td>5.6</td>\n",
       "      <td>0.50</td>\n",
       "    </tr>\n",
       "    <tr>\n",
       "      <th>9</th>\n",
       "      <td>110</td>\n",
       "      <td>11</td>\n",
       "      <td>6063043</td>\n",
       "      <td>4368430</td>\n",
       "      <td>8.8</td>\n",
       "      <td>5.4</td>\n",
       "      <td>-0.07</td>\n",
       "    </tr>\n",
       "    <tr>\n",
       "      <th>10</th>\n",
       "      <td>140</td>\n",
       "      <td>30</td>\n",
       "      <td>6063210</td>\n",
       "      <td>4368454</td>\n",
       "      <td>8.1</td>\n",
       "      <td>5.7</td>\n",
       "      <td>-0.08</td>\n",
       "    </tr>\n",
       "    <tr>\n",
       "      <th>11</th>\n",
       "      <td>149</td>\n",
       "      <td>9</td>\n",
       "      <td>6063254</td>\n",
       "      <td>4368462</td>\n",
       "      <td>7.3</td>\n",
       "      <td>5.6</td>\n",
       "      <td>-0.11</td>\n",
       "    </tr>\n",
       "    <tr>\n",
       "      <th>12</th>\n",
       "      <td>170</td>\n",
       "      <td>21</td>\n",
       "      <td>6063365</td>\n",
       "      <td>4368484</td>\n",
       "      <td>6.2</td>\n",
       "      <td>5.4</td>\n",
       "      <td>0.06</td>\n",
       "    </tr>\n",
       "    <tr>\n",
       "      <th>13</th>\n",
       "      <td>191</td>\n",
       "      <td>21</td>\n",
       "      <td>6063487</td>\n",
       "      <td>4368501</td>\n",
       "      <td>6.8</td>\n",
       "      <td>5.8</td>\n",
       "      <td>-0.28</td>\n",
       "    </tr>\n",
       "    <tr>\n",
       "      <th>14</th>\n",
       "      <td>200</td>\n",
       "      <td>9</td>\n",
       "      <td>6063542</td>\n",
       "      <td>4368509</td>\n",
       "      <td>4.0</td>\n",
       "      <td>5.4</td>\n",
       "      <td>0.47</td>\n",
       "    </tr>\n",
       "    <tr>\n",
       "      <th>15</th>\n",
       "      <td>311</td>\n",
       "      <td>111</td>\n",
       "      <td>6064152</td>\n",
       "      <td>4368604</td>\n",
       "      <td>4.7</td>\n",
       "      <td>5.9</td>\n",
       "      <td>-0.52</td>\n",
       "    </tr>\n",
       "    <tr>\n",
       "      <th>16</th>\n",
       "      <td>339</td>\n",
       "      <td>28</td>\n",
       "      <td>6064307</td>\n",
       "      <td>4368628</td>\n",
       "      <td>3.5</td>\n",
       "      <td>5.6</td>\n",
       "      <td>0.50</td>\n",
       "    </tr>\n",
       "    <tr>\n",
       "      <th>17</th>\n",
       "      <td>350</td>\n",
       "      <td>11</td>\n",
       "      <td>6064373</td>\n",
       "      <td>4368643</td>\n",
       "      <td>8.5</td>\n",
       "      <td>5.7</td>\n",
       "      <td>0.43</td>\n",
       "    </tr>\n",
       "    <tr>\n",
       "      <th>18</th>\n",
       "      <td>360</td>\n",
       "      <td>10</td>\n",
       "      <td>6064429</td>\n",
       "      <td>4368651</td>\n",
       "      <td>12.8</td>\n",
       "      <td>5.8</td>\n",
       "      <td>-0.28</td>\n",
       "    </tr>\n",
       "    <tr>\n",
       "      <th>19</th>\n",
       "      <td>379</td>\n",
       "      <td>19</td>\n",
       "      <td>6064540</td>\n",
       "      <td>4368667</td>\n",
       "      <td>10.0</td>\n",
       "      <td>5.9</td>\n",
       "      <td>-0.10</td>\n",
       "    </tr>\n",
       "  </tbody>\n",
       "</table>\n",
       "</div>"
      ],
      "text/plain": [
       "    time  delta_time        X        Y   rot  Vmps  rot_sec\n",
       "0      0           0  6062445  4368335   3.8   5.2     0.13\n",
       "1     11          11  6062500  4368343   5.1   5.2     0.12\n",
       "2     20           9  6062556  4368351   6.3   5.2    -0.10\n",
       "3     29           9  6062600  4368359   5.3   5.4     0.35\n",
       "4     39          10  6062655  4368367   8.8   5.3    -0.12\n",
       "5     50          11  6062711  4368375   7.6   5.5    -0.42\n",
       "6     60          10  6062766  4368383   3.4   5.5     0.33\n",
       "7     71          11  6062822  4368391   6.7   5.5    -0.29\n",
       "8     99          28  6062988  4368422   3.8   5.6     0.50\n",
       "9    110          11  6063043  4368430   8.8   5.4    -0.07\n",
       "10   140          30  6063210  4368454   8.1   5.7    -0.08\n",
       "11   149           9  6063254  4368462   7.3   5.6    -0.11\n",
       "12   170          21  6063365  4368484   6.2   5.4     0.06\n",
       "13   191          21  6063487  4368501   6.8   5.8    -0.28\n",
       "14   200           9  6063542  4368509   4.0   5.4     0.47\n",
       "15   311         111  6064152  4368604   4.7   5.9    -0.52\n",
       "16   339          28  6064307  4368628   3.5   5.6     0.50\n",
       "17   350          11  6064373  4368643   8.5   5.7     0.43\n",
       "18   360          10  6064429  4368651  12.8   5.8    -0.28\n",
       "19   379          19  6064540  4368667  10.0   5.9    -0.10"
      ]
     },
     "execution_count": 3,
     "metadata": {},
     "output_type": "execute_result"
    }
   ],
   "source": [
    "polish_data"
   ]
  },
  {
   "cell_type": "markdown",
   "metadata": {},
   "source": [
    "# Discrete Kalman filter steps:"
   ]
  },
  {
   "cell_type": "markdown",
   "metadata": {},
   "source": [
    "## State vector $X_i$"
   ]
  },
  {
   "cell_type": "code",
   "execution_count": 4,
   "metadata": {},
   "outputs": [
    {
     "data": {
      "text/plain": [
       "array([X    6062500.0\n",
       "Name: 1, dtype: float64,\n",
       "       Y    4368343.0\n",
       "Name: 1, dtype: float64,\n",
       "       Vmps   NaN\n",
       "rot    NaN\n",
       "Name: 1, dtype: float64,\n",
       "       Vmps   NaN\n",
       "rot    NaN\n",
       "Name: 1, dtype: float64], dtype=object)"
      ]
     },
     "execution_count": 4,
     "metadata": {},
     "output_type": "execute_result"
    }
   ],
   "source": [
    "def stateVector(x_k, y_k, V_k,psi_k ):\n",
    "    return(np.array([x_k,y_k,V_k*(np.cos(psi_k)),V_k*(np.sin(psi_k))]))\n",
    "    \n",
    "stateVector(polish_data.iloc[1,[2]],polish_data.iloc[1,[3]],polish_data.iloc[1,[5]],polish_data.iloc[1,[4]])"
   ]
  },
  {
   "cell_type": "code",
   "execution_count": 5,
   "metadata": {},
   "outputs": [
    {
     "data": {
      "text/plain": [
       "X    6062500.0\n",
       "Name: 1, dtype: float64"
      ]
     },
     "execution_count": 5,
     "metadata": {},
     "output_type": "execute_result"
    }
   ],
   "source": [
    "polish_data.iloc[1,[2]]"
   ]
  },
  {
   "cell_type": "markdown",
   "metadata": {},
   "source": [
    "# Kalman Filter update equations: "
   ]
  },
  {
   "cell_type": "markdown",
   "metadata": {},
   "source": [
    "## Estimated State Vector $\\hat{x}^{-}_{k}$ :"
   ]
  },
  {
   "cell_type": "code",
   "execution_count": 6,
   "metadata": {},
   "outputs": [],
   "source": [
    "# Get the estimated state vector\n",
    "def estimated_state_vector(A, x_k_1, B, mu_k, w_k_1):\n",
    "    # A - tranition matrix\n",
    "    # x_k_1 - previous state vector\n",
    "    # B - Output matrix,\n",
    "    # mu_k - control variable vector,\n",
    "    # w_k_1 - previous state noise matrix\n",
    "    part1 = A.dot(x_k_1)\n",
    "    part2 = V.dot(mu_k)\n",
    "    \n",
    "    return part1 + part2 + w_k_1\n"
   ]
  },
  {
   "cell_type": "markdown",
   "metadata": {},
   "source": [
    "## Process error Covariance $P_k^{-}$ :"
   ]
  },
  {
   "cell_type": "code",
   "execution_count": 7,
   "metadata": {},
   "outputs": [],
   "source": [
    "def process_error_covariance(A, P_k_1,Q):\n",
    "    # A - transition matrix\n",
    "    # P_k_1 - previous state process covariance\n",
    "    # Q - process noise covariance\n",
    "    \n",
    "    return A.dot(P_k_1).dot(np.transpose(A)) + Q\n",
    "\n"
   ]
  },
  {
   "cell_type": "markdown",
   "metadata": {},
   "source": [
    "## Kalman Gain $K_k$ :"
   ]
  },
  {
   "cell_type": "code",
   "execution_count": 8,
   "metadata": {},
   "outputs": [],
   "source": [
    "def kalman_gain(P_k, H, R):\n",
    "    # P_k - process error covariance\n",
    "    # H - simply transformation matrix\n",
    "    # R - sensor noise covariance\n",
    "    inverse_part = np.linalg.inv(H.dot(P_k).dot(np.transpose(H)) + R)\n",
    "    return P_k.dot(np.transpose(H).dot(inverse_part ))"
   ]
  },
  {
   "cell_type": "markdown",
   "metadata": {},
   "source": [
    "## A posteriori estimate of state at step k, $\\hat{x}_k$ :"
   ]
  },
  {
   "cell_type": "code",
   "execution_count": 9,
   "metadata": {},
   "outputs": [],
   "source": [
    "def a_posteriori_est_state_k(x_hat_k,K_k, z_k,H):\n",
    "    # x_hat_k = a priori estimate state\n",
    "    # K_k - Kalman Gain\n",
    "    # H - simply transfomation matrix\n",
    "    #z_k - actual measurement vector\n",
    "    \n",
    "    return x_hat_k + K_k.dot(z_k - H.dot(x_hat_k))"
   ]
  },
  {
   "cell_type": "markdown",
   "metadata": {},
   "source": [
    "## Process error covariance matrix $P_k$ :"
   ]
  },
  {
   "cell_type": "code",
   "execution_count": 10,
   "metadata": {},
   "outputs": [],
   "source": [
    "def process_err_covariance_mat(I,K_k, H, P_k_est):\n",
    "    # I - Identity matrix\n",
    "    # K_k - Kalman gain\n",
    "    # H - simply transition matrix\n",
    "    # P_k_est - proccess error covariance ahead\n",
    "    \n",
    "    return (I - K_k.dot(H).dot(P_k_est))"
   ]
  },
  {
   "cell_type": "markdown",
   "metadata": {},
   "source": [
    "# Symbol Meanings:\n",
    "\n",
    "### SOG :$V$\n",
    "### Longitude: $\\Phi$\n",
    "### Latetude: $\\lambda$\n",
    "### Course over ground: $\\Psi$"
   ]
  },
  {
   "cell_type": "markdown",
   "metadata": {},
   "source": [
    "# Convertion to the Cartesian coordinates:"
   ]
  },
  {
   "cell_type": "markdown",
   "metadata": {},
   "source": [
    "### Getting the epsiloid WGS-84 format:"
   ]
  },
  {
   "cell_type": "code",
   "execution_count": 11,
   "metadata": {},
   "outputs": [],
   "source": [
    "def e_squared(a,b):\n",
    "    # a - semi major axis\n",
    "    # b - semi minor axis\n",
    "    return (a**2 - b**2)/(a**2)"
   ]
  },
  {
   "cell_type": "markdown",
   "metadata": {},
   "source": [
    "### Radius of the curvature:"
   ]
  },
  {
   "cell_type": "code",
   "execution_count": 12,
   "metadata": {},
   "outputs": [],
   "source": [
    "def N_rad_of_curvature(a,e,lat):\n",
    "    # a - semi-major axis\n",
    "    # e - square of first eccentric\n",
    "    # lat - latetude\n",
    "    N = a/(np.sqrt(1- e*(np.sin(lat)**2)))\n",
    "    return N\n",
    "    "
   ]
  },
  {
   "cell_type": "markdown",
   "metadata": {},
   "source": [
    "### Cartesian Coordinates:"
   ]
  },
  {
   "cell_type": "code",
   "execution_count": 13,
   "metadata": {},
   "outputs": [],
   "source": [
    "def X_coordinate(N,h,long, lat):\n",
    "    # N - Curvature of the first vertical circle\n",
    "    # h - height at point 'P'\n",
    "    # long - longitude\n",
    "    # lat - latitude\n",
    "    return (N+h)*np.cos(long)*np.cos(lat)\n",
    "\n",
    "def Y_coordinate(N,h,long, lat):\n",
    "    # N - Curvature of the first vertical circle\n",
    "    # h - height at point 'P'\n",
    "    # long - longitude\n",
    "    # lat - latitude\n",
    "    return (N+h)*np.cos(long)*np.sin(lat)\n",
    "\n",
    "def Z_coordinate(N,e,H):\n",
    "    # N - Curvature of the first vertical circle\n",
    "    # e - estimate of the squre of the first eccentric\n",
    "    # H - height at point 'P'\n",
    "    return (N - (1-e)+H)"
   ]
  },
  {
   "cell_type": "markdown",
   "metadata": {},
   "source": [
    "## Conversion of types"
   ]
  },
  {
   "cell_type": "markdown",
   "metadata": {},
   "source": [
    "### knots --> m/s\n"
   ]
  },
  {
   "cell_type": "code",
   "execution_count": 14,
   "metadata": {},
   "outputs": [],
   "source": [
    "def knots_to_mps(kts):\n",
    "    return kts*0.51444444"
   ]
  },
  {
   "cell_type": "markdown",
   "metadata": {},
   "source": [
    "### rate of turn °/min --> °/sec"
   ]
  },
  {
   "cell_type": "code",
   "execution_count": 15,
   "metadata": {},
   "outputs": [],
   "source": [
    "def rot_min_to_sec(rot_min):\n",
    "    return rot_min/60"
   ]
  },
  {
   "cell_type": "code",
   "execution_count": 16,
   "metadata": {},
   "outputs": [],
   "source": [
    "def radians_to_deg(rad):\n",
    "    return rad*np.pi/180\n",
    "\n",
    "def deg_to_rad(deg):\n",
    "    return deg*180/np.pi"
   ]
  },
  {
   "cell_type": "markdown",
   "metadata": {},
   "source": [
    "# Estimation of Coordinates with Linear Algorithm"
   ]
  },
  {
   "cell_type": "markdown",
   "metadata": {},
   "source": [
    "### Exceleration in x & y axis"
   ]
  },
  {
   "cell_type": "code",
   "execution_count": 17,
   "metadata": {},
   "outputs": [],
   "source": [
    "def calc_a_x(V_k, cog, rot, cog_k_1,delta_time):\n",
    "    #V_k - Speed over ground\n",
    "    #rot - rate of turn\n",
    "    #cog - course over ground\n",
    "    #cog_k_1 - course over ground at instance (k-1)\n",
    "    #delta_time - difference in time between the current and previous step\n",
    "    top = V_k*np.cos(radians_to_deg(cog + rot*delta_time)) - np.cos(radians_to_deg(cog_k_1))\n",
    "    bottom = delta_time\n",
    "    \n",
    "    return top/bottom\n",
    "\n",
    "def calc_a_y(V_k, cog, rot, cog_k_1,delta_time):\n",
    "    #V_k - Speed over ground\n",
    "    #rot - rate of turn\n",
    "    #cog - course over ground\n",
    "    #cog_k_1 - course over ground at instance (k-1)\n",
    "    #delta_time - difference in time between the current and previous step\n",
    "    top = V_k*np.sin(radians_to_deg(cog + rot*delta_time)) - np.sin(radians_to_deg(cog_k_1))\n",
    "    bottom = delta_time\n",
    "    \n",
    "    return top/bottom"
   ]
  },
  {
   "cell_type": "markdown",
   "metadata": {},
   "source": [
    "### Shift of coordinates in the X & Y axis"
   ]
  },
  {
   "cell_type": "code",
   "execution_count": 18,
   "metadata": {},
   "outputs": [],
   "source": [
    "def delta_X(a_x,deltaTime):\n",
    "    #a_x - acceleration in x-axis\n",
    "    #deltaTime - change in time\n",
    "    return a_x*(deltaTime**2)/2\n",
    "\n",
    "def delta_Y(a_y,deltaTime):\n",
    "    return a_y*(deltaTime**2)/2"
   ]
  },
  {
   "cell_type": "markdown",
   "metadata": {},
   "source": [
    " # Discrete Kalman Filtering Algorithm "
   ]
  },
  {
   "cell_type": "markdown",
   "metadata": {},
   "source": [
    "## Model state Vector $X_i$"
   ]
  },
  {
   "cell_type": "code",
   "execution_count": 19,
   "metadata": {},
   "outputs": [],
   "source": [
    "def set_state_vector_Xi(x_k, y_k,cog, V_k):\n",
    "    # x_k & y_k = UTM Coordinate\n",
    "    # V_k = sog\n",
    "    # cog = course over ground\n",
    "    X_i = [[x_k],\n",
    "           [y_k],\n",
    "           [V_k*np.cos(deg_to_rad(cog/3600))], #/3600 is to convert the format from E10h\n",
    "           [V_k*np.sin(deg_to_rad(cog/3600))]]\n",
    "    return X_i\n",
    "    "
   ]
  },
  {
   "cell_type": "code",
   "execution_count": 20,
   "metadata": {},
   "outputs": [
    {
     "data": {
      "text/plain": [
       "[[6062445], [4368335], [5.190492892074924], [0.31429848443747205]]"
      ]
     },
     "execution_count": 20,
     "metadata": {},
     "output_type": "execute_result"
    }
   ],
   "source": [
    "set_state_vector_Xi(6062445,4368335,3.8,5.2)"
   ]
  },
  {
   "cell_type": "markdown",
   "metadata": {},
   "source": [
    "## Transition Matrix $A$ :"
   ]
  },
  {
   "cell_type": "code",
   "execution_count": 21,
   "metadata": {},
   "outputs": [],
   "source": [
    "def getA(diffTime):\n",
    "    A = np.identity(4)\n",
    "    A[0,2] = diffTime\n",
    "    A[1,3] = diffTime\n",
    "    return A\n",
    "    \n"
   ]
  },
  {
   "cell_type": "code",
   "execution_count": 22,
   "metadata": {},
   "outputs": [
    {
     "name": "stdout",
     "output_type": "stream",
     "text": [
      "[[ 1.  0. 10.  0.]\n",
      " [ 0.  1.  0. 10.]\n",
      " [ 0.  0.  1.  0.]\n",
      " [ 0.  0.  0.  1.]]\n"
     ]
    }
   ],
   "source": [
    "A = getA(10) #Specified on page 79\n",
    "print(A)"
   ]
  },
  {
   "cell_type": "markdown",
   "metadata": {},
   "source": [
    "## Predicted state matrix $\\hat{x}^{-}_{k}$ :"
   ]
  },
  {
   "cell_type": "code",
   "execution_count": 23,
   "metadata": {},
   "outputs": [],
   "source": [
    "def pred_state_mat(a_x,a_y,timeDiff,A,prev_state_mat,w_k_1):\n",
    "    # a_x - acceleration in x-axis\n",
    "    # a_y - acceleration in y-axis\n",
    "    # timeDiff - timeDifference between intervals\n",
    "    # prev_state - previous state matrix\n",
    "    # w_k_1 - noise \n",
    "    B_mu_k =[[a_x*(timeDiff**2)/2],\n",
    "             [a_y*(timeDiff**2)/2],\n",
    "             [a_x*timeDiff],\n",
    "             [a_y*timeDiff]]\n",
    "    \n",
    "    return A.dot(prev_state_mat) + B_mu_k + w_k_1"
   ]
  },
  {
   "cell_type": "code",
   "execution_count": null,
   "metadata": {},
   "outputs": [],
   "source": []
  },
  {
   "cell_type": "code",
   "execution_count": null,
   "metadata": {},
   "outputs": [],
   "source": [
    "\n",
    "\n"
   ]
  },
  {
   "cell_type": "code",
   "execution_count": null,
   "metadata": {},
   "outputs": [],
   "source": [
    "\n"
   ]
  },
  {
   "cell_type": "markdown",
   "metadata": {},
   "source": [
    "## State proces covariance matrix $P_{k-1}$"
   ]
  },
  {
   "cell_type": "code",
   "execution_count": 24,
   "metadata": {},
   "outputs": [],
   "source": [
    "def state_proccess_cov_mat(vec_in):\n",
    "    cov_mat = vec_in.dot(np.transpose(vec_in))\n",
    "    return cov_mat"
   ]
  },
  {
   "cell_type": "code",
   "execution_count": 25,
   "metadata": {},
   "outputs": [
    {
     "name": "stdout",
     "output_type": "stream",
     "text": [
      "[[100.   100.     5.     5.  ]\n",
      " [100.   100.     5.     5.  ]\n",
      " [  5.     5.     0.25   0.25]\n",
      " [  5.     5.     0.25   0.25]]\n"
     ]
    }
   ],
   "source": [
    "P_k_1 = state_proccess_cov_mat(np.array([[10],[10],[0.5],[0.5]]))\n",
    "print(P_k_1)"
   ]
  },
  {
   "cell_type": "markdown",
   "metadata": {},
   "source": [
    "## Q $\\approxeq P_{k-1}$"
   ]
  },
  {
   "cell_type": "code",
   "execution_count": 26,
   "metadata": {},
   "outputs": [
    {
     "name": "stdout",
     "output_type": "stream",
     "text": [
      "[[100.   100.     5.     5.  ]\n",
      " [100.   100.     5.     5.  ]\n",
      " [  5.     5.     0.25   0.25]\n",
      " [  5.     5.     0.25   0.25]]\n"
     ]
    }
   ],
   "source": [
    "Q = P_k_1\n",
    "print(Q)"
   ]
  },
  {
   "cell_type": "markdown",
   "metadata": {},
   "source": [
    "### Transition Matrix $H$"
   ]
  },
  {
   "cell_type": "code",
   "execution_count": 27,
   "metadata": {},
   "outputs": [
    {
     "name": "stdout",
     "output_type": "stream",
     "text": [
      "[[1. 0. 0. 0.]\n",
      " [0. 1. 0. 0.]\n",
      " [0. 0. 1. 0.]\n",
      " [0. 0. 0. 1.]]\n"
     ]
    }
   ],
   "source": [
    "H = np.identity(4)\n",
    "print(H)"
   ]
  },
  {
   "cell_type": "code",
   "execution_count": 28,
   "metadata": {},
   "outputs": [],
   "source": [
    "P_k = process_error_covariance(A, P_k_1,Q)\n",
    "\n",
    "#process_error_covariance(A, P_k_1,Q):"
   ]
  },
  {
   "cell_type": "code",
   "execution_count": 29,
   "metadata": {},
   "outputs": [
    {
     "name": "stdout",
     "output_type": "stream",
     "text": [
      "[[100.     0.     0.     0.  ]\n",
      " [  0.   100.     0.     0.  ]\n",
      " [  0.     0.     0.25   0.  ]\n",
      " [  0.     0.     0.     0.25]]\n"
     ]
    }
   ],
   "source": [
    "R = np.diagonal(P_k_1) #extract the diagona\n",
    "a = np.zeros((4,4))\n",
    "np.fill_diagonal(a,R)\n",
    "\n",
    "R = copy.deepcopy(a) #make its own instance\n",
    "print(R)\n"
   ]
  },
  {
   "cell_type": "code",
   "execution_count": 30,
   "metadata": {},
   "outputs": [
    {
     "name": "stdout",
     "output_type": "stream",
     "text": [
      "[[0.3  0.3  4.   4.  ]\n",
      " [0.3  0.3  4.   4.  ]\n",
      " [0.01 0.01 0.2  0.2 ]\n",
      " [0.01 0.01 0.2  0.2 ]]\n"
     ]
    }
   ],
   "source": [
    "KalmanGain = kalman_gain(P_k, H, R)\n",
    "print(KalmanGain)"
   ]
  },
  {
   "cell_type": "markdown",
   "metadata": {},
   "source": [
    "## Actual measurement vector $z_k$ "
   ]
  },
  {
   "cell_type": "code",
   "execution_count": 31,
   "metadata": {},
   "outputs": [],
   "source": [
    "def get_actual_measuremet_vec(x_k, y_k,cog, V_k):\n",
    "    # x_k & y_k = UTM Coordinate\n",
    "    # V_k = sog\n",
    "    # cog = course over ground\n",
    "    X_i = [[x_k],\n",
    "           [y_k],\n",
    "           [V_k*np.cos(deg_to_rad(cog/3600))], #/3600 is to convert the format from E10h\n",
    "           [V_k*np.sin(deg_to_rad(cog/3600))]]\n",
    "    return X_i\n",
    "    "
   ]
  },
  {
   "cell_type": "code",
   "execution_count": 32,
   "metadata": {},
   "outputs": [
    {
     "name": "stdout",
     "output_type": "stream",
     "text": [
      "V_k:  5.2\n",
      "cog:  5.1\n",
      "cog_k_1:  3.8\n",
      "rot:  0.12\n",
      "deltaTime:  11\n",
      "a_x:  0.379053551321072\n",
      "a_y:  0.04683348563913017\n",
      "X_coord:  6062500\n",
      "Y_coord:  4368343\n",
      "\n",
      "\n",
      "MEASUREMENT VECTOR:\n",
      " [[6062500], [4368343], [5.182879536903919], [0.4216155902509045]]\n"
     ]
    }
   ],
   "source": [
    "V_k = polish_data.iloc[1,5]\n",
    "print(\"V_k: \",V_k)\n",
    "\n",
    "cog = polish_data.iloc[1,4]\n",
    "print(\"cog: \", cog)\n",
    "\n",
    "cog_k_1 = polish_data.iloc[0,4]\n",
    "print(\"cog_k_1: \", cog_k_1)\n",
    "\n",
    "rot = polish_data.iloc[1,6]\n",
    "print(\"rot: \", rot)\n",
    "\n",
    "deltaTime = polish_data.iloc[1,1]\n",
    "print(\"deltaTime: \", deltaTime)\n",
    "\n",
    "a_x = calc_a_x(V_k,cog,rot,cog_k_1,deltaTime)\n",
    "print(\"a_x: \",a_x)\n",
    "\n",
    "a_y = calc_a_y(V_k,cog,rot,cog_k_1,deltaTime)\n",
    "print(\"a_y: \",a_y)\n",
    "#V_k, cog, rot, cog_k_1,delta_time):\n",
    "\n",
    "X_coord = polish_data.iloc[1,2]\n",
    "print(\"X_coord: \",X_coord)\n",
    "Y_coord = polish_data.iloc[1,3]\n",
    "print(\"Y_coord: \",Y_coord)\n",
    "\n",
    "#MEASUREMENT VECTOR\n",
    "z_k = get_actual_measuremet_vec(X_coord, Y_coord,cog, V_k)\n",
    "\n",
    "print(\"\\n\\nMEASUREMENT VECTOR:\\n\",z_k)\n"
   ]
  },
  {
   "cell_type": "markdown",
   "metadata": {},
   "source": [
    "## A posteriori Estimate $\\hat{x}_k$ :"
   ]
  },
  {
   "cell_type": "code",
   "execution_count": 33,
   "metadata": {},
   "outputs": [
    {
     "name": "stdout",
     "output_type": "stream",
     "text": [
      "[[22.93273985 22.93273985 22.93273985 22.93273985]\n",
      " [ 2.83342588  2.83342588  2.83342588  2.83342588]\n",
      " [ 4.16958906  4.16958906  4.16958906  4.16958906]\n",
      " [ 0.51516834  0.51516834  0.51516834  0.51516834]]\n",
      "\n",
      "\n",
      "A posteriori:\n",
      "\n",
      "[[3129271.78184102 3129271.78184102 3129271.78184102 3129271.78184102]\n",
      " [3129251.68252705 3129251.68252705 3129251.68252705 3129251.68252705]\n",
      " [ 104312.52587495  104312.52587495  104312.52587495  104312.52587495]\n",
      " [ 104308.87145423  104308.87145423  104308.87145423  104308.87145423]]\n"
     ]
    }
   ],
   "source": [
    "prev_state_mat = np.zeros(4)\n",
    "w_k_1 = np.zeros(4)\n",
    "    \n",
    "x_hat_k_dash = pred_state_mat(a_x,a_y,deltaTime,A,prev_state_mat, w_k_1) #Calculating $\\hat{x}_k^{-}$\n",
    "print(x_hat_k_dash)\n",
    "\n",
    "\n",
    "\n",
    "\n",
    "\n",
    "# NOW FOR THE  a posteriori:\n",
    "print(\"\\n\\nA posteriori:\\n\")\n",
    "\n",
    "x_hat_k = a_posteriori_est_state_k(x_hat_k_dash,KalmanGain, z_k,H)\n",
    "print(x_hat_k)\n",
    "\n"
   ]
  },
  {
   "cell_type": "markdown",
   "metadata": {},
   "source": [
    "## Process error covariance:"
   ]
  },
  {
   "cell_type": "code",
   "execution_count": 34,
   "metadata": {},
   "outputs": [
    {
     "name": "stdout",
     "output_type": "stream",
     "text": [
      "[[325.  325.   12.5  12.5]\n",
      " [325.  325.   12.5  12.5]\n",
      " [ 12.5  12.5   0.5   0.5]\n",
      " [ 12.5  12.5   0.5   0.5]]\n"
     ]
    }
   ],
   "source": [
    "P_k = process_error_covariance(A, P_k_1,Q)\n",
    "print(P_k)\n",
    "    "
   ]
  },
  {
   "cell_type": "markdown",
   "metadata": {},
   "source": [
    "## If there is no coordinates it is estimated as follows:"
   ]
  },
  {
   "cell_type": "code",
   "execution_count": 35,
   "metadata": {},
   "outputs": [
    {
     "name": "stdout",
     "output_type": "stream",
     "text": [
      "[4368343]\n",
      "[6062500]\n",
      "Estimated cog: 0.010897593569502224\n"
     ]
    },
    {
     "data": {
      "text/plain": [
       "array([4.05661074, 2.92299664])"
      ]
     },
     "execution_count": 35,
     "metadata": {},
     "output_type": "execute_result"
    }
   ],
   "source": [
    "y_k = copy.deepcopy(z_k[1])\n",
    "print(y_k)\n",
    "\n",
    "x_k = copy.deepcopy(z_k[0])\n",
    "print(x_k)\n",
    "\n",
    "def estimate_cog(x_k, x_k_1, y_k,y_k_1):\n",
    "\n",
    "    cog_radians = np.arctan((y_k-y_k_1)/(x_k-x_k_1))\n",
    "\n",
    "    \n",
    "    return radians_to_deg(cog_radians)\n",
    "\n",
    "cog_hat = estimate_cog(x_k[0], 0, y_k[0],0)\n",
    "print(\"Estimated cog:\", cog_hat)\n",
    "\n",
    "\n",
    "def estimate_linspead(cog,sog):\n",
    "    V_k_x = np.cos(deg_to_rad(cog))*sog\n",
    "    V_k_y = np.sin(deg_to_rad(cog))*sog\n",
    "    \n",
    "    return np.array([V_k_x,V_k_y])\n",
    "\n",
    "estimate_linspead(cog_hat,5)"
   ]
  },
  {
   "cell_type": "markdown",
   "metadata": {},
   "source": [
    "# Own inference before any Application of the Discrete Kalman filter:"
   ]
  },
  {
   "cell_type": "code",
   "execution_count": 100,
   "metadata": {},
   "outputs": [
    {
     "data": {
      "text/html": [
       "<div>\n",
       "<style scoped>\n",
       "    .dataframe tbody tr th:only-of-type {\n",
       "        vertical-align: middle;\n",
       "    }\n",
       "\n",
       "    .dataframe tbody tr th {\n",
       "        vertical-align: top;\n",
       "    }\n",
       "\n",
       "    .dataframe thead th {\n",
       "        text-align: right;\n",
       "    }\n",
       "</style>\n",
       "<table border=\"1\" class=\"dataframe\">\n",
       "  <thead>\n",
       "    <tr style=\"text-align: right;\">\n",
       "      <th></th>\n",
       "      <th>time</th>\n",
       "      <th>delta_time</th>\n",
       "      <th>X</th>\n",
       "      <th>Y</th>\n",
       "      <th>rot</th>\n",
       "      <th>Vmps</th>\n",
       "      <th>rot_sec</th>\n",
       "    </tr>\n",
       "  </thead>\n",
       "  <tbody>\n",
       "    <tr>\n",
       "      <th>0</th>\n",
       "      <td>0</td>\n",
       "      <td>0</td>\n",
       "      <td>6062445</td>\n",
       "      <td>4368335</td>\n",
       "      <td>3.8</td>\n",
       "      <td>5.2</td>\n",
       "      <td>0.13</td>\n",
       "    </tr>\n",
       "    <tr>\n",
       "      <th>1</th>\n",
       "      <td>11</td>\n",
       "      <td>11</td>\n",
       "      <td>6062500</td>\n",
       "      <td>4368343</td>\n",
       "      <td>5.1</td>\n",
       "      <td>5.2</td>\n",
       "      <td>0.12</td>\n",
       "    </tr>\n",
       "    <tr>\n",
       "      <th>2</th>\n",
       "      <td>20</td>\n",
       "      <td>9</td>\n",
       "      <td>6062556</td>\n",
       "      <td>4368351</td>\n",
       "      <td>6.3</td>\n",
       "      <td>5.2</td>\n",
       "      <td>-0.10</td>\n",
       "    </tr>\n",
       "    <tr>\n",
       "      <th>3</th>\n",
       "      <td>29</td>\n",
       "      <td>9</td>\n",
       "      <td>6062600</td>\n",
       "      <td>4368359</td>\n",
       "      <td>5.3</td>\n",
       "      <td>5.4</td>\n",
       "      <td>0.35</td>\n",
       "    </tr>\n",
       "    <tr>\n",
       "      <th>4</th>\n",
       "      <td>39</td>\n",
       "      <td>10</td>\n",
       "      <td>6062655</td>\n",
       "      <td>4368367</td>\n",
       "      <td>8.8</td>\n",
       "      <td>5.3</td>\n",
       "      <td>-0.12</td>\n",
       "    </tr>\n",
       "    <tr>\n",
       "      <th>5</th>\n",
       "      <td>50</td>\n",
       "      <td>11</td>\n",
       "      <td>6062711</td>\n",
       "      <td>4368375</td>\n",
       "      <td>7.6</td>\n",
       "      <td>5.5</td>\n",
       "      <td>-0.42</td>\n",
       "    </tr>\n",
       "    <tr>\n",
       "      <th>6</th>\n",
       "      <td>60</td>\n",
       "      <td>10</td>\n",
       "      <td>6062766</td>\n",
       "      <td>4368383</td>\n",
       "      <td>3.4</td>\n",
       "      <td>5.5</td>\n",
       "      <td>0.33</td>\n",
       "    </tr>\n",
       "    <tr>\n",
       "      <th>7</th>\n",
       "      <td>71</td>\n",
       "      <td>11</td>\n",
       "      <td>6062822</td>\n",
       "      <td>4368391</td>\n",
       "      <td>6.7</td>\n",
       "      <td>5.5</td>\n",
       "      <td>-0.29</td>\n",
       "    </tr>\n",
       "    <tr>\n",
       "      <th>8</th>\n",
       "      <td>99</td>\n",
       "      <td>28</td>\n",
       "      <td>6062988</td>\n",
       "      <td>4368422</td>\n",
       "      <td>3.8</td>\n",
       "      <td>5.6</td>\n",
       "      <td>0.50</td>\n",
       "    </tr>\n",
       "    <tr>\n",
       "      <th>9</th>\n",
       "      <td>110</td>\n",
       "      <td>11</td>\n",
       "      <td>6063043</td>\n",
       "      <td>4368430</td>\n",
       "      <td>8.8</td>\n",
       "      <td>5.4</td>\n",
       "      <td>-0.07</td>\n",
       "    </tr>\n",
       "    <tr>\n",
       "      <th>10</th>\n",
       "      <td>140</td>\n",
       "      <td>30</td>\n",
       "      <td>6063210</td>\n",
       "      <td>4368454</td>\n",
       "      <td>8.1</td>\n",
       "      <td>5.7</td>\n",
       "      <td>-0.08</td>\n",
       "    </tr>\n",
       "    <tr>\n",
       "      <th>11</th>\n",
       "      <td>149</td>\n",
       "      <td>9</td>\n",
       "      <td>6063254</td>\n",
       "      <td>4368462</td>\n",
       "      <td>7.3</td>\n",
       "      <td>5.6</td>\n",
       "      <td>-0.11</td>\n",
       "    </tr>\n",
       "    <tr>\n",
       "      <th>12</th>\n",
       "      <td>170</td>\n",
       "      <td>21</td>\n",
       "      <td>6063365</td>\n",
       "      <td>4368484</td>\n",
       "      <td>6.2</td>\n",
       "      <td>5.4</td>\n",
       "      <td>0.06</td>\n",
       "    </tr>\n",
       "    <tr>\n",
       "      <th>13</th>\n",
       "      <td>191</td>\n",
       "      <td>21</td>\n",
       "      <td>6063487</td>\n",
       "      <td>4368501</td>\n",
       "      <td>6.8</td>\n",
       "      <td>5.8</td>\n",
       "      <td>-0.28</td>\n",
       "    </tr>\n",
       "    <tr>\n",
       "      <th>14</th>\n",
       "      <td>200</td>\n",
       "      <td>9</td>\n",
       "      <td>6063542</td>\n",
       "      <td>4368509</td>\n",
       "      <td>4.0</td>\n",
       "      <td>5.4</td>\n",
       "      <td>0.47</td>\n",
       "    </tr>\n",
       "    <tr>\n",
       "      <th>15</th>\n",
       "      <td>311</td>\n",
       "      <td>111</td>\n",
       "      <td>6064152</td>\n",
       "      <td>4368604</td>\n",
       "      <td>4.7</td>\n",
       "      <td>5.9</td>\n",
       "      <td>-0.52</td>\n",
       "    </tr>\n",
       "    <tr>\n",
       "      <th>16</th>\n",
       "      <td>339</td>\n",
       "      <td>28</td>\n",
       "      <td>6064307</td>\n",
       "      <td>4368628</td>\n",
       "      <td>3.5</td>\n",
       "      <td>5.6</td>\n",
       "      <td>0.50</td>\n",
       "    </tr>\n",
       "    <tr>\n",
       "      <th>17</th>\n",
       "      <td>350</td>\n",
       "      <td>11</td>\n",
       "      <td>6064373</td>\n",
       "      <td>4368643</td>\n",
       "      <td>8.5</td>\n",
       "      <td>5.7</td>\n",
       "      <td>0.43</td>\n",
       "    </tr>\n",
       "    <tr>\n",
       "      <th>18</th>\n",
       "      <td>360</td>\n",
       "      <td>10</td>\n",
       "      <td>6064429</td>\n",
       "      <td>4368651</td>\n",
       "      <td>12.8</td>\n",
       "      <td>5.8</td>\n",
       "      <td>-0.28</td>\n",
       "    </tr>\n",
       "    <tr>\n",
       "      <th>19</th>\n",
       "      <td>379</td>\n",
       "      <td>19</td>\n",
       "      <td>6064540</td>\n",
       "      <td>4368667</td>\n",
       "      <td>10.0</td>\n",
       "      <td>5.9</td>\n",
       "      <td>-0.10</td>\n",
       "    </tr>\n",
       "  </tbody>\n",
       "</table>\n",
       "</div>"
      ],
      "text/plain": [
       "    time  delta_time        X        Y   rot  Vmps  rot_sec\n",
       "0      0           0  6062445  4368335   3.8   5.2     0.13\n",
       "1     11          11  6062500  4368343   5.1   5.2     0.12\n",
       "2     20           9  6062556  4368351   6.3   5.2    -0.10\n",
       "3     29           9  6062600  4368359   5.3   5.4     0.35\n",
       "4     39          10  6062655  4368367   8.8   5.3    -0.12\n",
       "5     50          11  6062711  4368375   7.6   5.5    -0.42\n",
       "6     60          10  6062766  4368383   3.4   5.5     0.33\n",
       "7     71          11  6062822  4368391   6.7   5.5    -0.29\n",
       "8     99          28  6062988  4368422   3.8   5.6     0.50\n",
       "9    110          11  6063043  4368430   8.8   5.4    -0.07\n",
       "10   140          30  6063210  4368454   8.1   5.7    -0.08\n",
       "11   149           9  6063254  4368462   7.3   5.6    -0.11\n",
       "12   170          21  6063365  4368484   6.2   5.4     0.06\n",
       "13   191          21  6063487  4368501   6.8   5.8    -0.28\n",
       "14   200           9  6063542  4368509   4.0   5.4     0.47\n",
       "15   311         111  6064152  4368604   4.7   5.9    -0.52\n",
       "16   339          28  6064307  4368628   3.5   5.6     0.50\n",
       "17   350          11  6064373  4368643   8.5   5.7     0.43\n",
       "18   360          10  6064429  4368651  12.8   5.8    -0.28\n",
       "19   379          19  6064540  4368667  10.0   5.9    -0.10"
      ]
     },
     "execution_count": 100,
     "metadata": {},
     "output_type": "execute_result"
    }
   ],
   "source": [
    "polish_data"
   ]
  },
  {
   "cell_type": "code",
   "execution_count": 112,
   "metadata": {},
   "outputs": [
    {
     "data": {
      "text/plain": [
       "[<matplotlib.lines.Line2D at 0x243af147c88>]"
      ]
     },
     "execution_count": 112,
     "metadata": {},
     "output_type": "execute_result"
    },
    {
     "data": {
      "image/png": "[encoded data removed]",
      "text/plain": [
       "<Figure size 432x288 with 1 Axes>"
      ]
     },
     "metadata": {
      "needs_background": "light"
     },
     "output_type": "display_data"
    }
   ],
   "source": [
    "X_sog = np.arange(0,20)\n",
    "X_sog = polish_data.iloc[:,2].values\n",
    "Y_sog = polish_data.iloc[:,3]\n",
    "\n",
    "\n",
    "model = LinearRegression()\n",
    "model.fit(X_sog.reshape((-1,1)),Y_sog)\n",
    "m = model.intercept_\n",
    "coef = model.coef_\n",
    "X_pred = X_sog\n",
    "Y_pred = X_pred*coef + m\n",
    "\n",
    "\n",
    "#Original data\n",
    "plt.plot(X_sog, Y_sog, color = 'red')\n",
    "#Predicted with model\n",
    "plt.plot(X_pred, Y_pred, color = 'green')\n"
   ]
  },
  {
   "cell_type": "code",
   "execution_count": null,
   "metadata": {},
   "outputs": [],
   "source": []
  },
  {
   "cell_type": "code",
   "execution_count": null,
   "metadata": {},
   "outputs": [],
   "source": []
  },
  {
   "cell_type": "code",
   "execution_count": null,
   "metadata": {},
   "outputs": [],
   "source": []
  },
  {
   "cell_type": "code",
   "execution_count": null,
   "metadata": {},
   "outputs": [],
   "source": []
  },
  {
   "cell_type": "code",
   "execution_count": null,
   "metadata": {},
   "outputs": [],
   "source": []
  },
  {
   "cell_type": "code",
   "execution_count": null,
   "metadata": {},
   "outputs": [],
   "source": []
  }
 ],
 "metadata": {
  "kernelspec": {
   "display_name": "Python 3",
   "language": "python",
   "name": "python3"
  },
  "language_info": {
   "codemirror_mode": {
    "name": "ipython",
    "version": 3
   },
   "file_extension": ".py",
   "mimetype": "text/x-python",
   "name": "python",
   "nbconvert_exporter": "python",
   "pygments_lexer": "ipython3",
   "version": "3.7.4"
  }
 },
 "nbformat": 4,
 "nbformat_minor": 2
}
