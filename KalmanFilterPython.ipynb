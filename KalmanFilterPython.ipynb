{
 "cells": [
  {
   "cell_type": "code",
   "execution_count": 1,
   "metadata": {},
   "outputs": [],
   "source": [
    "import numpy as np\n",
    "import pandas as pd\n",
    "import copy\n",
    "import matplotlib.pyplot as plt\n",
    "import math\n",
    "from sklearn.linear_model import LinearRegression\n",
    "from sklearn.preprocessing import PolynomialFeatures"
   ]
  },
  {
   "cell_type": "markdown",
   "metadata": {},
   "source": [
    "## Importing the dataset:"
   ]
  },
  {
   "cell_type": "code",
   "execution_count": 2,
   "metadata": {},
   "outputs": [],
   "source": [
    "polish_data = pd.read_csv(r\"C:\\Users\\chris\\OneDrive\\MSc\\Kalman Filter - Polish Paper\\polish_data.csv\")"
   ]
  },
  {
   "cell_type": "code",
   "execution_count": 3,
   "metadata": {},
   "outputs": [
    {
     "data": {
      "text/html": [
       "<div>\n",
       "<style scoped>\n",
       "    .dataframe tbody tr th:only-of-type {\n",
       "        vertical-align: middle;\n",
       "    }\n",
       "\n",
       "    .dataframe tbody tr th {\n",
       "        vertical-align: top;\n",
       "    }\n",
       "\n",
       "    .dataframe thead th {\n",
       "        text-align: right;\n",
       "    }\n",
       "</style>\n",
       "<table border=\"1\" class=\"dataframe\">\n",
       "  <thead>\n",
       "    <tr style=\"text-align: right;\">\n",
       "      <th></th>\n",
       "      <th>time</th>\n",
       "      <th>delta_time</th>\n",
       "      <th>X</th>\n",
       "      <th>Y</th>\n",
       "      <th>rot</th>\n",
       "      <th>Vmps</th>\n",
       "      <th>rot_sec</th>\n",
       "    </tr>\n",
       "  </thead>\n",
       "  <tbody>\n",
       "    <tr>\n",
       "      <th>0</th>\n",
       "      <td>0</td>\n",
       "      <td>0</td>\n",
       "      <td>6062445</td>\n",
       "      <td>4368335</td>\n",
       "      <td>3.8</td>\n",
       "      <td>5.2</td>\n",
       "      <td>0.13</td>\n",
       "    </tr>\n",
       "    <tr>\n",
       "      <th>1</th>\n",
       "      <td>11</td>\n",
       "      <td>11</td>\n",
       "      <td>6062500</td>\n",
       "      <td>4368343</td>\n",
       "      <td>5.1</td>\n",
       "      <td>5.2</td>\n",
       "      <td>0.12</td>\n",
       "    </tr>\n",
       "    <tr>\n",
       "      <th>2</th>\n",
       "      <td>20</td>\n",
       "      <td>9</td>\n",
       "      <td>6062556</td>\n",
       "      <td>4368351</td>\n",
       "      <td>6.3</td>\n",
       "      <td>5.2</td>\n",
       "      <td>-0.10</td>\n",
       "    </tr>\n",
       "    <tr>\n",
       "      <th>3</th>\n",
       "      <td>29</td>\n",
       "      <td>9</td>\n",
       "      <td>6062600</td>\n",
       "      <td>4368359</td>\n",
       "      <td>5.3</td>\n",
       "      <td>5.4</td>\n",
       "      <td>0.35</td>\n",
       "    </tr>\n",
       "    <tr>\n",
       "      <th>4</th>\n",
       "      <td>39</td>\n",
       "      <td>10</td>\n",
       "      <td>6062655</td>\n",
       "      <td>4368367</td>\n",
       "      <td>8.8</td>\n",
       "      <td>5.3</td>\n",
       "      <td>-0.12</td>\n",
       "    </tr>\n",
       "    <tr>\n",
       "      <th>5</th>\n",
       "      <td>50</td>\n",
       "      <td>11</td>\n",
       "      <td>6062711</td>\n",
       "      <td>4368375</td>\n",
       "      <td>7.6</td>\n",
       "      <td>5.5</td>\n",
       "      <td>-0.42</td>\n",
       "    </tr>\n",
       "    <tr>\n",
       "      <th>6</th>\n",
       "      <td>60</td>\n",
       "      <td>10</td>\n",
       "      <td>6062766</td>\n",
       "      <td>4368383</td>\n",
       "      <td>3.4</td>\n",
       "      <td>5.5</td>\n",
       "      <td>0.33</td>\n",
       "    </tr>\n",
       "    <tr>\n",
       "      <th>7</th>\n",
       "      <td>71</td>\n",
       "      <td>11</td>\n",
       "      <td>6062822</td>\n",
       "      <td>4368391</td>\n",
       "      <td>6.7</td>\n",
       "      <td>5.5</td>\n",
       "      <td>-0.29</td>\n",
       "    </tr>\n",
       "    <tr>\n",
       "      <th>8</th>\n",
       "      <td>99</td>\n",
       "      <td>28</td>\n",
       "      <td>6062988</td>\n",
       "      <td>4368422</td>\n",
       "      <td>3.8</td>\n",
       "      <td>5.6</td>\n",
       "      <td>0.50</td>\n",
       "    </tr>\n",
       "    <tr>\n",
       "      <th>9</th>\n",
       "      <td>110</td>\n",
       "      <td>11</td>\n",
       "      <td>6063043</td>\n",
       "      <td>4368430</td>\n",
       "      <td>8.8</td>\n",
       "      <td>5.4</td>\n",
       "      <td>-0.07</td>\n",
       "    </tr>\n",
       "    <tr>\n",
       "      <th>10</th>\n",
       "      <td>140</td>\n",
       "      <td>30</td>\n",
       "      <td>6063210</td>\n",
       "      <td>4368454</td>\n",
       "      <td>8.1</td>\n",
       "      <td>5.7</td>\n",
       "      <td>-0.08</td>\n",
       "    </tr>\n",
       "    <tr>\n",
       "      <th>11</th>\n",
       "      <td>149</td>\n",
       "      <td>9</td>\n",
       "      <td>6063254</td>\n",
       "      <td>4368462</td>\n",
       "      <td>7.3</td>\n",
       "      <td>5.6</td>\n",
       "      <td>-0.11</td>\n",
       "    </tr>\n",
       "    <tr>\n",
       "      <th>12</th>\n",
       "      <td>170</td>\n",
       "      <td>21</td>\n",
       "      <td>6063365</td>\n",
       "      <td>4368484</td>\n",
       "      <td>6.2</td>\n",
       "      <td>5.4</td>\n",
       "      <td>0.06</td>\n",
       "    </tr>\n",
       "    <tr>\n",
       "      <th>13</th>\n",
       "      <td>191</td>\n",
       "      <td>21</td>\n",
       "      <td>6063487</td>\n",
       "      <td>4368501</td>\n",
       "      <td>6.8</td>\n",
       "      <td>5.8</td>\n",
       "      <td>-0.28</td>\n",
       "    </tr>\n",
       "    <tr>\n",
       "      <th>14</th>\n",
       "      <td>200</td>\n",
       "      <td>9</td>\n",
       "      <td>6063542</td>\n",
       "      <td>4368509</td>\n",
       "      <td>4.0</td>\n",
       "      <td>5.4</td>\n",
       "      <td>0.47</td>\n",
       "    </tr>\n",
       "    <tr>\n",
       "      <th>15</th>\n",
       "      <td>311</td>\n",
       "      <td>111</td>\n",
       "      <td>6064152</td>\n",
       "      <td>4368604</td>\n",
       "      <td>4.7</td>\n",
       "      <td>5.9</td>\n",
       "      <td>-0.52</td>\n",
       "    </tr>\n",
       "    <tr>\n",
       "      <th>16</th>\n",
       "      <td>339</td>\n",
       "      <td>28</td>\n",
       "      <td>6064307</td>\n",
       "      <td>4368628</td>\n",
       "      <td>3.5</td>\n",
       "      <td>5.6</td>\n",
       "      <td>0.50</td>\n",
       "    </tr>\n",
       "    <tr>\n",
       "      <th>17</th>\n",
       "      <td>350</td>\n",
       "      <td>11</td>\n",
       "      <td>6064373</td>\n",
       "      <td>4368643</td>\n",
       "      <td>8.5</td>\n",
       "      <td>5.7</td>\n",
       "      <td>0.43</td>\n",
       "    </tr>\n",
       "    <tr>\n",
       "      <th>18</th>\n",
       "      <td>360</td>\n",
       "      <td>10</td>\n",
       "      <td>6064429</td>\n",
       "      <td>4368651</td>\n",
       "      <td>12.8</td>\n",
       "      <td>5.8</td>\n",
       "      <td>-0.28</td>\n",
       "    </tr>\n",
       "    <tr>\n",
       "      <th>19</th>\n",
       "      <td>379</td>\n",
       "      <td>19</td>\n",
       "      <td>6064540</td>\n",
       "      <td>4368667</td>\n",
       "      <td>10.0</td>\n",
       "      <td>5.9</td>\n",
       "      <td>-0.10</td>\n",
       "    </tr>\n",
       "  </tbody>\n",
       "</table>\n",
       "</div>"
      ],
      "text/plain": [
       "    time  delta_time        X        Y   rot  Vmps  rot_sec\n",
       "0      0           0  6062445  4368335   3.8   5.2     0.13\n",
       "1     11          11  6062500  4368343   5.1   5.2     0.12\n",
       "2     20           9  6062556  4368351   6.3   5.2    -0.10\n",
       "3     29           9  6062600  4368359   5.3   5.4     0.35\n",
       "4     39          10  6062655  4368367   8.8   5.3    -0.12\n",
       "5     50          11  6062711  4368375   7.6   5.5    -0.42\n",
       "6     60          10  6062766  4368383   3.4   5.5     0.33\n",
       "7     71          11  6062822  4368391   6.7   5.5    -0.29\n",
       "8     99          28  6062988  4368422   3.8   5.6     0.50\n",
       "9    110          11  6063043  4368430   8.8   5.4    -0.07\n",
       "10   140          30  6063210  4368454   8.1   5.7    -0.08\n",
       "11   149           9  6063254  4368462   7.3   5.6    -0.11\n",
       "12   170          21  6063365  4368484   6.2   5.4     0.06\n",
       "13   191          21  6063487  4368501   6.8   5.8    -0.28\n",
       "14   200           9  6063542  4368509   4.0   5.4     0.47\n",
       "15   311         111  6064152  4368604   4.7   5.9    -0.52\n",
       "16   339          28  6064307  4368628   3.5   5.6     0.50\n",
       "17   350          11  6064373  4368643   8.5   5.7     0.43\n",
       "18   360          10  6064429  4368651  12.8   5.8    -0.28\n",
       "19   379          19  6064540  4368667  10.0   5.9    -0.10"
      ]
     },
     "execution_count": 3,
     "metadata": {},
     "output_type": "execute_result"
    }
   ],
   "source": [
    "polish_data"
   ]
  },
  {
   "cell_type": "markdown",
   "metadata": {},
   "source": [
    "# Discrete Kalman filter steps:"
   ]
  },
  {
   "cell_type": "markdown",
   "metadata": {},
   "source": [
    "## State vector $X_i$"
   ]
  },
  {
   "cell_type": "code",
   "execution_count": 4,
   "metadata": {},
   "outputs": [
    {
     "data": {
      "text/plain": [
       "array([X    6062500.0\n",
       "Name: 1, dtype: float64,\n",
       "       Y    4368343.0\n",
       "Name: 1, dtype: float64,\n",
       "       Vmps   NaN\n",
       "rot    NaN\n",
       "Name: 1, dtype: float64,\n",
       "       Vmps   NaN\n",
       "rot    NaN\n",
       "Name: 1, dtype: float64], dtype=object)"
      ]
     },
     "execution_count": 4,
     "metadata": {},
     "output_type": "execute_result"
    }
   ],
   "source": [
    "def stateVector(x_k, y_k, V_k,psi_k):\n",
    "    return(np.array([x_k,y_k,V_k*(np.cos(psi_k)),V_k*(np.sin(psi_k))]))\n",
    "    \n",
    "stateVector(polish_data.iloc[1,[2]],polish_data.iloc[1,[3]],polish_data.iloc[1,[5]],polish_data.iloc[1,[4]])"
   ]
  },
  {
   "cell_type": "code",
   "execution_count": 5,
   "metadata": {},
   "outputs": [
    {
     "data": {
      "text/plain": [
       "X    6062500.0\n",
       "Name: 1, dtype: float64"
      ]
     },
     "execution_count": 5,
     "metadata": {},
     "output_type": "execute_result"
    }
   ],
   "source": [
    "polish_data.iloc[1,[2]]"
   ]
  },
  {
   "cell_type": "markdown",
   "metadata": {},
   "source": [
    "# Kalman Filter equations: "
   ]
  },
  {
   "cell_type": "markdown",
   "metadata": {},
   "source": [
    "## Estimated State Vector $\\hat{x}^{-}_{k}$ : (Time update)"
   ]
  },
  {
   "cell_type": "code",
   "execution_count": 115,
   "metadata": {},
   "outputs": [
    {
     "ename": "NameError",
     "evalue": "name 'V' is not defined",
     "output_type": "error",
     "traceback": [
      "\u001b[1;31m---------------------------------------------------------------------------\u001b[0m",
      "\u001b[1;31mNameError\u001b[0m                                 Traceback (most recent call last)",
      "\u001b[1;32m<ipython-input-115-c9e296e9cb6b>\u001b[0m in \u001b[0;36m<module>\u001b[1;34m\u001b[0m\n\u001b[0;32m      1\u001b[0m \u001b[1;31m# Get the estimated state vector\u001b[0m\u001b[1;33m\u001b[0m\u001b[1;33m\u001b[0m\u001b[1;33m\u001b[0m\u001b[0m\n\u001b[1;32m----> 2\u001b[1;33m \u001b[0mprint\u001b[0m\u001b[1;33m(\u001b[0m\u001b[0mV\u001b[0m\u001b[1;33m)\u001b[0m\u001b[1;33m\u001b[0m\u001b[1;33m\u001b[0m\u001b[0m\n\u001b[0m\u001b[0;32m      3\u001b[0m \u001b[1;32mdef\u001b[0m \u001b[0mestimated_state_vector\u001b[0m\u001b[1;33m(\u001b[0m\u001b[0mA\u001b[0m\u001b[1;33m,\u001b[0m \u001b[0mx_k_1\u001b[0m\u001b[1;33m,\u001b[0m \u001b[0mB\u001b[0m\u001b[1;33m,\u001b[0m \u001b[0mmu_k\u001b[0m\u001b[1;33m,\u001b[0m \u001b[0mw_k_1\u001b[0m\u001b[1;33m)\u001b[0m\u001b[1;33m:\u001b[0m\u001b[1;33m\u001b[0m\u001b[1;33m\u001b[0m\u001b[0m\n\u001b[0;32m      4\u001b[0m     \u001b[1;31m# A - tranition matrix\u001b[0m\u001b[1;33m\u001b[0m\u001b[1;33m\u001b[0m\u001b[1;33m\u001b[0m\u001b[0m\n\u001b[0;32m      5\u001b[0m     \u001b[1;31m# x_k_1 - previous state vector\u001b[0m\u001b[1;33m\u001b[0m\u001b[1;33m\u001b[0m\u001b[1;33m\u001b[0m\u001b[0m\n",
      "\u001b[1;31mNameError\u001b[0m: name 'V' is not defined"
     ]
    }
   ],
   "source": [
    "# Get the estimated state vector\n",
    "def estimated_state_vector(A, x_k_1, B, mu_k, w_k_1):\n",
    "    # A - tranition matrix\n",
    "    # x_k_1 - previous state vector\n",
    "    # B - Output matrix,\n",
    "    # mu_k - control variable vector,\n",
    "    # w_k_1 - previous state noise matrix\n",
    "    part1 = A.dot(x_k_1)\n",
    "    part2 = B.dot(mu_k)\n",
    "    \n",
    "    return part1 + part2 + w_k_1\n"
   ]
  },
  {
   "cell_type": "markdown",
   "metadata": {},
   "source": [
    "## Process error Covariance  $P_k^{-}$ : (Time update)"
   ]
  },
  {
   "cell_type": "code",
   "execution_count": 7,
   "metadata": {},
   "outputs": [],
   "source": [
    "def process_error_covariance(A, P_k_1,Q):\n",
    "    # A - transition matrix\n",
    "    # P_k_1 - previous state process covariance\n",
    "    # Q - process noise covariance\n",
    "    \n",
    "    return A.dot(P_k_1).dot(np.transpose(A)) + Q\n",
    "\n"
   ]
  },
  {
   "cell_type": "markdown",
   "metadata": {},
   "source": [
    "## Kalman Gain $K_k$ : (Filter measurement update)"
   ]
  },
  {
   "cell_type": "code",
   "execution_count": 8,
   "metadata": {},
   "outputs": [],
   "source": [
    "def kalman_gain(P_k, H, R):\n",
    "    # P_k - process error covariance\n",
    "    # H - simply transformation matrix\n",
    "    # R - sensor noise covariance\n",
    "    inverse_part = np.linalg.inv(H.dot(P_k).dot(np.transpose(H)) + R)\n",
    "    return P_k.dot(np.transpose(H).dot(inverse_part ))"
   ]
  },
  {
   "cell_type": "markdown",
   "metadata": {},
   "source": [
    "## A posteriori estimate of state at step k, $\\hat{x}_k$ : (Filter measurement update)"
   ]
  },
  {
   "cell_type": "code",
   "execution_count": 9,
   "metadata": {},
   "outputs": [],
   "source": [
    "def a_posteriori_est_state_k(x_hat_k,K_k, z_k,H):\n",
    "    # x_hat_k = a priori estimate state\n",
    "    # K_k - Kalman Gain\n",
    "    # H - simply transfomation matrix\n",
    "    #z_k - actual measurement vector\n",
    "    \n",
    "    return x_hat_k + K_k.dot(z_k - H.dot(x_hat_k))"
   ]
  },
  {
   "cell_type": "markdown",
   "metadata": {},
   "source": [
    "## Process error covariance matrix $P_k$ : (Filter measurement update)"
   ]
  },
  {
   "cell_type": "code",
   "execution_count": 10,
   "metadata": {},
   "outputs": [],
   "source": [
    "def process_err_covariance_mat(I,K_k, H, P_k_est):\n",
    "    # I - Identity matrix\n",
    "    # K_k - Kalman gain\n",
    "    # H - simply transition matrix\n",
    "    # P_k_est - proccess error covariance ahead\n",
    "    \n",
    "    return (I - K_k.dot(H).dot(P_k_est))"
   ]
  },
  {
   "cell_type": "markdown",
   "metadata": {},
   "source": [
    "# Symbol Meanings:\n",
    "\n",
    "### SOG :$V$\n",
    "### Longitude: $\\Phi$\n",
    "### Latetude: $\\lambda$\n",
    "### Course over ground: $\\Psi$"
   ]
  },
  {
   "cell_type": "markdown",
   "metadata": {},
   "source": [
    "# Convertion to the Cartesian coordinates:"
   ]
  },
  {
   "cell_type": "markdown",
   "metadata": {},
   "source": [
    "### Getting the epsiloid WGS-84 format:"
   ]
  },
  {
   "cell_type": "code",
   "execution_count": 11,
   "metadata": {},
   "outputs": [],
   "source": [
    "def e_squared(a,b):\n",
    "    # a - semi major axis\n",
    "    # b - semi minor axis\n",
    "    return (a**2 - b**2)/(a**2)"
   ]
  },
  {
   "cell_type": "markdown",
   "metadata": {},
   "source": [
    "### Radius of the curvature:"
   ]
  },
  {
   "cell_type": "code",
   "execution_count": 12,
   "metadata": {},
   "outputs": [],
   "source": [
    "def N_rad_of_curvature(a,e,lat):\n",
    "    # a - semi-major axis\n",
    "    # e - square of first eccentric\n",
    "    # lat - latetude\n",
    "    N = a/(np.sqrt(1- e*(np.sin(lat)**2)))\n",
    "    return N\n",
    "    "
   ]
  },
  {
   "cell_type": "markdown",
   "metadata": {},
   "source": [
    "### Cartesian Coordinates:"
   ]
  },
  {
   "cell_type": "code",
   "execution_count": 13,
   "metadata": {},
   "outputs": [],
   "source": [
    "def X_coordinate(N,h,long, lat):\n",
    "    # N - Curvature of the first vertical circle\n",
    "    # h - height at point 'P'\n",
    "    # long - longitude\n",
    "    # lat - latitude\n",
    "    return (N+h)*np.cos(long)*np.cos(lat)\n",
    "\n",
    "def Y_coordinate(N,h,long, lat):\n",
    "    # N - Curvature of the first vertical circle\n",
    "    # h - height at point 'P'\n",
    "    # long - longitude\n",
    "    # lat - latitude\n",
    "    return (N+h)*np.cos(long)*np.sin(lat)\n",
    "\n",
    "def Z_coordinate(N,e,H):\n",
    "    # N - Curvature of the first vertical circle\n",
    "    # e - estimate of the squre of the first eccentric\n",
    "    # H - height at point 'P'\n",
    "    return (N - (1-e)+H)"
   ]
  },
  {
   "cell_type": "markdown",
   "metadata": {},
   "source": [
    "## Conversion of types"
   ]
  },
  {
   "cell_type": "markdown",
   "metadata": {},
   "source": [
    "### knots --> m/s\n"
   ]
  },
  {
   "cell_type": "code",
   "execution_count": 14,
   "metadata": {},
   "outputs": [],
   "source": [
    "def knots_to_mps(kts):\n",
    "    return kts*0.51444444"
   ]
  },
  {
   "cell_type": "markdown",
   "metadata": {},
   "source": [
    "### rate of turn °/min --> °/sec"
   ]
  },
  {
   "cell_type": "code",
   "execution_count": 15,
   "metadata": {},
   "outputs": [],
   "source": [
    "def rot_min_to_sec(rot_min):\n",
    "    return rot_min/60"
   ]
  },
  {
   "cell_type": "code",
   "execution_count": 16,
   "metadata": {},
   "outputs": [],
   "source": [
    "def radians_to_deg(rad):\n",
    "    return rad*np.pi/180\n",
    "\n",
    "def deg_to_rad(deg):\n",
    "    return deg*180/np.pi"
   ]
  },
  {
   "cell_type": "markdown",
   "metadata": {},
   "source": [
    "# Estimation of Coordinates with Linear Algorithm"
   ]
  },
  {
   "cell_type": "markdown",
   "metadata": {},
   "source": [
    "### Exceleration in x & y axis"
   ]
  },
  {
   "cell_type": "code",
   "execution_count": 17,
   "metadata": {},
   "outputs": [],
   "source": [
    "def calc_a_x(V_k, cog, rot, cog_k_1,delta_time):\n",
    "    #V_k - Speed over ground\n",
    "    #rot - rate of turn\n",
    "    #cog - course over ground\n",
    "    #cog_k_1 - course over ground at instance (k-1)\n",
    "    #delta_time - difference in time between the current and previous step\n",
    "    top = V_k*np.cos(radians_to_deg(cog + rot*delta_time)) - np.cos(radians_to_deg(cog_k_1))\n",
    "    bottom = delta_time\n",
    "    \n",
    "    return top/bottom\n",
    "\n",
    "def calc_a_y(V_k, cog, rot, cog_k_1,delta_time):\n",
    "    #V_k - Speed over ground\n",
    "    #rot - rate of turn\n",
    "    #cog - course over ground\n",
    "    #cog_k_1 - course over ground at instance (k-1)\n",
    "    #delta_time - difference in time between the current and previous step\n",
    "    top = V_k*np.sin(radians_to_deg(cog + rot*delta_time)) - np.sin(radians_to_deg(cog_k_1))\n",
    "    bottom = delta_time\n",
    "    \n",
    "    return top/bottom"
   ]
  },
  {
   "cell_type": "markdown",
   "metadata": {},
   "source": [
    "### Shift of coordinates in the X & Y axis"
   ]
  },
  {
   "cell_type": "code",
   "execution_count": 18,
   "metadata": {},
   "outputs": [],
   "source": [
    "def delta_X(a_x,deltaTime):\n",
    "    #a_x - acceleration in x-axis\n",
    "    #deltaTime - change in time\n",
    "    return a_x*(deltaTime**2)/2\n",
    "\n",
    "def delta_Y(a_y,deltaTime):\n",
    "    return a_y*(deltaTime**2)/2"
   ]
  },
  {
   "cell_type": "markdown",
   "metadata": {},
   "source": [
    " # Discrete Kalman Filtering Algorithm "
   ]
  },
  {
   "cell_type": "markdown",
   "metadata": {},
   "source": [
    "## Model state Vector $X_i$"
   ]
  },
  {
   "cell_type": "code",
   "execution_count": 19,
   "metadata": {},
   "outputs": [],
   "source": [
    "def set_state_vector_Xi(x_k, y_k,cog, V_k):\n",
    "    # x_k & y_k = UTM Coordinate\n",
    "    # V_k = sog\n",
    "    # cog = course over ground\n",
    "    X_i = np.array([[x_k],\n",
    "           [y_k],\n",
    "           [V_k*np.cos(deg_to_rad(cog/3600))], #/3600 is to convert the format from E10h\n",
    "           [V_k*np.sin(deg_to_rad(cog/3600))]])\n",
    "    return X_i\n",
    "    "
   ]
  },
  {
   "cell_type": "code",
   "execution_count": 20,
   "metadata": {},
   "outputs": [
    {
     "data": {
      "text/plain": [
       "array([[6.06244500e+06],\n",
       "       [4.36833500e+06],\n",
       "       [5.19049289e+00],\n",
       "       [3.14298484e-01]])"
      ]
     },
     "execution_count": 20,
     "metadata": {},
     "output_type": "execute_result"
    }
   ],
   "source": [
    "set_state_vector_Xi(6062445,4368335,3.8,5.2)"
   ]
  },
  {
   "cell_type": "markdown",
   "metadata": {},
   "source": [
    "## Transition Matrix $A$ :"
   ]
  },
  {
   "cell_type": "code",
   "execution_count": 21,
   "metadata": {},
   "outputs": [],
   "source": [
    "def getA(diffTime):\n",
    "    A = np.identity(4)\n",
    "    A[0,2] = diffTime\n",
    "    A[1,3] = diffTime\n",
    "    return A\n",
    "    \n"
   ]
  },
  {
   "cell_type": "code",
   "execution_count": 22,
   "metadata": {},
   "outputs": [
    {
     "name": "stdout",
     "output_type": "stream",
     "text": [
      "[[ 1.  0. 10.  0.]\n",
      " [ 0.  1.  0. 10.]\n",
      " [ 0.  0.  1.  0.]\n",
      " [ 0.  0.  0.  1.]]\n"
     ]
    }
   ],
   "source": [
    "A = getA(10) #Specified on page 79\n",
    "print(A)"
   ]
  },
  {
   "cell_type": "markdown",
   "metadata": {},
   "source": [
    "## Predicted state matrix $\\hat{x}^{-}_{k}$ :"
   ]
  },
  {
   "cell_type": "code",
   "execution_count": 23,
   "metadata": {},
   "outputs": [],
   "source": [
    "def pred_state_mat(a_x,a_y,timeDiff,A,prev_state_mat,w_k_1):\n",
    "    # a_x - acceleration in x-axis\n",
    "    # a_y - acceleration in y-axis\n",
    "    # timeDiff - timeDifference between intervals\n",
    "    # prev_state - previous state matrix\n",
    "    # w_k_1 - noise \n",
    "    B_mu_k = np.array([[a_x*(timeDiff**2)/2],\n",
    "             [a_y*(timeDiff**2)/2],\n",
    "             [a_x*timeDiff],\n",
    "             [a_y*timeDiff]])\n",
    "    \n",
    "    \n",
    "    return A.dot(prev_state_mat) + B_mu_k + w_k_1"
   ]
  },
  {
   "cell_type": "code",
   "execution_count": null,
   "metadata": {},
   "outputs": [],
   "source": []
  },
  {
   "cell_type": "code",
   "execution_count": null,
   "metadata": {},
   "outputs": [],
   "source": [
    "\n",
    "\n"
   ]
  },
  {
   "cell_type": "code",
   "execution_count": null,
   "metadata": {},
   "outputs": [],
   "source": [
    "\n"
   ]
  },
  {
   "cell_type": "markdown",
   "metadata": {},
   "source": [
    "## State proces covariance matrix $P_{k-1}$"
   ]
  },
  {
   "cell_type": "code",
   "execution_count": 24,
   "metadata": {},
   "outputs": [],
   "source": [
    "def state_proccess_cov_mat(vec_in):\n",
    "    cov_mat = vec_in.dot(np.transpose(vec_in))\n",
    "    return cov_mat"
   ]
  },
  {
   "cell_type": "code",
   "execution_count": 25,
   "metadata": {},
   "outputs": [
    {
     "name": "stdout",
     "output_type": "stream",
     "text": [
      "[[100.   100.     5.     5.  ]\n",
      " [100.   100.     5.     5.  ]\n",
      " [  5.     5.     0.25   0.25]\n",
      " [  5.     5.     0.25   0.25]]\n"
     ]
    }
   ],
   "source": [
    "P_k_1 = state_proccess_cov_mat(np.array([[10],[10],[0.5],[0.5]]))\n",
    "print(P_k_1)"
   ]
  },
  {
   "cell_type": "markdown",
   "metadata": {},
   "source": [
    "## Q $\\approxeq P_{k-1}$"
   ]
  },
  {
   "cell_type": "code",
   "execution_count": 26,
   "metadata": {},
   "outputs": [
    {
     "name": "stdout",
     "output_type": "stream",
     "text": [
      "[[100.   100.     5.     5.  ]\n",
      " [100.   100.     5.     5.  ]\n",
      " [  5.     5.     0.25   0.25]\n",
      " [  5.     5.     0.25   0.25]]\n"
     ]
    }
   ],
   "source": [
    "Q = P_k_1\n",
    "print(Q)"
   ]
  },
  {
   "cell_type": "markdown",
   "metadata": {},
   "source": [
    "### Transition Matrix $H$"
   ]
  },
  {
   "cell_type": "code",
   "execution_count": 27,
   "metadata": {},
   "outputs": [
    {
     "name": "stdout",
     "output_type": "stream",
     "text": [
      "[[1. 0. 0. 0.]\n",
      " [0. 1. 0. 0.]\n",
      " [0. 0. 1. 0.]\n",
      " [0. 0. 0. 1.]]\n"
     ]
    }
   ],
   "source": [
    "H = np.identity(4)\n",
    "print(H)"
   ]
  },
  {
   "cell_type": "code",
   "execution_count": 28,
   "metadata": {},
   "outputs": [],
   "source": [
    "P_k = process_error_covariance(A, P_k_1,Q)\n",
    "\n",
    "#process_error_covariance(A, P_k_1,Q):"
   ]
  },
  {
   "cell_type": "code",
   "execution_count": 29,
   "metadata": {},
   "outputs": [
    {
     "name": "stdout",
     "output_type": "stream",
     "text": [
      "[[100.     0.     0.     0.  ]\n",
      " [  0.   100.     0.     0.  ]\n",
      " [  0.     0.     0.25   0.  ]\n",
      " [  0.     0.     0.     0.25]]\n"
     ]
    }
   ],
   "source": [
    "R = np.diagonal(P_k_1) #extract the diagona\n",
    "a = np.zeros((4,4))\n",
    "np.fill_diagonal(a,R)\n",
    "\n",
    "R = copy.deepcopy(a) #make its own instance\n",
    "print(R)\n"
   ]
  },
  {
   "cell_type": "code",
   "execution_count": 30,
   "metadata": {},
   "outputs": [
    {
     "name": "stdout",
     "output_type": "stream",
     "text": [
      "[[0.3  0.3  4.   4.  ]\n",
      " [0.3  0.3  4.   4.  ]\n",
      " [0.01 0.01 0.2  0.2 ]\n",
      " [0.01 0.01 0.2  0.2 ]]\n"
     ]
    }
   ],
   "source": [
    "KalmanGain = kalman_gain(P_k, H, R)\n",
    "print(KalmanGain)"
   ]
  },
  {
   "cell_type": "markdown",
   "metadata": {},
   "source": [
    "## Actual measurement vector $z_k$ "
   ]
  },
  {
   "cell_type": "code",
   "execution_count": 31,
   "metadata": {},
   "outputs": [],
   "source": [
    "def get_actual_measuremet_vec(x_k, y_k,cog, V_k):\n",
    "    # x_k & y_k = UTM Coordinate\n",
    "    # V_k = sog\n",
    "    # cog = course over ground\n",
    "    X_i = [[x_k],\n",
    "           [y_k],\n",
    "           [V_k*np.cos(deg_to_rad(cog/3600))], #/3600 is to convert the format from E10h\n",
    "           [V_k*np.sin(deg_to_rad(cog/3600))]]\n",
    "    return X_i\n",
    "    "
   ]
  },
  {
   "cell_type": "code",
   "execution_count": 32,
   "metadata": {},
   "outputs": [
    {
     "name": "stdout",
     "output_type": "stream",
     "text": [
      "V_k:  5.2\n",
      "cog:  5.1\n",
      "cog_k_1:  3.8\n",
      "rot:  0.12\n",
      "deltaTime:  11\n",
      "a_x:  0.379053551321072\n",
      "a_y:  0.04683348563913017\n",
      "X_coord:  6062500\n",
      "Y_coord:  4368343\n",
      "\n",
      "\n",
      "MEASUREMENT VECTOR:\n",
      " [[6062500], [4368343], [5.182879536903919], [0.4216155902509045]]\n"
     ]
    }
   ],
   "source": [
    "V_k = polish_data.iloc[1,5]\n",
    "print(\"V_k: \",V_k)\n",
    "\n",
    "cog = polish_data.iloc[1,4]\n",
    "print(\"cog: \", cog)\n",
    "\n",
    "cog_k_1 = polish_data.iloc[0,4]\n",
    "print(\"cog_k_1: \", cog_k_1)\n",
    "\n",
    "rot = polish_data.iloc[1,6]\n",
    "print(\"rot: \", rot)\n",
    "\n",
    "deltaTime = polish_data.iloc[1,1]\n",
    "print(\"deltaTime: \", deltaTime)\n",
    "\n",
    "a_x = calc_a_x(V_k,cog,rot,cog_k_1,deltaTime)\n",
    "print(\"a_x: \",a_x)\n",
    "\n",
    "a_y = calc_a_y(V_k,cog,rot,cog_k_1,deltaTime)\n",
    "print(\"a_y: \",a_y)\n",
    "#V_k, cog, rot, cog_k_1,delta_time):\n",
    "\n",
    "X_coord = polish_data.iloc[1,2]\n",
    "print(\"X_coord: \",X_coord)\n",
    "Y_coord = polish_data.iloc[1,3]\n",
    "print(\"Y_coord: \",Y_coord)\n",
    "\n",
    "#MEASUREMENT VECTOR\n",
    "z_k = get_actual_measuremet_vec(X_coord, Y_coord,cog, V_k)\n",
    "\n",
    "print(\"\\n\\nMEASUREMENT VECTOR:\\n\",z_k)\n"
   ]
  },
  {
   "cell_type": "markdown",
   "metadata": {},
   "source": [
    "## A posteriori Estimate $\\hat{x}_k$ :"
   ]
  },
  {
   "cell_type": "code",
   "execution_count": 33,
   "metadata": {},
   "outputs": [
    {
     "name": "stdout",
     "output_type": "stream",
     "text": [
      "[[22.93273985 22.93273985 22.93273985 22.93273985]\n",
      " [ 2.83342588  2.83342588  2.83342588  2.83342588]\n",
      " [ 4.16958906  4.16958906  4.16958906  4.16958906]\n",
      " [ 0.51516834  0.51516834  0.51516834  0.51516834]]\n",
      "\n",
      "\n",
      "A posteriori:\n",
      "\n",
      "[[3129271.78184102 3129271.78184102 3129271.78184102 3129271.78184102]\n",
      " [3129251.68252705 3129251.68252705 3129251.68252705 3129251.68252705]\n",
      " [ 104312.52587495  104312.52587495  104312.52587495  104312.52587495]\n",
      " [ 104308.87145423  104308.87145423  104308.87145423  104308.87145423]]\n"
     ]
    }
   ],
   "source": [
    "prev_state_mat = np.zeros(4)\n",
    "w_k_1 = np.array([[0],[0],[0],[0]])\n",
    "\n",
    "    \n",
    "x_hat_k_dash = pred_state_mat(a_x,a_y,deltaTime,A,prev_state_mat, w_k_1) #Calculating $\\hat{x}_k^{-}$\n",
    "print(x_hat_k_dash)\n",
    "\n",
    "\n",
    "\n",
    "\n",
    "\n",
    "# NOW FOR THE  a posteriori:\n",
    "print(\"\\n\\nA posteriori:\\n\")\n",
    "\n",
    "x_hat_k = a_posteriori_est_state_k(x_hat_k_dash,KalmanGain, z_k,H)\n",
    "print(x_hat_k)\n",
    "\n"
   ]
  },
  {
   "cell_type": "markdown",
   "metadata": {},
   "source": [
    "## Process error covariance:"
   ]
  },
  {
   "cell_type": "code",
   "execution_count": 34,
   "metadata": {},
   "outputs": [
    {
     "name": "stdout",
     "output_type": "stream",
     "text": [
      "[[325.  325.   12.5  12.5]\n",
      " [325.  325.   12.5  12.5]\n",
      " [ 12.5  12.5   0.5   0.5]\n",
      " [ 12.5  12.5   0.5   0.5]]\n"
     ]
    }
   ],
   "source": [
    "P_k = process_error_covariance(A, P_k_1,Q)\n",
    "print(P_k)\n",
    "    "
   ]
  },
  {
   "cell_type": "markdown",
   "metadata": {},
   "source": [
    "## If there is no coordinates it is estimated as follows:"
   ]
  },
  {
   "cell_type": "code",
   "execution_count": 35,
   "metadata": {},
   "outputs": [
    {
     "name": "stdout",
     "output_type": "stream",
     "text": [
      "[4368343]\n",
      "[6062500]\n",
      "Estimated cog: 0.010897593569502224\n"
     ]
    },
    {
     "data": {
      "text/plain": [
       "array([4.05661074, 2.92299664])"
      ]
     },
     "execution_count": 35,
     "metadata": {},
     "output_type": "execute_result"
    }
   ],
   "source": [
    "y_k = copy.deepcopy(z_k[1])\n",
    "print(y_k)\n",
    "\n",
    "x_k = copy.deepcopy(z_k[0])\n",
    "print(x_k)\n",
    "\n",
    "def estimate_cog(x_k, x_k_1, y_k,y_k_1):\n",
    "\n",
    "    cog_radians = np.arctan((y_k-y_k_1)/(x_k-x_k_1))\n",
    "\n",
    "    \n",
    "    return radians_to_deg(cog_radians)\n",
    "\n",
    "cog_hat = estimate_cog(x_k[0], 0, y_k[0],0)\n",
    "print(\"Estimated cog:\", cog_hat)\n",
    "\n",
    "\n",
    "def estimate_linspead(cog,sog):\n",
    "    V_k_x = np.cos(deg_to_rad(cog))*sog\n",
    "    V_k_y = np.sin(deg_to_rad(cog))*sog\n",
    "    \n",
    "    return np.array([V_k_x,V_k_y])\n",
    "\n",
    "estimate_linspead(cog_hat,5)"
   ]
  },
  {
   "cell_type": "markdown",
   "metadata": {},
   "source": [
    "# Own inference before any Application of the Discrete Kalman filter:"
   ]
  },
  {
   "cell_type": "code",
   "execution_count": 36,
   "metadata": {},
   "outputs": [
    {
     "data": {
      "text/html": [
       "<div>\n",
       "<style scoped>\n",
       "    .dataframe tbody tr th:only-of-type {\n",
       "        vertical-align: middle;\n",
       "    }\n",
       "\n",
       "    .dataframe tbody tr th {\n",
       "        vertical-align: top;\n",
       "    }\n",
       "\n",
       "    .dataframe thead th {\n",
       "        text-align: right;\n",
       "    }\n",
       "</style>\n",
       "<table border=\"1\" class=\"dataframe\">\n",
       "  <thead>\n",
       "    <tr style=\"text-align: right;\">\n",
       "      <th></th>\n",
       "      <th>time</th>\n",
       "      <th>delta_time</th>\n",
       "      <th>X</th>\n",
       "      <th>Y</th>\n",
       "      <th>rot</th>\n",
       "      <th>Vmps</th>\n",
       "      <th>rot_sec</th>\n",
       "    </tr>\n",
       "  </thead>\n",
       "  <tbody>\n",
       "    <tr>\n",
       "      <th>0</th>\n",
       "      <td>0</td>\n",
       "      <td>0</td>\n",
       "      <td>6062445</td>\n",
       "      <td>4368335</td>\n",
       "      <td>3.8</td>\n",
       "      <td>5.2</td>\n",
       "      <td>0.13</td>\n",
       "    </tr>\n",
       "    <tr>\n",
       "      <th>1</th>\n",
       "      <td>11</td>\n",
       "      <td>11</td>\n",
       "      <td>6062500</td>\n",
       "      <td>4368343</td>\n",
       "      <td>5.1</td>\n",
       "      <td>5.2</td>\n",
       "      <td>0.12</td>\n",
       "    </tr>\n",
       "    <tr>\n",
       "      <th>2</th>\n",
       "      <td>20</td>\n",
       "      <td>9</td>\n",
       "      <td>6062556</td>\n",
       "      <td>4368351</td>\n",
       "      <td>6.3</td>\n",
       "      <td>5.2</td>\n",
       "      <td>-0.10</td>\n",
       "    </tr>\n",
       "    <tr>\n",
       "      <th>3</th>\n",
       "      <td>29</td>\n",
       "      <td>9</td>\n",
       "      <td>6062600</td>\n",
       "      <td>4368359</td>\n",
       "      <td>5.3</td>\n",
       "      <td>5.4</td>\n",
       "      <td>0.35</td>\n",
       "    </tr>\n",
       "    <tr>\n",
       "      <th>4</th>\n",
       "      <td>39</td>\n",
       "      <td>10</td>\n",
       "      <td>6062655</td>\n",
       "      <td>4368367</td>\n",
       "      <td>8.8</td>\n",
       "      <td>5.3</td>\n",
       "      <td>-0.12</td>\n",
       "    </tr>\n",
       "    <tr>\n",
       "      <th>5</th>\n",
       "      <td>50</td>\n",
       "      <td>11</td>\n",
       "      <td>6062711</td>\n",
       "      <td>4368375</td>\n",
       "      <td>7.6</td>\n",
       "      <td>5.5</td>\n",
       "      <td>-0.42</td>\n",
       "    </tr>\n",
       "    <tr>\n",
       "      <th>6</th>\n",
       "      <td>60</td>\n",
       "      <td>10</td>\n",
       "      <td>6062766</td>\n",
       "      <td>4368383</td>\n",
       "      <td>3.4</td>\n",
       "      <td>5.5</td>\n",
       "      <td>0.33</td>\n",
       "    </tr>\n",
       "    <tr>\n",
       "      <th>7</th>\n",
       "      <td>71</td>\n",
       "      <td>11</td>\n",
       "      <td>6062822</td>\n",
       "      <td>4368391</td>\n",
       "      <td>6.7</td>\n",
       "      <td>5.5</td>\n",
       "      <td>-0.29</td>\n",
       "    </tr>\n",
       "    <tr>\n",
       "      <th>8</th>\n",
       "      <td>99</td>\n",
       "      <td>28</td>\n",
       "      <td>6062988</td>\n",
       "      <td>4368422</td>\n",
       "      <td>3.8</td>\n",
       "      <td>5.6</td>\n",
       "      <td>0.50</td>\n",
       "    </tr>\n",
       "    <tr>\n",
       "      <th>9</th>\n",
       "      <td>110</td>\n",
       "      <td>11</td>\n",
       "      <td>6063043</td>\n",
       "      <td>4368430</td>\n",
       "      <td>8.8</td>\n",
       "      <td>5.4</td>\n",
       "      <td>-0.07</td>\n",
       "    </tr>\n",
       "    <tr>\n",
       "      <th>10</th>\n",
       "      <td>140</td>\n",
       "      <td>30</td>\n",
       "      <td>6063210</td>\n",
       "      <td>4368454</td>\n",
       "      <td>8.1</td>\n",
       "      <td>5.7</td>\n",
       "      <td>-0.08</td>\n",
       "    </tr>\n",
       "    <tr>\n",
       "      <th>11</th>\n",
       "      <td>149</td>\n",
       "      <td>9</td>\n",
       "      <td>6063254</td>\n",
       "      <td>4368462</td>\n",
       "      <td>7.3</td>\n",
       "      <td>5.6</td>\n",
       "      <td>-0.11</td>\n",
       "    </tr>\n",
       "    <tr>\n",
       "      <th>12</th>\n",
       "      <td>170</td>\n",
       "      <td>21</td>\n",
       "      <td>6063365</td>\n",
       "      <td>4368484</td>\n",
       "      <td>6.2</td>\n",
       "      <td>5.4</td>\n",
       "      <td>0.06</td>\n",
       "    </tr>\n",
       "    <tr>\n",
       "      <th>13</th>\n",
       "      <td>191</td>\n",
       "      <td>21</td>\n",
       "      <td>6063487</td>\n",
       "      <td>4368501</td>\n",
       "      <td>6.8</td>\n",
       "      <td>5.8</td>\n",
       "      <td>-0.28</td>\n",
       "    </tr>\n",
       "    <tr>\n",
       "      <th>14</th>\n",
       "      <td>200</td>\n",
       "      <td>9</td>\n",
       "      <td>6063542</td>\n",
       "      <td>4368509</td>\n",
       "      <td>4.0</td>\n",
       "      <td>5.4</td>\n",
       "      <td>0.47</td>\n",
       "    </tr>\n",
       "    <tr>\n",
       "      <th>15</th>\n",
       "      <td>311</td>\n",
       "      <td>111</td>\n",
       "      <td>6064152</td>\n",
       "      <td>4368604</td>\n",
       "      <td>4.7</td>\n",
       "      <td>5.9</td>\n",
       "      <td>-0.52</td>\n",
       "    </tr>\n",
       "    <tr>\n",
       "      <th>16</th>\n",
       "      <td>339</td>\n",
       "      <td>28</td>\n",
       "      <td>6064307</td>\n",
       "      <td>4368628</td>\n",
       "      <td>3.5</td>\n",
       "      <td>5.6</td>\n",
       "      <td>0.50</td>\n",
       "    </tr>\n",
       "    <tr>\n",
       "      <th>17</th>\n",
       "      <td>350</td>\n",
       "      <td>11</td>\n",
       "      <td>6064373</td>\n",
       "      <td>4368643</td>\n",
       "      <td>8.5</td>\n",
       "      <td>5.7</td>\n",
       "      <td>0.43</td>\n",
       "    </tr>\n",
       "    <tr>\n",
       "      <th>18</th>\n",
       "      <td>360</td>\n",
       "      <td>10</td>\n",
       "      <td>6064429</td>\n",
       "      <td>4368651</td>\n",
       "      <td>12.8</td>\n",
       "      <td>5.8</td>\n",
       "      <td>-0.28</td>\n",
       "    </tr>\n",
       "    <tr>\n",
       "      <th>19</th>\n",
       "      <td>379</td>\n",
       "      <td>19</td>\n",
       "      <td>6064540</td>\n",
       "      <td>4368667</td>\n",
       "      <td>10.0</td>\n",
       "      <td>5.9</td>\n",
       "      <td>-0.10</td>\n",
       "    </tr>\n",
       "  </tbody>\n",
       "</table>\n",
       "</div>"
      ],
      "text/plain": [
       "    time  delta_time        X        Y   rot  Vmps  rot_sec\n",
       "0      0           0  6062445  4368335   3.8   5.2     0.13\n",
       "1     11          11  6062500  4368343   5.1   5.2     0.12\n",
       "2     20           9  6062556  4368351   6.3   5.2    -0.10\n",
       "3     29           9  6062600  4368359   5.3   5.4     0.35\n",
       "4     39          10  6062655  4368367   8.8   5.3    -0.12\n",
       "5     50          11  6062711  4368375   7.6   5.5    -0.42\n",
       "6     60          10  6062766  4368383   3.4   5.5     0.33\n",
       "7     71          11  6062822  4368391   6.7   5.5    -0.29\n",
       "8     99          28  6062988  4368422   3.8   5.6     0.50\n",
       "9    110          11  6063043  4368430   8.8   5.4    -0.07\n",
       "10   140          30  6063210  4368454   8.1   5.7    -0.08\n",
       "11   149           9  6063254  4368462   7.3   5.6    -0.11\n",
       "12   170          21  6063365  4368484   6.2   5.4     0.06\n",
       "13   191          21  6063487  4368501   6.8   5.8    -0.28\n",
       "14   200           9  6063542  4368509   4.0   5.4     0.47\n",
       "15   311         111  6064152  4368604   4.7   5.9    -0.52\n",
       "16   339          28  6064307  4368628   3.5   5.6     0.50\n",
       "17   350          11  6064373  4368643   8.5   5.7     0.43\n",
       "18   360          10  6064429  4368651  12.8   5.8    -0.28\n",
       "19   379          19  6064540  4368667  10.0   5.9    -0.10"
      ]
     },
     "execution_count": 36,
     "metadata": {},
     "output_type": "execute_result"
    }
   ],
   "source": [
    "polish_data"
   ]
  },
  {
   "cell_type": "code",
   "execution_count": 37,
   "metadata": {},
   "outputs": [
    {
     "name": "stdout",
     "output_type": "stream",
     "text": [
      "MSE:  2.601671458225936\n",
      "Correlation Coef:\n",
      " [[1.         0.99989403]\n",
      " [0.99989403 1.        ]]\n"
     ]
    },
    {
     "data": {
      "image/png": "[encoded data removed]",
      "text/plain": [
       "<Figure size 432x288 with 1 Axes>"
      ]
     },
     "metadata": {
      "needs_background": "light"
     },
     "output_type": "display_data"
    }
   ],
   "source": [
    "X_sog = np.arange(0,40)\n",
    "X_sog = polish_data.iloc[:,2].values\n",
    "Y_sog = polish_data.iloc[:,3]\n",
    "\n",
    "\n",
    "model = LinearRegression()\n",
    "model.fit(X_sog.reshape((-1,1)),Y_sog)\n",
    "m = model.intercept_\n",
    "coef = model.coef_\n",
    "X_pred =  np.arange(start = np.min(X_sog), stop = np.max(X_sog), step = 125)\n",
    "X_pred = np.concatenate((X_pred,X_sog),axis = 0)\n",
    "Y_pred = X_pred*coef + m\n",
    "\n",
    "\n",
    "\n",
    "\n",
    "#Original data\n",
    "\n",
    "#Predicted with model\n",
    "plt.plot(X_pred, Y_pred, 'ro', markersize=8)\n",
    "plt.plot(X_sog, Y_sog, 'bx',markersize=7)\n",
    "plt.title(\"Linear Regression for trajectory\")\n",
    "plt.ylabel(\"X - Cartesian coordinates\")\n",
    "plt.xlabel(\"Y - Cartesian coordinates\")\n",
    "legend_data = [\"Model\",\"Original\"]\n",
    "\n",
    "#ERROR:\n",
    "\n",
    "Y_pred = X_sog*coef + m\n",
    "\n",
    "MSError = np.mean(np.square(Y_pred-Y_sog))\n",
    "Correlation =  np.corrcoef(Y_pred,Y_sog)\n",
    "print(\"MSE: \", MSError)\n",
    "print(\"Correlation Coef:\\n\", Correlation)\n",
    "\n",
    "plt.legend(legend_data)\n",
    "\n",
    "plt.show()"
   ]
  },
  {
   "cell_type": "markdown",
   "metadata": {},
   "source": [
    "# Iterative Kalman Filter implementation:"
   ]
  },
  {
   "cell_type": "code",
   "execution_count": 38,
   "metadata": {},
   "outputs": [],
   "source": [
    "deltaTime_iterative = 10"
   ]
  },
  {
   "cell_type": "code",
   "execution_count": 39,
   "metadata": {},
   "outputs": [
    {
     "data": {
      "text/plain": [
       "6062463.952677566"
      ]
     },
     "execution_count": 39,
     "metadata": {},
     "output_type": "execute_result"
    }
   ],
   "source": [
    "6062445+(a_x*10*10)/2"
   ]
  },
  {
   "cell_type": "code",
   "execution_count": 40,
   "metadata": {},
   "outputs": [
    {
     "data": {
      "text/plain": [
       "4368337.341674282"
      ]
     },
     "execution_count": 40,
     "metadata": {},
     "output_type": "execute_result"
    }
   ],
   "source": [
    "4368335 +a_y*10*10/2"
   ]
  },
  {
   "cell_type": "code",
   "execution_count": 41,
   "metadata": {},
   "outputs": [
    {
     "name": "stdout",
     "output_type": "stream",
     "text": [
      "deltaTime:  11\n"
     ]
    },
    {
     "data": {
      "text/plain": [
       "[5.2,\n",
       " 5.1,\n",
       " 3.8,\n",
       " 0.12,\n",
       " 11,\n",
       " 0.379053551321072,\n",
       " 0.04683348563913017,\n",
       " 6062500,\n",
       " 4368343]"
      ]
     },
     "execution_count": 41,
     "metadata": {},
     "output_type": "execute_result"
    }
   ],
   "source": [
    "def get_data_from_dataframe(df_in,iteration_no):\n",
    "    V_k = df_in.iloc[iteration_no,5]\n",
    "    #print(\"V_k: \",V_k)\n",
    "\n",
    "    cog = df_in.iloc[iteration_no,4]\n",
    "    #print(\"cog: \", cog)\n",
    "\n",
    "    cog_k_1 = df_in.iloc[iteration_no-1,4]\n",
    "    if (iteration_no == 0):\n",
    "        cog_k_1 = 0\n",
    "    #print(\"cog_k_1: \", cog_k_1)\n",
    "\n",
    "    rot = df_in.iloc[iteration_no,6]\n",
    "   # print(\"rot: \", rot)\n",
    "\n",
    "    deltaTime = df_in.iloc[iteration_no,1]\n",
    "    deltaTime = 11\n",
    "    print(\"deltaTime: \", deltaTime)\n",
    "\n",
    "    a_x = calc_a_x(V_k,cog,rot,cog_k_1,deltaTime)\n",
    "   # print(\"a_x: \",a_x)\n",
    "\n",
    "    a_y = calc_a_y(V_k,cog,rot,cog_k_1,deltaTime)\n",
    "  #  print(\"a_y: \",a_y)\n",
    "    #V_k, cog, rot, cog_k_1,delta_time):\n",
    "\n",
    "    X_coord = df_in.iloc[iteration_no,2]\n",
    "  #  print(\"X_coord: \",X_coord)\n",
    "    Y_coord = df_in.iloc[iteration_no,3]\n",
    "  #  print(\"Y_coord: \",Y_coord)\n",
    "    \n",
    "    return([V_k, cog, cog_k_1, rot, deltaTime, a_x, a_y, X_coord, Y_coord])\n",
    "\n",
    "get_data_from_dataframe(polish_data,1)"
   ]
  },
  {
   "cell_type": "code",
   "execution_count": 42,
   "metadata": {},
   "outputs": [
    {
     "name": "stdout",
     "output_type": "stream",
     "text": [
      "deltaTime:  11\n"
     ]
    }
   ],
   "source": [
    "_,_,_,_,_, a_x_test, a_y_test,X_coord_test,_ = get_data_from_dataframe(polish_data,1)\n",
    "\n"
   ]
  },
  {
   "cell_type": "code",
   "execution_count": 43,
   "metadata": {},
   "outputs": [
    {
     "data": {
      "text/plain": [
       "6062499.810473224"
      ]
     },
     "execution_count": 43,
     "metadata": {},
     "output_type": "execute_result"
    }
   ],
   "source": [
    "X_coord_test-a_x_test/2\n",
    "\n",
    "\n"
   ]
  },
  {
   "cell_type": "code",
   "execution_count": 44,
   "metadata": {},
   "outputs": [
    {
     "data": {
      "text/plain": [
       "array([[18.95267757, 18.95267757, 18.95267757, 18.95267757],\n",
       "       [ 2.34167428,  2.34167428,  2.34167428,  2.34167428],\n",
       "       [ 3.79053551,  3.79053551,  3.79053551,  3.79053551],\n",
       "       [ 0.46833486,  0.46833486,  0.46833486,  0.46833486]])"
      ]
     },
     "execution_count": 44,
     "metadata": {},
     "output_type": "execute_result"
    }
   ],
   "source": [
    "pred_state_mat(a_x_test,a_y_test,10,A,prev_state_mat,w_k_1)"
   ]
  },
  {
   "cell_type": "markdown",
   "metadata": {},
   "source": [
    "# ------ OWN IMPLEMENTATION  ---------"
   ]
  },
  {
   "cell_type": "code",
   "execution_count": 45,
   "metadata": {},
   "outputs": [
    {
     "name": "stdout",
     "output_type": "stream",
     "text": [
      "deltaTime:  11\n",
      "deltaTime:  11\n",
      "x_hat_k__ \n",
      " [[18.99250635]\n",
      " [ 2.15454937]\n",
      " [ 3.79850127]\n",
      " [ 0.43090987]]\n",
      "P_k_1\n",
      " [[100.   100.     5.     5.  ]\n",
      " [100.   100.     5.     5.  ]\n",
      " [  5.     5.     0.25   0.25]\n",
      " [  5.     5.     0.25   0.25]]\n",
      "P_k__ \n",
      " [[325.  325.   12.5  12.5]\n",
      " [325.  325.   12.5  12.5]\n",
      " [ 12.5  12.5   0.5   0.5]\n",
      " [ 12.5  12.5   0.5   0.5]]\n",
      "K_k \n",
      " [[0.3  0.3  4.   4.  ]\n",
      " [0.3  0.3  4.   4.  ]\n",
      " [0.01 0.01 0.2  0.2 ]\n",
      " [0.01 0.01 0.2  0.2 ]]\n",
      "z_k \n",
      " [[6.06244500e+06]\n",
      " [4.36833500e+06]\n",
      " [5.19049289e+00]\n",
      " [3.14298484e-01]]\n",
      "x_a_posteriori_est \n",
      " [[3129251.74991057]\n",
      " [3129234.91195359]\n",
      " [ 104311.64210676]\n",
      " [ 104308.27451536]]\n",
      "P_k \n",
      " [[-294.   -295.    -11.5   -11.5 ]\n",
      " [-295.   -294.    -11.5   -11.5 ]\n",
      " [ -11.5   -11.5     0.55   -0.45]\n",
      " [ -11.5   -11.5    -0.45    0.55]]\n",
      "X_coord  6062445\n",
      "X STATES----:\n",
      " 6062463.992506348  compared to 6062497\n",
      "Y STATES----:\n",
      " 4368337.154549365  compared to 4368339\n"
     ]
    }
   ],
   "source": [
    "A = getA(10) #We predict each 10s\n",
    "\n",
    "X_0 =  np.array([[0],[0],[0],[0]])\n",
    "\n",
    "P_k_array = [state_proccess_cov_mat(np.array([[10],[10],[0.5],[0.5]]))]\n",
    "x_save_states = []\n",
    "y_save_states = []\n",
    "\n",
    "\n",
    "\n",
    "\n",
    "Kalman_iterator = 0\n",
    "if(Kalman_iterator < 40):\n",
    "    # GETTING THE VALUES FOR KALMAN\n",
    "    V_k,cog,cog_k_1,rot,delta_time, a_x, a_y,X_coord, Y_coord = get_data_from_dataframe(polish_data,Kalman_iterator)\n",
    "\n",
    "    if(Kalman_iterator == 0):\n",
    "        _,_,_,_,_, _, _,X_coord_1, Y_coord_1 = get_data_from_dataframe(polish_data,(Kalman_iterator))\n",
    "\n",
    "\n",
    "        #Getting the state vector\n",
    "        X_i = set_state_vector_Xi(X_coord, Y_coord, cog, V_k)\n",
    "\n",
    "\n",
    "        #Estimated state vector:\n",
    "        x_hat_k__ = pred_state_mat(a_x,a_y,10,A,X_0,w_k_1)\n",
    "\n",
    "\n",
    "        print(\"x_hat_k__ \\n\",x_hat_k__)\n",
    "\n",
    "        #Process error covariance:\n",
    "        P_k__ = process_error_covariance(A, P_k_array[Kalman_iterator],Q)\n",
    "        print(\"P_k_1\\n\",P_k_1)\n",
    "\n",
    "        print(\"P_k__ \\n\",P_k__)\n",
    "\n",
    "\n",
    "        #KALMAN GAIN:\n",
    "        K_k = np.round_(kalman_gain(P_k__, H, R),4)\n",
    "        print(\"K_k \\n\",K_k)\n",
    "\n",
    "        #z_K - measurement vector\n",
    "        z_k = set_state_vector_Xi(X_coord, Y_coord, cog, V_k)\n",
    "        print(\"z_k \\n\",z_k)\n",
    "\n",
    "\n",
    "        # a Posteriori Estimate at step k\n",
    "\n",
    "        x_a_posteriori_est = a_posteriori_est_state_k(x_hat_k__, K_k, z_k,H)\n",
    "        print(\"x_a_posteriori_est \\n\", x_a_posteriori_est)\n",
    "\n",
    "        #Process eerror covariance:\n",
    "        I = np.identity(4)\n",
    "        P_k = process_err_covariance_mat(I,K_k, H, P_k__)\n",
    "        P_k_array.append(P_k)\n",
    "        print(\"P_k \\n\", P_k)\n",
    "\n",
    "    if(Kalman_iterator > 0):\n",
    "        _,_,_,_,_, _, _,X_coord_1, Y_coord_1 = get_data_from_dataframe(polish_data,(Kalman_iterator-1))\n",
    "        x_save_states.append(X_coord_1 + delta_X(a_x,10))\n",
    "        y_save_states.append(Y_coord_1 + delta_Y(a_y,10))     \n",
    "        \n",
    "\n",
    "\n",
    "        \n",
    "print(\"X_coord \",X_coord)\n",
    "X_k = 6062445 + delta_X(a_x,10)\n",
    "Y_k = Y_coord + delta_Y(a_y,10)      \n",
    "\n",
    "\n",
    "    \n",
    "print(\"X STATES----:\\n\",X_k,\" compared to 6062497\")\n",
    "\n",
    "print(\"Y STATES----:\\n\",Y_k,\" compared to 4368339\")\n",
    "\n"
   ]
  },
  {
   "cell_type": "code",
   "execution_count": 46,
   "metadata": {},
   "outputs": [
    {
     "data": {
      "image/png": "[encoded data removed]",
      "text/plain": [
       "<Figure size 432x288 with 1 Axes>"
      ]
     },
     "metadata": {
      "needs_background": "light"
     },
     "output_type": "display_data"
    }
   ],
   "source": [
    "plt.plot(x_save_states,y_save_states, \"bx\")\n",
    "plt.plot()\n",
    "\n",
    "plt.plot(polish_data.iloc[:,2].values,polish_data.iloc[:,3], \"ro\")\n",
    "legend_Data = []\n"
   ]
  },
  {
   "cell_type": "code",
   "execution_count": 47,
   "metadata": {},
   "outputs": [
    {
     "name": "stdout",
     "output_type": "stream",
     "text": [
      "0.624388300752206\n",
      "0.624388300752206\n"
     ]
    }
   ],
   "source": [
    "print(np.arctan(Y_k/X_k))\n",
    "print(math.atan2(Y_k, X_k))"
   ]
  },
  {
   "cell_type": "markdown",
   "metadata": {},
   "source": [
    "### $\\hat{x}^{-}_{k}$"
   ]
  },
  {
   "cell_type": "code",
   "execution_count": 48,
   "metadata": {},
   "outputs": [
    {
     "data": {
      "text/plain": [
       "array([[18.99250635],\n",
       "       [ 2.15454937],\n",
       "       [ 3.79850127],\n",
       "       [ 0.43090987]])"
      ]
     },
     "execution_count": 48,
     "metadata": {},
     "output_type": "execute_result"
    }
   ],
   "source": [
    "pred_state_mat(a_x,a_y,10,A,X_0,w_k_1)"
   ]
  },
  {
   "cell_type": "code",
   "execution_count": 49,
   "metadata": {},
   "outputs": [
    {
     "name": "stdout",
     "output_type": "stream",
     "text": [
      "[[1. 0. 0. 0.]\n",
      " [0. 1. 0. 0.]\n",
      " [0. 0. 1. 0.]\n",
      " [0. 0. 0. 1.]]\n",
      "[[100.     0.     0.     0.  ]\n",
      " [  0.   100.     0.     0.  ]\n",
      " [  0.     0.     0.25   0.  ]\n",
      " [  0.     0.     0.     0.25]]\n",
      "[[0.3  0.3  4.   4.  ]\n",
      " [0.3  0.3  4.   4.  ]\n",
      " [0.01 0.01 0.2  0.2 ]\n",
      " [0.01 0.01 0.2  0.2 ]]\n"
     ]
    }
   ],
   "source": [
    "I = np.identity(4)\n",
    "\n",
    "print(H)\n",
    "print(R)\n",
    "\n",
    "K_k = kalman_gain(P_k__, H, R)\n",
    "print(K_k)"
   ]
  },
  {
   "cell_type": "code",
   "execution_count": 50,
   "metadata": {},
   "outputs": [
    {
     "name": "stdout",
     "output_type": "stream",
     "text": [
      "0.18992506347188576\n",
      "6062499.8883433435\n",
      "4368337.607004732\n"
     ]
    }
   ],
   "source": [
    "print(delta_X(a_x,-1))\n",
    "X_k = X_coord + delta_X(a_x,17)\n",
    "Y_k = Y_coord + delta_Y(a_y,11)\n",
    "print(X_k)\n",
    "print(Y_k)"
   ]
  },
  {
   "cell_type": "code",
   "execution_count": 51,
   "metadata": {},
   "outputs": [
    {
     "name": "stdout",
     "output_type": "stream",
     "text": [
      "deltaTime:  11\n",
      "5.2\n",
      "5.1\n",
      "myTime -1\n",
      "-4.182568846271218\n",
      "-0.38512769905626854\n",
      "\n",
      "\n",
      "\n",
      "x 6062497.908715577\n",
      "y 4368342.8074361505\n"
     ]
    }
   ],
   "source": [
    "\n",
    "myIterator = 1\n",
    "V_k,cog,cog_k_1,rot,delta_time, a_x, a_y,X_coord, Y_coord = get_data_from_dataframe(polish_data,myIterator)\n",
    "\n",
    "\n",
    "print(V_k)\n",
    "print(cog)\n",
    "\n",
    "myTime = 10-deltaTime\n",
    "print(\"myTime\",myTime)\n",
    "\n",
    "a_x = calc_a_x(V_k, cog, rot, cog_k_1,myTime)\n",
    "a_y = calc_a_y(V_k, cog, rot, cog_k_1,myTime)\n",
    "\n",
    "print(a_x)\n",
    "print(a_y)\n",
    "\n",
    "print(\"\\n\\n\\nx\",polish_data.iloc[myIterator,2] + delta_X(a_x,myTime))\n",
    "\n",
    "print(\"y\",polish_data.iloc[myIterator,3] + delta_Y(a_y,myTime))"
   ]
  },
  {
   "cell_type": "markdown",
   "metadata": {},
   "source": [
    "## A new approach"
   ]
  },
  {
   "cell_type": "code",
   "execution_count": 52,
   "metadata": {},
   "outputs": [
    {
     "name": "stdout",
     "output_type": "stream",
     "text": [
      "20\n",
      "      0  EstimateThisValue  myTimeDiff\n",
      "0     0                  0           0\n",
      "1    10                  1          10\n",
      "2    11                  0           0\n",
      "3    20                  0           0\n",
      "4    29                  0           0\n",
      "5    30                  1           1\n",
      "6    39                  0           0\n",
      "7    40                  1           1\n",
      "8    50                  0           0\n",
      "9    60                  0           0\n",
      "10   70                  1          10\n",
      "11   71                  0           0\n",
      "12   80                  1           9\n",
      "13   90                  1          10\n",
      "14   99                  0           0\n",
      "15  100                  1           1\n",
      "16  110                  0           0\n",
      "17  120                  1          10\n",
      "18  130                  1          10\n",
      "19  140                  0           0\n",
      "20  149                  0           0\n",
      "21  150                  1           1\n",
      "22  160                  1          10\n",
      "23  170                  0           0\n",
      "24  180                  1          10\n",
      "25  190                  1          10\n",
      "26  191                  0           0\n",
      "27  200                  0           0\n",
      "28  210                  1          10\n",
      "29  220                  1          10\n",
      "30  230                  1          10\n",
      "31  240                  1          10\n",
      "32  250                  1          10\n",
      "33  260                  1          10\n",
      "34  270                  1          10\n",
      "35  280                  1          10\n",
      "36  290                  1          10\n",
      "37  300                  1          10\n",
      "38  310                  1          10\n",
      "39  311                  0           0\n",
      "40  320                  1           9\n",
      "41  330                  1          10\n",
      "42  339                  0           0\n",
      "43  340                  1           1\n",
      "44  350                  0           0\n",
      "45  360                  0           0\n",
      "46  370                  1          10\n",
      "47  379                  0           0\n",
      "48  380                  1           1\n"
     ]
    }
   ],
   "source": [
    "time_intervals = np.array([np.arange(0,390, step = 10)])\n",
    "time_intervals\n",
    "\n",
    "#estimated_df_kalman =  pd.DataFrame(time_intervals)\n",
    "old_times = np.array([polish_data.iloc[:,0].values])\n",
    "\n",
    "\n",
    "estimated_df_kalman = np.concatenate((time_intervals,old_times), axis = 1)\n",
    "estimated_df_kalman = np.sort(np.unique(estimated_df_kalman[0]))\n",
    "estimated_df_kalman = pd.DataFrame(estimated_df_kalman)\n",
    "\n",
    "\n",
    "myKeep = []\n",
    "HaveValue = []\n",
    "EstimateThisValue = []\n",
    "myTimeDiff = []\n",
    "for i in range(0,len(estimated_df_kalman)):\n",
    "    if(estimated_df_kalman.iloc[i,0] % 10 == 0):\n",
    "        myKeep.append(1)\n",
    "    else:\n",
    "        myKeep.append(0)\n",
    "\n",
    "    if(estimated_df_kalman.iloc[i,0] in old_times[0]):\n",
    "        HaveValue.append(1)\n",
    "    else:\n",
    "        HaveValue.append(0)\n",
    "        \n",
    "    \n",
    "    if(myKeep[i] == 1 and HaveValue[i] == 0):\n",
    "        EstimateThisValue.append(1)\n",
    "    else:\n",
    "        EstimateThisValue.append(0)\n",
    "        \n",
    "    #Calculate the difference\n",
    "    if(EstimateThisValue[i] == 1):\n",
    "        myTimeDiff.append(estimated_df_kalman.iloc[i,0]-estimated_df_kalman.iloc[i-1,0])\n",
    "    else:\n",
    "        myTimeDiff.append(0)\n",
    "    \n",
    "        \n",
    "    \n",
    "        \n",
    "\n",
    "estimated_df_kalman[\"EstimateThisValue\"] = EstimateThisValue\n",
    "estimated_df_kalman[\"myTimeDiff\"] = myTimeDiff\n",
    "# estimated_df_kalman[\"ToEstimate\"] = myKeep\n",
    "# estimated_df_kalman[\"HaveValue\"] = HaveValue\n",
    "\n",
    "\n",
    "print(np.sum(HaveValue))\n",
    "print(estimated_df_kalman)\n"
   ]
  },
  {
   "cell_type": "code",
   "execution_count": null,
   "metadata": {},
   "outputs": [],
   "source": []
  },
  {
   "cell_type": "code",
   "execution_count": 53,
   "metadata": {},
   "outputs": [
    {
     "ename": "SyntaxError",
     "evalue": "invalid syntax (<ipython-input-53-f5aeab8e869c>, line 3)",
     "output_type": "error",
     "traceback": [
      "\u001b[1;36m  File \u001b[1;32m\"<ipython-input-53-f5aeab8e869c>\"\u001b[1;36m, line \u001b[1;32m3\u001b[0m\n\u001b[1;33m    Estimate_state = pred_state_mat(a_x,a_y,timeDiff,A,prev_state_mat,w_k_1):\u001b[0m\n\u001b[1;37m                                                                            ^\u001b[0m\n\u001b[1;31mSyntaxError\u001b[0m\u001b[1;31m:\u001b[0m invalid syntax\n"
     ]
    }
   ],
   "source": [
    "X_0 =  np.array([[0],[0],[0],[0]])\n",
    "\n",
    "Estimate_state = pred_state_mat(a_x,a_y,timeDiff,A,prev_state_mat,w_k_1):"
   ]
  },
  {
   "cell_type": "code",
   "execution_count": 71,
   "metadata": {},
   "outputs": [
    {
     "name": "stdout",
     "output_type": "stream",
     "text": [
      "[[100.     0.     0.     0.  ]\n",
      " [  0.   100.     0.     0.  ]\n",
      " [  0.     0.     0.25   0.  ]\n",
      " [  0.     0.     0.     0.25]]\n"
     ]
    }
   ],
   "source": [
    "print(R)"
   ]
  },
  {
   "cell_type": "code",
   "execution_count": 114,
   "metadata": {},
   "outputs": [
    {
     "data": {
      "text/plain": [
       "array([[-26.48537918],\n",
       "       [  0.        ],\n",
       "       [  0.        ],\n",
       "       [  0.        ]])"
      ]
     },
     "execution_count": 114,
     "metadata": {},
     "output_type": "execute_result"
    }
   ],
   "source": [
    "np.random.normal(0, Q, size=(4,1))\n",
    "np.random.normal(0, R, size=(4,1))"
   ]
  },
  {
   "cell_type": "code",
   "execution_count": null,
   "metadata": {},
   "outputs": [],
   "source": []
  },
  {
   "cell_type": "code",
   "execution_count": null,
   "metadata": {},
   "outputs": [],
   "source": []
  },
  {
   "cell_type": "code",
   "execution_count": null,
   "metadata": {},
   "outputs": [],
   "source": []
  },
  {
   "cell_type": "code",
   "execution_count": null,
   "metadata": {},
   "outputs": [],
   "source": []
  },
  {
   "cell_type": "code",
   "execution_count": null,
   "metadata": {},
   "outputs": [],
   "source": []
  },
  {
   "cell_type": "code",
   "execution_count": null,
   "metadata": {},
   "outputs": [],
   "source": []
  },
  {
   "cell_type": "code",
   "execution_count": null,
   "metadata": {},
   "outputs": [],
   "source": []
  },
  {
   "cell_type": "code",
   "execution_count": null,
   "metadata": {},
   "outputs": [],
   "source": []
  },
  {
   "cell_type": "code",
   "execution_count": null,
   "metadata": {},
   "outputs": [],
   "source": []
  },
  {
   "cell_type": "code",
   "execution_count": null,
   "metadata": {},
   "outputs": [],
   "source": []
  },
  {
   "cell_type": "code",
   "execution_count": null,
   "metadata": {},
   "outputs": [],
   "source": []
  },
  {
   "cell_type": "code",
   "execution_count": null,
   "metadata": {},
   "outputs": [],
   "source": []
  },
  {
   "cell_type": "code",
   "execution_count": null,
   "metadata": {},
   "outputs": [],
   "source": []
  },
  {
   "cell_type": "code",
   "execution_count": null,
   "metadata": {},
   "outputs": [],
   "source": []
  },
  {
   "cell_type": "code",
   "execution_count": null,
   "metadata": {},
   "outputs": [],
   "source": []
  },
  {
   "cell_type": "code",
   "execution_count": null,
   "metadata": {},
   "outputs": [],
   "source": []
  }
 ],
 "metadata": {
  "kernelspec": {
   "display_name": "Python 3",
   "language": "python",
   "name": "python3"
  },
  "language_info": {
   "codemirror_mode": {
    "name": "ipython",
    "version": 3
   },
   "file_extension": ".py",
   "mimetype": "text/x-python",
   "name": "python",
   "nbconvert_exporter": "python",
   "pygments_lexer": "ipython3",
   "version": "3.7.4"
  }
 },
 "nbformat": 4,
 "nbformat_minor": 2
}
